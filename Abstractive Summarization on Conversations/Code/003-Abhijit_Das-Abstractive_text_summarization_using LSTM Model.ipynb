{
  "cells": [
    {
      "cell_type": "markdown",
      "metadata": {
        "id": "1ObUxcTwUBN2"
      },
      "source": [
        "## Import Libraries and Data"
      ]
    },
    {
      "cell_type": "code",
      "source": [
        "!pip install rouge"
      ],
      "metadata": {
        "colab": {
          "base_uri": "https://localhost:8080/"
        },
        "id": "3d5BJb7kUW_a",
        "outputId": "6c785d88-3d1f-40f0-9144-b32e87712448"
      },
      "execution_count": 2,
      "outputs": [
        {
          "output_type": "stream",
          "name": "stdout",
          "text": [
            "Collecting rouge\n",
            "  Downloading rouge-1.0.1-py3-none-any.whl (13 kB)\n",
            "Requirement already satisfied: six in /usr/local/lib/python3.7/dist-packages (from rouge) (1.15.0)\n",
            "Installing collected packages: rouge\n",
            "Successfully installed rouge-1.0.1\n"
          ]
        }
      ]
    },
    {
      "cell_type": "code",
      "source": [
        "!pip install datasets"
      ],
      "metadata": {
        "colab": {
          "base_uri": "https://localhost:8080/"
        },
        "id": "qjRe07njUb6V",
        "outputId": "95189bd2-92e9-4d8c-8667-496e8e6c282c"
      },
      "execution_count": 3,
      "outputs": [
        {
          "output_type": "stream",
          "name": "stdout",
          "text": [
            "Collecting datasets\n",
            "  Downloading datasets-2.0.0-py3-none-any.whl (325 kB)\n",
            "\u001b[K     |████████████████████████████████| 325 kB 5.2 MB/s \n",
            "\u001b[?25hCollecting responses<0.19\n",
            "  Downloading responses-0.18.0-py3-none-any.whl (38 kB)\n",
            "Collecting huggingface-hub<1.0.0,>=0.1.0\n",
            "  Downloading huggingface_hub-0.5.1-py3-none-any.whl (77 kB)\n",
            "\u001b[K     |████████████████████████████████| 77 kB 7.5 MB/s \n",
            "\u001b[?25hRequirement already satisfied: numpy>=1.17 in /usr/local/lib/python3.7/dist-packages (from datasets) (1.21.5)\n",
            "Collecting fsspec[http]>=2021.05.0\n",
            "  Downloading fsspec-2022.3.0-py3-none-any.whl (136 kB)\n",
            "\u001b[K     |████████████████████████████████| 136 kB 69.2 MB/s \n",
            "\u001b[?25hRequirement already satisfied: importlib-metadata in /usr/local/lib/python3.7/dist-packages (from datasets) (4.11.3)\n",
            "Requirement already satisfied: dill in /usr/local/lib/python3.7/dist-packages (from datasets) (0.3.4)\n",
            "Requirement already satisfied: packaging in /usr/local/lib/python3.7/dist-packages (from datasets) (21.3)\n",
            "Requirement already satisfied: tqdm>=4.62.1 in /usr/local/lib/python3.7/dist-packages (from datasets) (4.64.0)\n",
            "Requirement already satisfied: multiprocess in /usr/local/lib/python3.7/dist-packages (from datasets) (0.70.12.2)\n",
            "Requirement already satisfied: pandas in /usr/local/lib/python3.7/dist-packages (from datasets) (1.3.5)\n",
            "Collecting aiohttp\n",
            "  Downloading aiohttp-3.8.1-cp37-cp37m-manylinux_2_5_x86_64.manylinux1_x86_64.manylinux_2_12_x86_64.manylinux2010_x86_64.whl (1.1 MB)\n",
            "\u001b[K     |████████████████████████████████| 1.1 MB 69.6 MB/s \n",
            "\u001b[?25hRequirement already satisfied: pyarrow>=5.0.0 in /usr/local/lib/python3.7/dist-packages (from datasets) (6.0.1)\n",
            "Requirement already satisfied: requests>=2.19.0 in /usr/local/lib/python3.7/dist-packages (from datasets) (2.23.0)\n",
            "Collecting xxhash\n",
            "  Downloading xxhash-3.0.0-cp37-cp37m-manylinux_2_17_x86_64.manylinux2014_x86_64.whl (212 kB)\n",
            "\u001b[K     |████████████████████████████████| 212 kB 86.2 MB/s \n",
            "\u001b[?25hRequirement already satisfied: typing-extensions>=3.7.4.3 in /usr/local/lib/python3.7/dist-packages (from huggingface-hub<1.0.0,>=0.1.0->datasets) (4.1.1)\n",
            "Requirement already satisfied: pyyaml in /usr/local/lib/python3.7/dist-packages (from huggingface-hub<1.0.0,>=0.1.0->datasets) (3.13)\n",
            "Requirement already satisfied: filelock in /usr/local/lib/python3.7/dist-packages (from huggingface-hub<1.0.0,>=0.1.0->datasets) (3.6.0)\n",
            "Requirement already satisfied: pyparsing!=3.0.5,>=2.0.2 in /usr/local/lib/python3.7/dist-packages (from packaging->datasets) (3.0.8)\n",
            "Requirement already satisfied: urllib3!=1.25.0,!=1.25.1,<1.26,>=1.21.1 in /usr/local/lib/python3.7/dist-packages (from requests>=2.19.0->datasets) (1.24.3)\n",
            "Requirement already satisfied: chardet<4,>=3.0.2 in /usr/local/lib/python3.7/dist-packages (from requests>=2.19.0->datasets) (3.0.4)\n",
            "Requirement already satisfied: certifi>=2017.4.17 in /usr/local/lib/python3.7/dist-packages (from requests>=2.19.0->datasets) (2021.10.8)\n",
            "Requirement already satisfied: idna<3,>=2.5 in /usr/local/lib/python3.7/dist-packages (from requests>=2.19.0->datasets) (2.10)\n",
            "Collecting urllib3!=1.25.0,!=1.25.1,<1.26,>=1.21.1\n",
            "  Downloading urllib3-1.25.11-py2.py3-none-any.whl (127 kB)\n",
            "\u001b[K     |████████████████████████████████| 127 kB 82.5 MB/s \n",
            "\u001b[?25hRequirement already satisfied: charset-normalizer<3.0,>=2.0 in /usr/local/lib/python3.7/dist-packages (from aiohttp->datasets) (2.0.12)\n",
            "Collecting asynctest==0.13.0\n",
            "  Downloading asynctest-0.13.0-py3-none-any.whl (26 kB)\n",
            "Collecting async-timeout<5.0,>=4.0.0a3\n",
            "  Downloading async_timeout-4.0.2-py3-none-any.whl (5.8 kB)\n",
            "Collecting frozenlist>=1.1.1\n",
            "  Downloading frozenlist-1.3.0-cp37-cp37m-manylinux_2_5_x86_64.manylinux1_x86_64.manylinux_2_17_x86_64.manylinux2014_x86_64.whl (144 kB)\n",
            "\u001b[K     |████████████████████████████████| 144 kB 90.0 MB/s \n",
            "\u001b[?25hRequirement already satisfied: attrs>=17.3.0 in /usr/local/lib/python3.7/dist-packages (from aiohttp->datasets) (21.4.0)\n",
            "Collecting aiosignal>=1.1.2\n",
            "  Downloading aiosignal-1.2.0-py3-none-any.whl (8.2 kB)\n",
            "Collecting multidict<7.0,>=4.5\n",
            "  Downloading multidict-6.0.2-cp37-cp37m-manylinux_2_17_x86_64.manylinux2014_x86_64.whl (94 kB)\n",
            "\u001b[K     |████████████████████████████████| 94 kB 3.8 MB/s \n",
            "\u001b[?25hCollecting yarl<2.0,>=1.0\n",
            "  Downloading yarl-1.7.2-cp37-cp37m-manylinux_2_5_x86_64.manylinux1_x86_64.manylinux_2_12_x86_64.manylinux2010_x86_64.whl (271 kB)\n",
            "\u001b[K     |████████████████████████████████| 271 kB 94.0 MB/s \n",
            "\u001b[?25hRequirement already satisfied: zipp>=0.5 in /usr/local/lib/python3.7/dist-packages (from importlib-metadata->datasets) (3.8.0)\n",
            "Requirement already satisfied: pytz>=2017.3 in /usr/local/lib/python3.7/dist-packages (from pandas->datasets) (2018.9)\n",
            "Requirement already satisfied: python-dateutil>=2.7.3 in /usr/local/lib/python3.7/dist-packages (from pandas->datasets) (2.8.2)\n",
            "Requirement already satisfied: six>=1.5 in /usr/local/lib/python3.7/dist-packages (from python-dateutil>=2.7.3->pandas->datasets) (1.15.0)\n",
            "Installing collected packages: multidict, frozenlist, yarl, urllib3, asynctest, async-timeout, aiosignal, fsspec, aiohttp, xxhash, responses, huggingface-hub, datasets\n",
            "  Attempting uninstall: urllib3\n",
            "    Found existing installation: urllib3 1.24.3\n",
            "    Uninstalling urllib3-1.24.3:\n",
            "      Successfully uninstalled urllib3-1.24.3\n",
            "\u001b[31mERROR: pip's dependency resolver does not currently take into account all the packages that are installed. This behaviour is the source of the following dependency conflicts.\n",
            "datascience 0.10.6 requires folium==0.2.1, but you have folium 0.8.3 which is incompatible.\u001b[0m\n",
            "Successfully installed aiohttp-3.8.1 aiosignal-1.2.0 async-timeout-4.0.2 asynctest-0.13.0 datasets-2.0.0 frozenlist-1.3.0 fsspec-2022.3.0 huggingface-hub-0.5.1 multidict-6.0.2 responses-0.18.0 urllib3-1.25.11 xxhash-3.0.0 yarl-1.7.2\n"
          ]
        }
      ]
    },
    {
      "cell_type": "code",
      "execution_count": 4,
      "metadata": {
        "_cell_guid": "b1076dfc-b9ad-4769-8c92-a6c4dae69d19",
        "_uuid": "8f2839f25d086af736a60e9eeb907d3b93b6e0e5",
        "id": "DGB_-efdUBN5"
      },
      "outputs": [],
      "source": [
        "import numpy as np\n",
        "import pandas as pd\n",
        "import re\n",
        "import random\n",
        "from keras.preprocessing.text import Tokenizer \n",
        "from keras.preprocessing.sequence import pad_sequences\n",
        "import keras\n",
        "from keras.layers import Input, LSTM, Embedding, Dense, concatenate, TimeDistributed, Add, dot, Activation\n",
        "from keras.models import Model\n",
        "from keras.callbacks import EarlyStopping, ModelCheckpoint\n",
        "from rouge import Rouge\n",
        "\n",
        "import matplotlib.pyplot as plt\n",
        "%matplotlib inline\n",
        "\n",
        "import warnings\n",
        "pd.set_option(\"display.max_colwidth\", 200)\n",
        "warnings.filterwarnings(\"ignore\")"
      ]
    },
    {
      "cell_type": "code",
      "execution_count": 5,
      "metadata": {
        "colab": {
          "base_uri": "https://localhost:8080/",
          "height": 281,
          "referenced_widgets": [
            "54f481f1f7c04627b0cf9e4bf22197dc",
            "084b1eca2d004ba18493a7c4064437f6",
            "d600b8e0e2974e2299d2f3cf9d9198c7",
            "4f6dce322cf64df99b0e085b789d951c",
            "263bce0d744348d58b43ac97c261e2ca",
            "1e4513a2903a428fa1acf980df87568c",
            "9f66f41d0ae64bf8beddab2c7c9c8699",
            "4d02ab608a2d458fb94142670861a0dd",
            "14c2ddd5e9c94d02a59f0b433e7c9b17",
            "1fae6954c0c1406e8380029fbfeaedb6",
            "ba79cc7a672445bea3c5c702d387e0a8",
            "4f38df0f6f9e4e4d9c97b58229d8f9d7",
            "5c5f6d97aa634870ae39bcaa6a156f39",
            "17c2c693c8544ddca05595b278549010",
            "885b434584df4718adf56cbe5e552e7d",
            "ea1dada722314149ad9cebc1301989ce",
            "4345c69d337240e195e8fbe69e37309a",
            "3185437ea1d94cc196e7b53094f3d57e",
            "ebbf51b1e6d64859beba8be81df4ce7b",
            "a98eb0cf22364d5f93c4ac114ecc23f8",
            "ff40262a11ae46ca881a1ac41459627a",
            "68dd573d770f4486a594d9621efc94c4",
            "de3e5c01b3a24f0cb94ec7399f19c126",
            "47029683272a400996e6a83dfaa967a3",
            "74a1706a03bd414e80c5628f7e590187",
            "a87953db41b043be874e4c21b63bb104",
            "64367c8b351a4433a040f5a564323610",
            "cb6e231e95e54cddb93ac4771346caad",
            "dc3a193c04464d80aa69bc5ff7da4f59",
            "89bd0552dae44b959f1e6ca167993085",
            "7c91f57117cf45c093bcceed7efe75cd",
            "a423d367ff89405397f4c338f94bf732",
            "14c0576fcd10491d80e5aad8293304ec",
            "9974f24889f94942b481c34f3fd8af9e",
            "5209f58eb2e74050b31e29648e294287",
            "2c35170a44d147c88c2534bf5a6b2c88",
            "1a705aaf50e449edaeef1342492d69fb",
            "936bff5a7b3f4a429c12c3cc36ea0160",
            "6df3700cd6bb40eab97eec5bbd6f668d",
            "40bc9a9d87c248eb8ec36a6e9cdcc432",
            "98cb197078a141649c73835fd4313769",
            "9c8a369de3834c6a83daf86fdd801f49",
            "743ef7efe087442fafdd40a432c636cc",
            "0abc4ee9c5014fed829ec3dcf07dad33",
            "5040a9f3278f48c9a74ab11cd4408608",
            "92fc58a671c1411e961c80d2cbb8c4fd",
            "2348b0f721c84e0188bf1b2fbc59acaa",
            "df9cbcb7a4ec450a8e040715c68d0dbf",
            "ffa7bbd426d447f482334fee06d44ab1",
            "ffe5b56a1abc40648f5182253c7a532d",
            "71911c3829164c139e25db0c3bb16757",
            "e0fb95f294e54a2499008951b47fe404",
            "55d3733d1d494e9e88907471c12b0f1c",
            "4be4e197535f433fa9e47ed9929852fa",
            "31896af608874062874a87d3a921e46a",
            "603c82e273474ed3ba7ad38d58357346",
            "b7e3f4c1578a47129ac11d5f14dd64e5",
            "735061981d37451caeeac2cbe4e49a51",
            "e8d3066f93784c90994aef09d0a26a89",
            "68d59313796845ca9a8f717752f01789",
            "f75b7a08ad7f48bcaa425d26ffe0ba54",
            "b83294a7d38942e891a166b1e81a74b2",
            "f9e5a4e6325e4eb0ac42f84ad052adc1",
            "785d69da667e45cc967dba64a0acddec",
            "f04ceebf275e4cbe88224d692b592736",
            "16fd415f257f4015a6076da47b97c7a1",
            "6ba456d03285434c9665033c9419fe09",
            "8e90fdc77fcd4847b07d392b1c6d761f",
            "df2356d2f4704bb598de5041f872365b",
            "723158fafa484a54a4b9a631c66d64c7",
            "2b71fd142ac44195a1a7424286b8aea4",
            "db52fcef560f4eb681db5f0050984c56",
            "440e4c9f07e04e0189083a329ed44bd7",
            "b35c2c266fa84928b5ac3e8f13d1d6da",
            "e26241cf494d4f30938003ad56494955",
            "ee3078306d47403c9d07f9624998bb3d",
            "0a0d439a3c56454688c81a776c6e9141",
            "aaddb0b96cef4cbe967e34d6f677ab35",
            "f14f76f0d39f48a6a0b8afd7d774f5ea",
            "cddeb26d0dbd454eaaccb1abb2039890",
            "7fd7132ca0654ca68bd518fe22982d91",
            "d32e0e743ec343ea9a81ba3d0da16d10",
            "245a59fb9bb341309c73d485b02a8367",
            "8aaadc5768784ef9809f77c41437085d",
            "dc53ecb0aa044773a45eefe86f30fd75",
            "24af07ff308046b1b6c69703a6284326",
            "156b7b1baec248cea499392476aa3d46",
            "1b749e12913c41e09ac61a9df294c2c8",
            "9b5956b99fef4fb582a933d90ced8328",
            "6c14ec916c974579bfddc49fbcc69c77",
            "ac1ea8c1a2e6485d9f1d35ecb9cd4a81",
            "2ed74ea005ae4472baa45638e3dd4f82",
            "3b8ba978316840e491efc8fa619eea16",
            "a4913a32533c4bb1a0acfaf69e6a1d05",
            "84b5d9f6630c448697e9de0364e67992",
            "72b899eee95946f6b0c9a5d0b941f10c",
            "e7ddbd18bc394feea2d37c47a93d9694",
            "68486d28884742409ed34bb9829cb492",
            "fbfe2cf4b4c04bff998e1a0ada0f0875"
          ]
        },
        "id": "Z_85YK63UBN7",
        "outputId": "30917722-9240-4360-c249-18be2347d3fa"
      },
      "outputs": [
        {
          "output_type": "display_data",
          "data": {
            "text/plain": [
              "Downloading builder script:   0%|          | 0.00/2.05k [00:00<?, ?B/s]"
            ],
            "application/vnd.jupyter.widget-view+json": {
              "version_major": 2,
              "version_minor": 0,
              "model_id": "54f481f1f7c04627b0cf9e4bf22197dc"
            }
          },
          "metadata": {}
        },
        {
          "output_type": "display_data",
          "data": {
            "text/plain": [
              "Downloading metadata:   0%|          | 0.00/954 [00:00<?, ?B/s]"
            ],
            "application/vnd.jupyter.widget-view+json": {
              "version_major": 2,
              "version_minor": 0,
              "model_id": "4f38df0f6f9e4e4d9c97b58229d8f9d7"
            }
          },
          "metadata": {}
        },
        {
          "output_type": "stream",
          "name": "stderr",
          "text": [
            "Using custom data configuration default\n"
          ]
        },
        {
          "output_type": "stream",
          "name": "stdout",
          "text": [
            "Downloading and preparing dataset xsum/default (download: 245.38 MiB, generated: 507.60 MiB, post-processed: Unknown size, total: 752.98 MiB) to /root/.cache/huggingface/datasets/xsum/default/1.2.0/32c23220eadddb1149b16ed2e9430a05293768cfffbdfd151058697d4c11f934...\n"
          ]
        },
        {
          "output_type": "display_data",
          "data": {
            "text/plain": [
              "Downloading data files:   0%|          | 0/2 [00:00<?, ?it/s]"
            ],
            "application/vnd.jupyter.widget-view+json": {
              "version_major": 2,
              "version_minor": 0,
              "model_id": "de3e5c01b3a24f0cb94ec7399f19c126"
            }
          },
          "metadata": {}
        },
        {
          "output_type": "display_data",
          "data": {
            "text/plain": [
              "Downloading data:   0%|          | 0.00/255M [00:00<?, ?B/s]"
            ],
            "application/vnd.jupyter.widget-view+json": {
              "version_major": 2,
              "version_minor": 0,
              "model_id": "9974f24889f94942b481c34f3fd8af9e"
            }
          },
          "metadata": {}
        },
        {
          "output_type": "display_data",
          "data": {
            "text/plain": [
              "Downloading data:   0%|          | 0.00/1.00M [00:00<?, ?B/s]"
            ],
            "application/vnd.jupyter.widget-view+json": {
              "version_major": 2,
              "version_minor": 0,
              "model_id": "5040a9f3278f48c9a74ab11cd4408608"
            }
          },
          "metadata": {}
        },
        {
          "output_type": "display_data",
          "data": {
            "text/plain": [
              "Generating train split:   0%|          | 0/204045 [00:00<?, ? examples/s]"
            ],
            "application/vnd.jupyter.widget-view+json": {
              "version_major": 2,
              "version_minor": 0,
              "model_id": "603c82e273474ed3ba7ad38d58357346"
            }
          },
          "metadata": {}
        },
        {
          "output_type": "display_data",
          "data": {
            "text/plain": [
              "Generating validation split:   0%|          | 0/11332 [00:00<?, ? examples/s]"
            ],
            "application/vnd.jupyter.widget-view+json": {
              "version_major": 2,
              "version_minor": 0,
              "model_id": "6ba456d03285434c9665033c9419fe09"
            }
          },
          "metadata": {}
        },
        {
          "output_type": "display_data",
          "data": {
            "text/plain": [
              "Generating test split:   0%|          | 0/11334 [00:00<?, ? examples/s]"
            ],
            "application/vnd.jupyter.widget-view+json": {
              "version_major": 2,
              "version_minor": 0,
              "model_id": "aaddb0b96cef4cbe967e34d6f677ab35"
            }
          },
          "metadata": {}
        },
        {
          "output_type": "stream",
          "name": "stdout",
          "text": [
            "Dataset xsum downloaded and prepared to /root/.cache/huggingface/datasets/xsum/default/1.2.0/32c23220eadddb1149b16ed2e9430a05293768cfffbdfd151058697d4c11f934. Subsequent calls will reuse this data.\n"
          ]
        },
        {
          "output_type": "display_data",
          "data": {
            "text/plain": [
              "  0%|          | 0/3 [00:00<?, ?it/s]"
            ],
            "application/vnd.jupyter.widget-view+json": {
              "version_major": 2,
              "version_minor": 0,
              "model_id": "9b5956b99fef4fb582a933d90ced8328"
            }
          },
          "metadata": {}
        }
      ],
      "source": [
        "from datasets import load_dataset\n",
        "raw_datasets = load_dataset(\"xsum\")"
      ]
    },
    {
      "cell_type": "code",
      "execution_count": 6,
      "metadata": {
        "colab": {
          "base_uri": "https://localhost:8080/"
        },
        "id": "4BYwuop3UBN8",
        "outputId": "d4d65826-4fe1-4838-d4c8-8921ecbebed6"
      },
      "outputs": [
        {
          "output_type": "execute_result",
          "data": {
            "text/plain": [
              "DatasetDict({\n",
              "    train: Dataset({\n",
              "        features: ['document', 'summary', 'id'],\n",
              "        num_rows: 204045\n",
              "    })\n",
              "    validation: Dataset({\n",
              "        features: ['document', 'summary', 'id'],\n",
              "        num_rows: 11332\n",
              "    })\n",
              "    test: Dataset({\n",
              "        features: ['document', 'summary', 'id'],\n",
              "        num_rows: 11334\n",
              "    })\n",
              "})"
            ]
          },
          "metadata": {},
          "execution_count": 6
        }
      ],
      "source": [
        "raw_datasets"
      ]
    },
    {
      "cell_type": "code",
      "execution_count": 7,
      "metadata": {
        "colab": {
          "base_uri": "https://localhost:8080/",
          "height": 337
        },
        "id": "3HEo3xItUBN8",
        "outputId": "0a95c5d6-40d8-4f8c-c81c-9c1cda029bb6"
      },
      "outputs": [
        {
          "output_type": "execute_result",
          "data": {
            "text/plain": [
              "                                                                                                                                                                                                  document  \\\n",
              "0  The full cost of damage in Newton Stewart, one of the areas worst affected, is still being assessed.\\nRepair work is ongoing in Hawick and many roads in Peeblesshire remain badly affected by stand...   \n",
              "1  A fire alarm went off at the Holiday Inn in Hope Street at about 04:20 BST on Saturday and guests were asked to leave the hotel.\\nAs they gathered outside they saw the two buses, parked side-by-si...   \n",
              "2  Ferrari appeared in a position to challenge until the final laps, when the Mercedes stretched their legs to go half a second clear of the red cars.\\nSebastian Vettel will start third ahead of team...   \n",
              "3  John Edward Bates, formerly of Spalding, Lincolnshire, but now living in London, faces a total of 22 charges, including two counts of indecency with a child.\\nThe 67-year-old is accused of committ...   \n",
              "4  Patients and staff were evacuated from Cerahpasa hospital on Wednesday after a man receiving treatment at the clinic threatened to shoot himself and others.\\nOfficers were deployed to negotiate wi...   \n",
              "\n",
              "                                                                                                                                         summary  \\\n",
              "0                 Clean-up operations are continuing across the Scottish Borders and Dumfries and Galloway after flooding caused by Storm Frank.   \n",
              "1                                              Two tourist buses have been destroyed by fire in a suspected arson attack in Belfast city centre.   \n",
              "2                                    Lewis Hamilton stormed to pole position at the Bahrain Grand Prix ahead of Mercedes team-mate Nico Rosberg.   \n",
              "3                      A former Lincolnshire Police officer carried out a series of sex attacks on boys, a jury at Lincoln Crown Court was told.   \n",
              "4  An armed man who locked himself into a room at a psychiatric hospital in Istanbul has ended his threat to kill himself, Turkish media report.   \n",
              "\n",
              "         id  \n",
              "0  35232142  \n",
              "1  40143035  \n",
              "2  35951548  \n",
              "3  36266422  \n",
              "4  38826984  "
            ],
            "text/html": [
              "\n",
              "  <div id=\"df-136accb1-d49b-4c05-b52a-c16cc5cb6185\">\n",
              "    <div class=\"colab-df-container\">\n",
              "      <div>\n",
              "<style scoped>\n",
              "    .dataframe tbody tr th:only-of-type {\n",
              "        vertical-align: middle;\n",
              "    }\n",
              "\n",
              "    .dataframe tbody tr th {\n",
              "        vertical-align: top;\n",
              "    }\n",
              "\n",
              "    .dataframe thead th {\n",
              "        text-align: right;\n",
              "    }\n",
              "</style>\n",
              "<table border=\"1\" class=\"dataframe\">\n",
              "  <thead>\n",
              "    <tr style=\"text-align: right;\">\n",
              "      <th></th>\n",
              "      <th>document</th>\n",
              "      <th>summary</th>\n",
              "      <th>id</th>\n",
              "    </tr>\n",
              "  </thead>\n",
              "  <tbody>\n",
              "    <tr>\n",
              "      <th>0</th>\n",
              "      <td>The full cost of damage in Newton Stewart, one of the areas worst affected, is still being assessed.\\nRepair work is ongoing in Hawick and many roads in Peeblesshire remain badly affected by stand...</td>\n",
              "      <td>Clean-up operations are continuing across the Scottish Borders and Dumfries and Galloway after flooding caused by Storm Frank.</td>\n",
              "      <td>35232142</td>\n",
              "    </tr>\n",
              "    <tr>\n",
              "      <th>1</th>\n",
              "      <td>A fire alarm went off at the Holiday Inn in Hope Street at about 04:20 BST on Saturday and guests were asked to leave the hotel.\\nAs they gathered outside they saw the two buses, parked side-by-si...</td>\n",
              "      <td>Two tourist buses have been destroyed by fire in a suspected arson attack in Belfast city centre.</td>\n",
              "      <td>40143035</td>\n",
              "    </tr>\n",
              "    <tr>\n",
              "      <th>2</th>\n",
              "      <td>Ferrari appeared in a position to challenge until the final laps, when the Mercedes stretched their legs to go half a second clear of the red cars.\\nSebastian Vettel will start third ahead of team...</td>\n",
              "      <td>Lewis Hamilton stormed to pole position at the Bahrain Grand Prix ahead of Mercedes team-mate Nico Rosberg.</td>\n",
              "      <td>35951548</td>\n",
              "    </tr>\n",
              "    <tr>\n",
              "      <th>3</th>\n",
              "      <td>John Edward Bates, formerly of Spalding, Lincolnshire, but now living in London, faces a total of 22 charges, including two counts of indecency with a child.\\nThe 67-year-old is accused of committ...</td>\n",
              "      <td>A former Lincolnshire Police officer carried out a series of sex attacks on boys, a jury at Lincoln Crown Court was told.</td>\n",
              "      <td>36266422</td>\n",
              "    </tr>\n",
              "    <tr>\n",
              "      <th>4</th>\n",
              "      <td>Patients and staff were evacuated from Cerahpasa hospital on Wednesday after a man receiving treatment at the clinic threatened to shoot himself and others.\\nOfficers were deployed to negotiate wi...</td>\n",
              "      <td>An armed man who locked himself into a room at a psychiatric hospital in Istanbul has ended his threat to kill himself, Turkish media report.</td>\n",
              "      <td>38826984</td>\n",
              "    </tr>\n",
              "  </tbody>\n",
              "</table>\n",
              "</div>\n",
              "      <button class=\"colab-df-convert\" onclick=\"convertToInteractive('df-136accb1-d49b-4c05-b52a-c16cc5cb6185')\"\n",
              "              title=\"Convert this dataframe to an interactive table.\"\n",
              "              style=\"display:none;\">\n",
              "        \n",
              "  <svg xmlns=\"http://www.w3.org/2000/svg\" height=\"24px\"viewBox=\"0 0 24 24\"\n",
              "       width=\"24px\">\n",
              "    <path d=\"M0 0h24v24H0V0z\" fill=\"none\"/>\n",
              "    <path d=\"M18.56 5.44l.94 2.06.94-2.06 2.06-.94-2.06-.94-.94-2.06-.94 2.06-2.06.94zm-11 1L8.5 8.5l.94-2.06 2.06-.94-2.06-.94L8.5 2.5l-.94 2.06-2.06.94zm10 10l.94 2.06.94-2.06 2.06-.94-2.06-.94-.94-2.06-.94 2.06-2.06.94z\"/><path d=\"M17.41 7.96l-1.37-1.37c-.4-.4-.92-.59-1.43-.59-.52 0-1.04.2-1.43.59L10.3 9.45l-7.72 7.72c-.78.78-.78 2.05 0 2.83L4 21.41c.39.39.9.59 1.41.59.51 0 1.02-.2 1.41-.59l7.78-7.78 2.81-2.81c.8-.78.8-2.07 0-2.86zM5.41 20L4 18.59l7.72-7.72 1.47 1.35L5.41 20z\"/>\n",
              "  </svg>\n",
              "      </button>\n",
              "      \n",
              "  <style>\n",
              "    .colab-df-container {\n",
              "      display:flex;\n",
              "      flex-wrap:wrap;\n",
              "      gap: 12px;\n",
              "    }\n",
              "\n",
              "    .colab-df-convert {\n",
              "      background-color: #E8F0FE;\n",
              "      border: none;\n",
              "      border-radius: 50%;\n",
              "      cursor: pointer;\n",
              "      display: none;\n",
              "      fill: #1967D2;\n",
              "      height: 32px;\n",
              "      padding: 0 0 0 0;\n",
              "      width: 32px;\n",
              "    }\n",
              "\n",
              "    .colab-df-convert:hover {\n",
              "      background-color: #E2EBFA;\n",
              "      box-shadow: 0px 1px 2px rgba(60, 64, 67, 0.3), 0px 1px 3px 1px rgba(60, 64, 67, 0.15);\n",
              "      fill: #174EA6;\n",
              "    }\n",
              "\n",
              "    [theme=dark] .colab-df-convert {\n",
              "      background-color: #3B4455;\n",
              "      fill: #D2E3FC;\n",
              "    }\n",
              "\n",
              "    [theme=dark] .colab-df-convert:hover {\n",
              "      background-color: #434B5C;\n",
              "      box-shadow: 0px 1px 3px 1px rgba(0, 0, 0, 0.15);\n",
              "      filter: drop-shadow(0px 1px 2px rgba(0, 0, 0, 0.3));\n",
              "      fill: #FFFFFF;\n",
              "    }\n",
              "  </style>\n",
              "\n",
              "      <script>\n",
              "        const buttonEl =\n",
              "          document.querySelector('#df-136accb1-d49b-4c05-b52a-c16cc5cb6185 button.colab-df-convert');\n",
              "        buttonEl.style.display =\n",
              "          google.colab.kernel.accessAllowed ? 'block' : 'none';\n",
              "\n",
              "        async function convertToInteractive(key) {\n",
              "          const element = document.querySelector('#df-136accb1-d49b-4c05-b52a-c16cc5cb6185');\n",
              "          const dataTable =\n",
              "            await google.colab.kernel.invokeFunction('convertToInteractive',\n",
              "                                                     [key], {});\n",
              "          if (!dataTable) return;\n",
              "\n",
              "          const docLinkHtml = 'Like what you see? Visit the ' +\n",
              "            '<a target=\"_blank\" href=https://colab.research.google.com/notebooks/data_table.ipynb>data table notebook</a>'\n",
              "            + ' to learn more about interactive tables.';\n",
              "          element.innerHTML = '';\n",
              "          dataTable['output_type'] = 'display_data';\n",
              "          await google.colab.output.renderOutput(dataTable, element);\n",
              "          const docLink = document.createElement('div');\n",
              "          docLink.innerHTML = docLinkHtml;\n",
              "          element.appendChild(docLink);\n",
              "        }\n",
              "      </script>\n",
              "    </div>\n",
              "  </div>\n",
              "  "
            ]
          },
          "metadata": {},
          "execution_count": 7
        }
      ],
      "source": [
        "df_train = pd.DataFrame(data=raw_datasets['train'], columns=raw_datasets['train'].column_names)\n",
        "df_train.head()"
      ]
    },
    {
      "cell_type": "code",
      "execution_count": 8,
      "metadata": {
        "colab": {
          "base_uri": "https://localhost:8080/"
        },
        "id": "HXKoAGjlUBN9",
        "outputId": "660e52c3-56c9-47e7-ec24-c4eba5f244c9"
      },
      "outputs": [
        {
          "output_type": "execute_result",
          "data": {
            "text/plain": [
              "(204045, 3)"
            ]
          },
          "metadata": {},
          "execution_count": 8
        }
      ],
      "source": [
        "df_train.shape"
      ]
    },
    {
      "cell_type": "code",
      "execution_count": 9,
      "metadata": {
        "colab": {
          "base_uri": "https://localhost:8080/",
          "height": 337
        },
        "id": "YV8QzM8EUBN9",
        "outputId": "e3caaeae-f097-4746-f158-469b8eee727d"
      },
      "outputs": [
        {
          "output_type": "execute_result",
          "data": {
            "text/plain": [
              "                                                                                                                                                                                                  document  \\\n",
              "0  Prison Link Cymru had 1,099 referrals in 2015-16 and said some ex-offenders were living rough for up to a year before finding suitable accommodation.\\nWorkers at the charity claim investment in ho...   \n",
              "1  Officers searched properties in the Waterfront Park and Colonsay View areas of the city on Wednesday.\\nDetectives said three firearms, ammunition and a five-figure sum of money were recovered.\\nA ...   \n",
              "2  Jordan Hill, Brittany Covington and Tesfaye Cooper, all 18, and Tanishia Covington, 24, appeared in a Chicago court on Friday.\\nThe four have been charged with hate crimes and aggravated kidnappin...   \n",
              "3  The 48-year-old former Arsenal goalkeeper played for the Royals for four years.\\nHe was appointed youth academy director in 2000 and has been director of football since 2003.\\nA West Brom statemen...   \n",
              "4  Restoring the function of the organ - which helps control blood sugar levels - reversed symptoms of diabetes in animal experiments.\\nThe study, published in the journal Cell, says the diet reboots...   \n",
              "\n",
              "                                                                                                                                                summary  \\\n",
              "0                                                       There is a \"chronic\" need for more housing for prison leavers in Wales, according to a charity.   \n",
              "1                                                   A man has appeared in court after firearms, ammunition and cash were seized by police in Edinburgh.   \n",
              "2  Four people accused of kidnapping and torturing a mentally disabled man in a \"racially motivated\" attack streamed on Facebook have been denied bail.   \n",
              "3                                            West Brom have appointed Nicky Hammond as technical director, ending his 20-year association with Reading.   \n",
              "4                                                The pancreas can be triggered to regenerate itself through a type of fasting diet, say US researchers.   \n",
              "\n",
              "         id  \n",
              "0  38264402  \n",
              "1  34227252  \n",
              "2  38537698  \n",
              "3  36175342  \n",
              "4  39070183  "
            ],
            "text/html": [
              "\n",
              "  <div id=\"df-e1777604-ba00-4be7-95e0-1089f835b9da\">\n",
              "    <div class=\"colab-df-container\">\n",
              "      <div>\n",
              "<style scoped>\n",
              "    .dataframe tbody tr th:only-of-type {\n",
              "        vertical-align: middle;\n",
              "    }\n",
              "\n",
              "    .dataframe tbody tr th {\n",
              "        vertical-align: top;\n",
              "    }\n",
              "\n",
              "    .dataframe thead th {\n",
              "        text-align: right;\n",
              "    }\n",
              "</style>\n",
              "<table border=\"1\" class=\"dataframe\">\n",
              "  <thead>\n",
              "    <tr style=\"text-align: right;\">\n",
              "      <th></th>\n",
              "      <th>document</th>\n",
              "      <th>summary</th>\n",
              "      <th>id</th>\n",
              "    </tr>\n",
              "  </thead>\n",
              "  <tbody>\n",
              "    <tr>\n",
              "      <th>0</th>\n",
              "      <td>Prison Link Cymru had 1,099 referrals in 2015-16 and said some ex-offenders were living rough for up to a year before finding suitable accommodation.\\nWorkers at the charity claim investment in ho...</td>\n",
              "      <td>There is a \"chronic\" need for more housing for prison leavers in Wales, according to a charity.</td>\n",
              "      <td>38264402</td>\n",
              "    </tr>\n",
              "    <tr>\n",
              "      <th>1</th>\n",
              "      <td>Officers searched properties in the Waterfront Park and Colonsay View areas of the city on Wednesday.\\nDetectives said three firearms, ammunition and a five-figure sum of money were recovered.\\nA ...</td>\n",
              "      <td>A man has appeared in court after firearms, ammunition and cash were seized by police in Edinburgh.</td>\n",
              "      <td>34227252</td>\n",
              "    </tr>\n",
              "    <tr>\n",
              "      <th>2</th>\n",
              "      <td>Jordan Hill, Brittany Covington and Tesfaye Cooper, all 18, and Tanishia Covington, 24, appeared in a Chicago court on Friday.\\nThe four have been charged with hate crimes and aggravated kidnappin...</td>\n",
              "      <td>Four people accused of kidnapping and torturing a mentally disabled man in a \"racially motivated\" attack streamed on Facebook have been denied bail.</td>\n",
              "      <td>38537698</td>\n",
              "    </tr>\n",
              "    <tr>\n",
              "      <th>3</th>\n",
              "      <td>The 48-year-old former Arsenal goalkeeper played for the Royals for four years.\\nHe was appointed youth academy director in 2000 and has been director of football since 2003.\\nA West Brom statemen...</td>\n",
              "      <td>West Brom have appointed Nicky Hammond as technical director, ending his 20-year association with Reading.</td>\n",
              "      <td>36175342</td>\n",
              "    </tr>\n",
              "    <tr>\n",
              "      <th>4</th>\n",
              "      <td>Restoring the function of the organ - which helps control blood sugar levels - reversed symptoms of diabetes in animal experiments.\\nThe study, published in the journal Cell, says the diet reboots...</td>\n",
              "      <td>The pancreas can be triggered to regenerate itself through a type of fasting diet, say US researchers.</td>\n",
              "      <td>39070183</td>\n",
              "    </tr>\n",
              "  </tbody>\n",
              "</table>\n",
              "</div>\n",
              "      <button class=\"colab-df-convert\" onclick=\"convertToInteractive('df-e1777604-ba00-4be7-95e0-1089f835b9da')\"\n",
              "              title=\"Convert this dataframe to an interactive table.\"\n",
              "              style=\"display:none;\">\n",
              "        \n",
              "  <svg xmlns=\"http://www.w3.org/2000/svg\" height=\"24px\"viewBox=\"0 0 24 24\"\n",
              "       width=\"24px\">\n",
              "    <path d=\"M0 0h24v24H0V0z\" fill=\"none\"/>\n",
              "    <path d=\"M18.56 5.44l.94 2.06.94-2.06 2.06-.94-2.06-.94-.94-2.06-.94 2.06-2.06.94zm-11 1L8.5 8.5l.94-2.06 2.06-.94-2.06-.94L8.5 2.5l-.94 2.06-2.06.94zm10 10l.94 2.06.94-2.06 2.06-.94-2.06-.94-.94-2.06-.94 2.06-2.06.94z\"/><path d=\"M17.41 7.96l-1.37-1.37c-.4-.4-.92-.59-1.43-.59-.52 0-1.04.2-1.43.59L10.3 9.45l-7.72 7.72c-.78.78-.78 2.05 0 2.83L4 21.41c.39.39.9.59 1.41.59.51 0 1.02-.2 1.41-.59l7.78-7.78 2.81-2.81c.8-.78.8-2.07 0-2.86zM5.41 20L4 18.59l7.72-7.72 1.47 1.35L5.41 20z\"/>\n",
              "  </svg>\n",
              "      </button>\n",
              "      \n",
              "  <style>\n",
              "    .colab-df-container {\n",
              "      display:flex;\n",
              "      flex-wrap:wrap;\n",
              "      gap: 12px;\n",
              "    }\n",
              "\n",
              "    .colab-df-convert {\n",
              "      background-color: #E8F0FE;\n",
              "      border: none;\n",
              "      border-radius: 50%;\n",
              "      cursor: pointer;\n",
              "      display: none;\n",
              "      fill: #1967D2;\n",
              "      height: 32px;\n",
              "      padding: 0 0 0 0;\n",
              "      width: 32px;\n",
              "    }\n",
              "\n",
              "    .colab-df-convert:hover {\n",
              "      background-color: #E2EBFA;\n",
              "      box-shadow: 0px 1px 2px rgba(60, 64, 67, 0.3), 0px 1px 3px 1px rgba(60, 64, 67, 0.15);\n",
              "      fill: #174EA6;\n",
              "    }\n",
              "\n",
              "    [theme=dark] .colab-df-convert {\n",
              "      background-color: #3B4455;\n",
              "      fill: #D2E3FC;\n",
              "    }\n",
              "\n",
              "    [theme=dark] .colab-df-convert:hover {\n",
              "      background-color: #434B5C;\n",
              "      box-shadow: 0px 1px 3px 1px rgba(0, 0, 0, 0.15);\n",
              "      filter: drop-shadow(0px 1px 2px rgba(0, 0, 0, 0.3));\n",
              "      fill: #FFFFFF;\n",
              "    }\n",
              "  </style>\n",
              "\n",
              "      <script>\n",
              "        const buttonEl =\n",
              "          document.querySelector('#df-e1777604-ba00-4be7-95e0-1089f835b9da button.colab-df-convert');\n",
              "        buttonEl.style.display =\n",
              "          google.colab.kernel.accessAllowed ? 'block' : 'none';\n",
              "\n",
              "        async function convertToInteractive(key) {\n",
              "          const element = document.querySelector('#df-e1777604-ba00-4be7-95e0-1089f835b9da');\n",
              "          const dataTable =\n",
              "            await google.colab.kernel.invokeFunction('convertToInteractive',\n",
              "                                                     [key], {});\n",
              "          if (!dataTable) return;\n",
              "\n",
              "          const docLinkHtml = 'Like what you see? Visit the ' +\n",
              "            '<a target=\"_blank\" href=https://colab.research.google.com/notebooks/data_table.ipynb>data table notebook</a>'\n",
              "            + ' to learn more about interactive tables.';\n",
              "          element.innerHTML = '';\n",
              "          dataTable['output_type'] = 'display_data';\n",
              "          await google.colab.output.renderOutput(dataTable, element);\n",
              "          const docLink = document.createElement('div');\n",
              "          docLink.innerHTML = docLinkHtml;\n",
              "          element.appendChild(docLink);\n",
              "        }\n",
              "      </script>\n",
              "    </div>\n",
              "  </div>\n",
              "  "
            ]
          },
          "metadata": {},
          "execution_count": 9
        }
      ],
      "source": [
        "df_test = pd.DataFrame(data=raw_datasets['test'], columns=raw_datasets['test'].column_names)\n",
        "df_test.head()"
      ]
    },
    {
      "cell_type": "markdown",
      "metadata": {
        "id": "HDz_n97tUBN-"
      },
      "source": [
        "## Check Missing Data "
      ]
    },
    {
      "cell_type": "code",
      "execution_count": 10,
      "metadata": {
        "colab": {
          "base_uri": "https://localhost:8080/"
        },
        "id": "1fPC3Q19UBN-",
        "outputId": "f6268b1c-e91b-4ef6-d039-e99dfde5e7ad"
      },
      "outputs": [
        {
          "output_type": "execute_result",
          "data": {
            "text/plain": [
              "document    0\n",
              "summary     0\n",
              "id          0\n",
              "dtype: int64"
            ]
          },
          "metadata": {},
          "execution_count": 10
        }
      ],
      "source": [
        "df_train.isnull().sum()"
      ]
    },
    {
      "cell_type": "code",
      "execution_count": 11,
      "metadata": {
        "colab": {
          "base_uri": "https://localhost:8080/"
        },
        "id": "2xZz70KTUBN_",
        "outputId": "15b53fb6-3863-4abf-9895-d859a8993ba9"
      },
      "outputs": [
        {
          "output_type": "execute_result",
          "data": {
            "text/plain": [
              "document    0\n",
              "summary     0\n",
              "id          0\n",
              "dtype: int64"
            ]
          },
          "metadata": {},
          "execution_count": 11
        }
      ],
      "source": [
        "df_test.isnull().sum()"
      ]
    },
    {
      "cell_type": "code",
      "execution_count": 12,
      "metadata": {
        "id": "SfX6sr0aUBOA"
      },
      "outputs": [],
      "source": [
        "# drop observations with missing data\n",
        "df_train.dropna(axis=0,inplace=True)"
      ]
    },
    {
      "cell_type": "code",
      "execution_count": 13,
      "metadata": {
        "id": "0CpspZ_5UBOA"
      },
      "outputs": [],
      "source": [
        "df_test.dropna(axis=0,inplace=True)"
      ]
    },
    {
      "cell_type": "code",
      "execution_count": 14,
      "metadata": {
        "colab": {
          "base_uri": "https://localhost:8080/"
        },
        "id": "V5ZFINv3UBOA",
        "outputId": "266a1fd4-8a58-4815-d599-651e69545251"
      },
      "outputs": [
        {
          "output_type": "execute_result",
          "data": {
            "text/plain": [
              "(204045, 3)"
            ]
          },
          "metadata": {},
          "execution_count": 14
        }
      ],
      "source": [
        "df_train.shape"
      ]
    },
    {
      "cell_type": "code",
      "execution_count": 15,
      "metadata": {
        "colab": {
          "base_uri": "https://localhost:8080/"
        },
        "id": "WgGzmUyOUBOB",
        "outputId": "4eabf75a-a260-453f-9527-4e2254c34cf5"
      },
      "outputs": [
        {
          "output_type": "execute_result",
          "data": {
            "text/plain": [
              "(11334, 3)"
            ]
          },
          "metadata": {},
          "execution_count": 15
        }
      ],
      "source": [
        "df_test.shape"
      ]
    },
    {
      "cell_type": "markdown",
      "metadata": {
        "id": "za_uXRlQUBOB"
      },
      "source": [
        "## Preprocess the Text Data"
      ]
    },
    {
      "cell_type": "markdown",
      "metadata": {
        "id": "wsD_MwuYUBOB"
      },
      "source": [
        "Before getting started with text summarization, let's preprocess the text in __Title__ and __Review Text__. The objective is to make the text suitable for modeling by taking off as much noise as possible.\n",
        "\n",
        "We will carry out the following preprocessing operations:\n",
        "\n",
        "1. Convert text to lowercase\n",
        "2. Expand the contractions (\"isn't\" to \"is not\")\n",
        "3. Remove everyhing from the text except alphabets, '.' and ','\n",
        "4. Remove single-character tokens"
      ]
    },
    {
      "cell_type": "code",
      "execution_count": 16,
      "metadata": {
        "id": "vPqfjguCUBOC"
      },
      "outputs": [],
      "source": [
        "# define a dictionary of all possible contractions and their expanded forms\n",
        "contraction_mapping = {\"ain't\": \"is not\", \"aren't\": \"are not\",\"can't\": \"cannot\", \"'cause\": \"because\", \"could've\": \"could have\", \"couldn't\": \"could not\",\n",
        "                           \"didn't\": \"did not\",  \"doesn't\": \"does not\", \"don't\": \"do not\", \"hadn't\": \"had not\", \"hasn't\": \"has not\", \"haven't\": \"have not\",\n",
        "                           \"he'd\": \"he would\",\"he'll\": \"he will\", \"he's\": \"he is\", \"how'd\": \"how did\", \"how'd'y\": \"how do you\", \"how'll\": \"how will\", \"how's\": \"how is\",\n",
        "                           \"I'd\": \"I would\", \"I'd've\": \"I would have\", \"I'll\": \"I will\", \"I'll've\": \"I will have\",\"I'm\": \"I am\", \"I've\": \"I have\", \"i'd\": \"i would\",\n",
        "                           \"i'll\": \"i will\",  \"i'll've\": \"i will have\",\"i'm\": \"i am\", \"i've\": \"i have\", \"isn't\": \"is not\", \"it'd\": \"it would\",\n",
        "                           \"it'll\": \"it will\", \"it'll've\": \"it will have\",\"it's\": \"it is\", \"let's\": \"let us\", \"ma'am\": \"madam\",\n",
        "                           \"might've\": \"might have\",\"mightn't\": \"might not\",\"mightn't've\": \"might not have\", \"must've\": \"must have\",\n",
        "                           \"mustn't\": \"must not\", \"mustn't've\": \"must not have\", \"needn't\": \"need not\", \"needn't've\": \"need not have\",\"o'clock\": \"of the clock\",\n",
        "                           \"oughtn't\": \"ought not\", \"oughtn't've\": \"ought not have\", \"shan't\": \"shall not\", \"sha'n't\": \"shall not\", \"shan't've\": \"shall not have\",\n",
        "                           \"she'd\": \"she would\", \"she'd've\": \"she would have\", \"she'll\": \"she will\", \"she'll've\": \"she will have\", \"she's\": \"she is\",\n",
        "                           \"should've\": \"should have\", \"shouldn't\": \"should not\", \"shouldn't've\": \"should not have\", \"so've\": \"so have\",\"so's\": \"so as\",\n",
        "                           \"this's\": \"this is\",\"that'd\": \"that would\", \"that'd've\": \"that would have\", \"that's\": \"that is\", \"there'd\": \"there would\",\n",
        "                           \"there'd've\": \"there would have\", \"there's\": \"there is\", \"here's\": \"here is\",\"they'd\": \"they would\", \"they'd've\": \"they would have\",\n",
        "                           \"they'll\": \"they will\", \"they'll've\": \"they will have\", \"they're\": \"they are\", \"they've\": \"they have\", \"to've\": \"to have\",\n",
        "                           \"wasn't\": \"was not\", \"we'd\": \"we would\", \"we'd've\": \"we would have\", \"we'll\": \"we will\", \"we'll've\": \"we will have\", \"we're\": \"we are\",\n",
        "                           \"we've\": \"we have\", \"weren't\": \"were not\", \"what'll\": \"what will\", \"what'll've\": \"what will have\", \"what're\": \"what are\",\n",
        "                           \"what's\": \"what is\", \"what've\": \"what have\", \"when's\": \"when is\", \"when've\": \"when have\", \"where'd\": \"where did\", \"where's\": \"where is\",\n",
        "                           \"where've\": \"where have\", \"who'll\": \"who will\", \"who'll've\": \"who will have\", \"who's\": \"who is\", \"who've\": \"who have\",\n",
        "                           \"why's\": \"why is\", \"why've\": \"why have\", \"will've\": \"will have\", \"won't\": \"will not\", \"won't've\": \"will not have\",\n",
        "                           \"would've\": \"would have\", \"wouldn't\": \"would not\", \"wouldn't've\": \"would not have\", \"y'all\": \"you all\",\n",
        "                           \"y'all'd\": \"you all would\",\"y'all'd've\": \"you all would have\",\"y'all're\": \"you all are\",\"y'all've\": \"you all have\",\n",
        "                           \"you'd\": \"you would\", \"you'd've\": \"you would have\", \"you'll\": \"you will\", \"you'll've\": \"you will have\",\n",
        "                           \"you're\": \"you are\", \"you've\": \"you have\"}"
      ]
    },
    {
      "cell_type": "markdown",
      "metadata": {
        "id": "aXeVG9ztUBOD"
      },
      "source": [
        "Let's define a function that will preprocess and clean the text."
      ]
    },
    {
      "cell_type": "code",
      "execution_count": 17,
      "metadata": {
        "id": "24EdWoPGUBOD"
      },
      "outputs": [],
      "source": [
        "def text_cleaner(text):\n",
        "    newString = text.lower()\n",
        "    newString = ' '.join([contraction_mapping[t] if t in contraction_mapping else t for t in newString.split()])\n",
        "    newString = re.sub(r\"’s\\b\",\"\",newString)\n",
        "    newString = re.sub(\"[^a-zA-Z.,]\", \" \", newString)\n",
        "      \n",
        "    # remove terms with length = 1\n",
        "    long_tokens=[]\n",
        "    \n",
        "    for i in newString.split():\n",
        "        if(len(i) > 1):\n",
        "            long_tokens.append(i)\n",
        "    \n",
        "    # return preprocessed tweets\n",
        "    return \" \".join(long_tokens)"
      ]
    },
    {
      "cell_type": "markdown",
      "metadata": {
        "id": "jEzXEox-UBOD"
      },
      "source": [
        "Now preprocess the text in the features __Review Text__ and __Title__."
      ]
    },
    {
      "cell_type": "code",
      "execution_count": 18,
      "metadata": {
        "id": "76FJflPIUBOE"
      },
      "outputs": [],
      "source": [
        "# preprocess review text\n",
        "cleaned_text = []\n",
        "reviews=np.array(df_train['document'])\n",
        "\n",
        "for i in range(len(reviews)):\n",
        "    cleaned_text.append(text_cleaner(reviews[i]))\n",
        "    \n",
        "    \n",
        "# preprocess titles\n",
        "cleaned_summary = []\n",
        "summary=np.array(df_train['summary'])\n",
        "\n",
        "for i in range(len(summary)):\n",
        "    cleaned_summary.append(text_cleaner(summary[i]))\n",
        "    \n",
        "# create a dataframe\n",
        "train=pd.DataFrame({'document':cleaned_text,'summary':cleaned_summary,'reviews':reviews})"
      ]
    },
    {
      "cell_type": "code",
      "execution_count": 19,
      "metadata": {
        "id": "aj_-D63KUBOE"
      },
      "outputs": [],
      "source": [
        "# preprocess review text\n",
        "cleaned_text1 = []\n",
        "reviews1=np.array(df_test['document'])\n",
        "\n",
        "for i in range(len(reviews1)):\n",
        "    cleaned_text1.append(text_cleaner(reviews1[i]))\n",
        "    \n",
        "    \n",
        "# preprocess titles\n",
        "cleaned_summary1 = []\n",
        "summary1=np.array(df_test['summary'])\n",
        "\n",
        "for i in range(len(summary1)):\n",
        "    cleaned_summary1.append(text_cleaner(summary1[i]))\n",
        "    \n",
        "# create a dataframe\n",
        "test=pd.DataFrame({'document':cleaned_text1,'summary':cleaned_summary1,'reviews':reviews1})"
      ]
    },
    {
      "cell_type": "markdown",
      "metadata": {
        "id": "cXUl9IqOUBOE"
      },
      "source": [
        "<br>\n",
        "\n",
        "## Text to Sequences"
      ]
    },
    {
      "cell_type": "markdown",
      "metadata": {
        "id": "SArCwLU8UBOF"
      },
      "source": [
        "Let's check the distribution of the length of the reviews and the titles. It will help us in finding the suitable maximum length of the text that will be used in the encoder-decoder model"
      ]
    },
    {
      "cell_type": "code",
      "execution_count": 20,
      "metadata": {
        "colab": {
          "base_uri": "https://localhost:8080/",
          "height": 545
        },
        "id": "0aPPpBMBUBOF",
        "outputId": "62ac7885-decc-477d-8f6c-9043972a8697"
      },
      "outputs": [
        {
          "output_type": "display_data",
          "data": {
            "text/plain": [
              "<Figure size 432x288 with 1 Axes>"
            ],
            "image/png": "[encoded data removed]"
          },
          "metadata": {
            "needs_background": "light"
          }
        },
        {
          "output_type": "display_data",
          "data": {
            "text/plain": [
              "<Figure size 432x288 with 1 Axes>"
            ],
            "image/png": "[encoded data removed]"
          },
          "metadata": {
            "needs_background": "light"
          }
        }
      ],
      "source": [
        "text_word_count = []\n",
        "summary_word_count= []\n",
        "\n",
        "for i in train['document']:\n",
        "      text_word_count.append(len(i.split()))\n",
        "        \n",
        "for i in train['summary']:\n",
        "      summary_word_count.append(len(i.split()))\n",
        "        \n",
        "text_length_df = pd.DataFrame({'document':text_word_count})\n",
        "text_length_df.hist(bins = 30,range=(0,5000))\n",
        "\n",
        "summary_length_df = pd.DataFrame({'summary':summary_word_count})\n",
        "summary_length_df.hist(bins = 30,range=(0,100))\n",
        "\n",
        "plt.show()"
      ]
    },
    {
      "cell_type": "code",
      "execution_count": 21,
      "metadata": {
        "id": "WvpZ7BrmUBOF"
      },
      "outputs": [],
      "source": [
        "# maximum length for document\n",
        "max_text_len = 1000\n",
        "\n",
        "# maximum length for summaries\n",
        "max_summary_len = 40"
      ]
    },
    {
      "cell_type": "markdown",
      "metadata": {
        "id": "F4rMA4ofUBOF"
      },
      "source": [
        "Let's add the __start-of-sentence__ and __end-of-sentence__ tokens (\"sostok\" and \"eostok\") to the summaries."
      ]
    },
    {
      "cell_type": "code",
      "execution_count": 22,
      "metadata": {
        "id": "WoSde61zUBOF"
      },
      "outputs": [],
      "source": [
        "train['summary'] = train['summary'].apply(lambda x : 'sostok '+ x + ' eostok')"
      ]
    },
    {
      "cell_type": "code",
      "execution_count": 23,
      "metadata": {
        "id": "8YOVonr7UBOG"
      },
      "outputs": [],
      "source": [
        "test['summary'] = test['summary'].apply(lambda x : 'sostok '+ x + ' eostok')"
      ]
    },
    {
      "cell_type": "code",
      "execution_count": 24,
      "metadata": {
        "colab": {
          "base_uri": "https://localhost:8080/"
        },
        "id": "pY8j2cRKUBOG",
        "outputId": "5fc0bde7-829e-4013-94e4-20427b703fb6"
      },
      "outputs": [
        {
          "output_type": "execute_result",
          "data": {
            "text/plain": [
              "(204045, 3)"
            ]
          },
          "metadata": {},
          "execution_count": 24
        }
      ],
      "source": [
        "train.shape"
      ]
    },
    {
      "cell_type": "code",
      "execution_count": 25,
      "metadata": {
        "colab": {
          "base_uri": "https://localhost:8080/"
        },
        "id": "M-ROrNKMUBOG",
        "outputId": "74ac8b48-e082-4077-bda9-9a37a778f094"
      },
      "outputs": [
        {
          "output_type": "execute_result",
          "data": {
            "text/plain": [
              "(11334, 3)"
            ]
          },
          "metadata": {},
          "execution_count": 25
        }
      ],
      "source": [
        "test.shape"
      ]
    },
    {
      "cell_type": "markdown",
      "metadata": {
        "id": "vfUWLvBRUBOG"
      },
      "source": [
        "<br>\n",
        "\n",
        "### Train-Test Split"
      ]
    },
    {
      "cell_type": "code",
      "execution_count": 26,
      "metadata": {
        "id": "EMPPf7-sUBOG"
      },
      "outputs": [],
      "source": [
        "x_tr, x_val, y_tr, y_val = train['document'], test['document'], train['summary'], test['summary']\n",
        "text_tr, text_val, y_tr, y_val = train['reviews'], test['reviews'], train['summary'], test['summary']"
      ]
    },
    {
      "cell_type": "code",
      "execution_count": 27,
      "metadata": {
        "colab": {
          "base_uri": "https://localhost:8080/"
        },
        "id": "jh6Q59GvUBOH",
        "outputId": "d15e85d5-3d5c-4232-d69e-37aac6e33230"
      },
      "outputs": [
        {
          "output_type": "execute_result",
          "data": {
            "text/plain": [
              "((204045,), (11334,), (204045,), (11334,))"
            ]
          },
          "metadata": {},
          "execution_count": 27
        }
      ],
      "source": [
        "x_tr.shape, x_val.shape, y_tr.shape, y_val.shape"
      ]
    },
    {
      "cell_type": "markdown",
      "metadata": {
        "id": "W_KU9r35UBOH"
      },
      "source": [
        "### Create a Keras Tokenizer for Reviews"
      ]
    },
    {
      "cell_type": "code",
      "execution_count": 28,
      "metadata": {
        "id": "FSjd6UB9UBOH"
      },
      "outputs": [],
      "source": [
        "from keras.preprocessing.text import Tokenizer \n",
        "from keras.preprocessing.sequence import pad_sequences\n",
        "\n",
        "x_tokenizer = Tokenizer(num_words=5000) \n",
        "x_tokenizer.fit_on_texts(list(x_tr))"
      ]
    },
    {
      "cell_type": "markdown",
      "metadata": {
        "id": "D0z0QdSAUBOH"
      },
      "source": [
        "### Convert Text to Integer Sequences"
      ]
    },
    {
      "cell_type": "code",
      "execution_count": 29,
      "metadata": {
        "id": "6dxPdxAUUBOH"
      },
      "outputs": [],
      "source": [
        "#convert text sequences into integer sequences\n",
        "x_tr_seq    =   x_tokenizer.texts_to_sequences(x_tr) \n",
        "x_val_seq   =   x_tokenizer.texts_to_sequences(x_val)\n",
        "\n",
        "#padding zero upto maximum length\n",
        "x_tr   =   pad_sequences(x_tr_seq,  maxlen=max_text_len, padding='post')\n",
        "x_val  =   pad_sequences(x_val_seq, maxlen=max_text_len, padding='post')\n",
        "\n",
        "#size of vocabulary\n",
        "x_voc   =  x_tokenizer.num_words + 1"
      ]
    },
    {
      "cell_type": "markdown",
      "metadata": {
        "id": "1OlVU51AUBOI"
      },
      "source": [
        "### Create a Keras Tokenizer for Summaries / Titles"
      ]
    },
    {
      "cell_type": "code",
      "execution_count": 30,
      "metadata": {
        "id": "4C859d_kUBOI"
      },
      "outputs": [],
      "source": [
        "y_tokenizer = Tokenizer(num_words = 3000)   \n",
        "y_tokenizer.fit_on_texts(list(y_tr))"
      ]
    },
    {
      "cell_type": "code",
      "execution_count": 31,
      "metadata": {
        "id": "slVRcVLfUBOI"
      },
      "outputs": [],
      "source": [
        "summary_val = np.array(y_val)\n",
        "text_val = np.array(text_val)"
      ]
    },
    {
      "cell_type": "markdown",
      "metadata": {
        "id": "mmI6BXEEUBOI"
      },
      "source": [
        "### Convert Summaries / Titles to Integer Sequences"
      ]
    },
    {
      "cell_type": "code",
      "execution_count": 32,
      "metadata": {
        "id": "zBEhH9bfUBOI"
      },
      "outputs": [],
      "source": [
        "# Convert word sequences to integer sequences\n",
        "y_tr_seq = y_tokenizer.texts_to_sequences(y_tr) \n",
        "y_val_seq = y_tokenizer.texts_to_sequences(y_val) "
      ]
    },
    {
      "cell_type": "markdown",
      "metadata": {
        "id": "7qz-mWRjUBOI"
      },
      "source": [
        "Eliminate the summaries/titles sequences whose length is less than 4."
      ]
    },
    {
      "cell_type": "code",
      "execution_count": 33,
      "metadata": {
        "id": "oajwqSz2UBOJ"
      },
      "outputs": [],
      "source": [
        "# eliminate the sequences from training data\n",
        "index=[]\n",
        "for i in range(len(y_tr_seq)):\n",
        "    if(len(y_tr_seq[i])<=3):\n",
        "        index.append(i)\n",
        "        \n",
        "y_tr_seq = np.delete(y_tr_seq,index, axis=0)\n",
        "x_tr = np.delete(x_tr, index, axis=0)\n",
        "\n",
        "# eliminate the sequences from test data\n",
        "index = []\n",
        "for i in range(len(y_val_seq)):\n",
        "    if(len(y_val_seq[i])<=3):\n",
        "        index.append(i)\n",
        "        \n",
        "y_val_seq = np.delete(y_val_seq,index, axis=0)\n",
        "x_val = np.delete(x_val,index, axis=0)\n",
        "text_val = np.delete(text_val,index,axis=0)\n",
        "summary_val = np.delete(summary_val,index,axis=0)"
      ]
    },
    {
      "cell_type": "code",
      "execution_count": 34,
      "metadata": {
        "id": "623lfMEKUBOJ"
      },
      "outputs": [],
      "source": [
        "#padding zero upto maximum length\n",
        "y_tr = pad_sequences(y_tr_seq, maxlen=max_summary_len, padding='post')\n",
        "y_val = pad_sequences(y_val_seq, maxlen=max_summary_len, padding='post')\n",
        "\n",
        "#size of vocabulary\n",
        "y_voc = y_tokenizer.num_words +1"
      ]
    },
    {
      "cell_type": "markdown",
      "metadata": {
        "id": "bgpaTkKuUBOJ"
      },
      "source": [
        "<br>\n",
        "\n",
        "## Build a Sequence-to-Sequence Model for Text Summarization"
      ]
    },
    {
      "cell_type": "code",
      "execution_count": 35,
      "metadata": {
        "id": "AWT0i-ODUBOJ",
        "colab": {
          "base_uri": "https://localhost:8080/"
        },
        "outputId": "cce3a4fb-60c1-482a-bfb0-6e0c04d6ed97"
      },
      "outputs": [
        {
          "output_type": "stream",
          "name": "stdout",
          "text": [
            "Model: \"model\"\n",
            "__________________________________________________________________________________________________\n",
            " Layer (type)                   Output Shape         Param #     Connected to                     \n",
            "==================================================================================================\n",
            " input_1 (InputLayer)           [(None, 1000)]       0           []                               \n",
            "                                                                                                  \n",
            " input_2 (InputLayer)           [(None, None)]       0           []                               \n",
            "                                                                                                  \n",
            " embedding (Embedding)          (None, 1000, 100)    500100      ['input_1[0][0]']                \n",
            "                                                                                                  \n",
            " embedding_1 (Embedding)        (None, None, 100)    300100      ['input_2[0][0]']                \n",
            "                                                                                                  \n",
            " lstm (LSTM)                    [(None, 1000, 300),  481200      ['embedding[0][0]']              \n",
            "                                 (None, 300),                                                     \n",
            "                                 (None, 300)]                                                     \n",
            "                                                                                                  \n",
            " lstm_1 (LSTM)                  [(None, None, 300),  481200      ['embedding_1[0][0]',            \n",
            "                                 (None, 300),                     'lstm[0][1]',                   \n",
            "                                 (None, 300)]                     'lstm[0][2]']                   \n",
            "                                                                                                  \n",
            " time_distributed (TimeDistribu  (None, None, 300)   90300       ['lstm_1[0][0]']                 \n",
            " ted)                                                                                             \n",
            "                                                                                                  \n",
            " time_distributed_1 (TimeDistri  (None, None, 3001)  903301      ['time_distributed[0][0]']       \n",
            " buted)                                                                                           \n",
            "                                                                                                  \n",
            "==================================================================================================\n",
            "Total params: 2,756,201\n",
            "Trainable params: 2,756,201\n",
            "Non-trainable params: 0\n",
            "__________________________________________________________________________________________________\n"
          ]
        }
      ],
      "source": [
        "import keras\n",
        "from keras.layers import Input, LSTM, Embedding, Dense, concatenate, TimeDistributed, Add, dot, Activation\n",
        "from keras.models import Model\n",
        "from keras.callbacks import EarlyStopping, ModelCheckpoint\n",
        "\n",
        "# No. of hidden nodes\n",
        "latent_dim = 300\n",
        "# Dimension of embeddings\n",
        "embedding_dim=100\n",
        "\n",
        "## Encoder-Decoder Structure for model training\n",
        "\n",
        "#Encoder \n",
        "encoder_inputs=Input(shape=(max_text_len,))\n",
        "encoder_embedding = Embedding(x_voc,embedding_dim, trainable=True, mask_zero=True)(encoder_inputs)\n",
        "\n",
        "encoder_lstm = LSTM(latent_dim,return_sequences=True,return_state=True,go_backwards=True)\n",
        "encoder_outputs, state_h, state_c = encoder_lstm(encoder_embedding)\n",
        "\n",
        "#Decoder\n",
        "decoder_inputs=Input(shape=(None,))\n",
        "dec_emb_layer = Embedding(y_voc, embedding_dim,trainable=True,mask_zero=True)\n",
        "dec_emb = dec_emb_layer(decoder_inputs)\n",
        "\n",
        "decoder_lstm = LSTM(latent_dim,return_sequences=True,return_state=True)\n",
        "decoder_outputs, dec_state_h, dec_state_c = decoder_lstm(dec_emb,initial_state=[state_h, state_c])\n",
        "\n",
        "#Dense layer\n",
        "dense_layer = TimeDistributed(Dense(latent_dim, activation=\"tanh\"))\n",
        "dense_outputs=dense_layer(decoder_outputs) \n",
        "\n",
        "#Output layer\n",
        "output_layer = TimeDistributed(Dense(y_voc, activation=\"softmax\"))\n",
        "decoder_outputs=output_layer(dense_outputs)\n",
        "\n",
        "model = Model([encoder_inputs,decoder_inputs], decoder_outputs)\n",
        "model.summary()"
      ]
    },
    {
      "cell_type": "code",
      "execution_count": 36,
      "metadata": {
        "id": "EklDb3OoUBOJ"
      },
      "outputs": [],
      "source": [
        "model.compile(optimizer='adam', loss='sparse_categorical_crossentropy')"
      ]
    },
    {
      "cell_type": "markdown",
      "metadata": {
        "id": "xl3du6QlUBOJ"
      },
      "source": [
        "### Define Early Stopping and Save Model"
      ]
    },
    {
      "cell_type": "code",
      "execution_count": 37,
      "metadata": {
        "id": "SGa9u4r1UBOK"
      },
      "outputs": [],
      "source": [
        "es = EarlyStopping(monitor='val_loss', mode='min', verbose=1, patience=2, min_delta=0.0001) \n",
        "mc = ModelCheckpoint('best_model_9.hdf5', monitor='val_loss', verbose=1, save_best_only=True, mode='min')"
      ]
    },
    {
      "cell_type": "code",
      "execution_count": 38,
      "metadata": {
        "id": "LyQZxksfUBOK",
        "colab": {
          "base_uri": "https://localhost:8080/"
        },
        "outputId": "e7391847-286b-4888-e462-4f6087beac4d"
      },
      "outputs": [
        {
          "output_type": "execute_result",
          "data": {
            "text/plain": [
              "(203934, 1000)"
            ]
          },
          "metadata": {},
          "execution_count": 38
        }
      ],
      "source": [
        "x_tr.shape"
      ]
    },
    {
      "cell_type": "markdown",
      "metadata": {
        "id": "W_22ftv4UBOK"
      },
      "source": [
        "### Initiate Model Training"
      ]
    },
    {
      "cell_type": "code",
      "execution_count": 39,
      "metadata": {
        "scrolled": false,
        "id": "qCvUFUpiUBOK",
        "colab": {
          "base_uri": "https://localhost:8080/"
        },
        "outputId": "58760bd7-f650-49ac-bcd9-02c2d42545ce"
      },
      "outputs": [
        {
          "output_type": "stream",
          "name": "stdout",
          "text": [
            "Epoch 1/50\n",
            "6373/6373 [==============================] - ETA: 0s - loss: 2.1808\n",
            "Epoch 1: val_loss improved from inf to 1.93138, saving model to best_model_9.hdf5\n",
            "6373/6373 [==============================] - 541s 83ms/step - loss: 2.1808 - val_loss: 1.9314\n",
            "Epoch 2/50\n",
            "6373/6373 [==============================] - ETA: 0s - loss: 1.8456\n",
            "Epoch 2: val_loss improved from 1.93138 to 1.79173, saving model to best_model_9.hdf5\n",
            "6373/6373 [==============================] - 530s 83ms/step - loss: 1.8456 - val_loss: 1.7917\n",
            "Epoch 3/50\n",
            "6373/6373 [==============================] - ETA: 0s - loss: 1.7328\n",
            "Epoch 3: val_loss improved from 1.79173 to 1.72291, saving model to best_model_9.hdf5\n",
            "6373/6373 [==============================] - 529s 83ms/step - loss: 1.7328 - val_loss: 1.7229\n",
            "Epoch 4/50\n",
            "6373/6373 [==============================] - ETA: 0s - loss: 1.6666\n",
            "Epoch 4: val_loss improved from 1.72291 to 1.68445, saving model to best_model_9.hdf5\n",
            "6373/6373 [==============================] - 529s 83ms/step - loss: 1.6666 - val_loss: 1.6845\n",
            "Epoch 5/50\n",
            "6373/6373 [==============================] - ETA: 0s - loss: 1.6201\n",
            "Epoch 5: val_loss improved from 1.68445 to 1.66106, saving model to best_model_9.hdf5\n",
            "6373/6373 [==============================] - 529s 83ms/step - loss: 1.6201 - val_loss: 1.6611\n",
            "Epoch 6/50\n",
            "6373/6373 [==============================] - ETA: 0s - loss: 1.5847\n",
            "Epoch 6: val_loss improved from 1.66106 to 1.64448, saving model to best_model_9.hdf5\n",
            "6373/6373 [==============================] - 529s 83ms/step - loss: 1.5847 - val_loss: 1.6445\n",
            "Epoch 7/50\n",
            "6373/6373 [==============================] - ETA: 0s - loss: 1.5564\n",
            "Epoch 7: val_loss improved from 1.64448 to 1.63571, saving model to best_model_9.hdf5\n",
            "6373/6373 [==============================] - 529s 83ms/step - loss: 1.5564 - val_loss: 1.6357\n",
            "Epoch 8/50\n",
            "6373/6373 [==============================] - ETA: 0s - loss: 1.5331\n",
            "Epoch 8: val_loss improved from 1.63571 to 1.63087, saving model to best_model_9.hdf5\n",
            "6373/6373 [==============================] - 533s 84ms/step - loss: 1.5331 - val_loss: 1.6309\n",
            "Epoch 9/50\n",
            "6373/6373 [==============================] - ETA: 0s - loss: 1.5128\n",
            "Epoch 9: val_loss improved from 1.63087 to 1.62808, saving model to best_model_9.hdf5\n",
            "6373/6373 [==============================] - 536s 84ms/step - loss: 1.5128 - val_loss: 1.6281\n",
            "Epoch 10/50\n",
            "6373/6373 [==============================] - ETA: 0s - loss: 1.4953\n",
            "Epoch 10: val_loss improved from 1.62808 to 1.62732, saving model to best_model_9.hdf5\n",
            "6373/6373 [==============================] - 536s 84ms/step - loss: 1.4953 - val_loss: 1.6273\n",
            "Epoch 11/50\n",
            "6373/6373 [==============================] - ETA: 0s - loss: 1.4794\n",
            "Epoch 11: val_loss did not improve from 1.62732\n",
            "6373/6373 [==============================] - 534s 84ms/step - loss: 1.4794 - val_loss: 1.6278\n",
            "Epoch 12/50\n",
            "6373/6373 [==============================] - ETA: 0s - loss: 1.4653\n",
            "Epoch 12: val_loss did not improve from 1.62732\n",
            "6373/6373 [==============================] - 534s 84ms/step - loss: 1.4653 - val_loss: 1.6316\n",
            "Epoch 12: early stopping\n"
          ]
        }
      ],
      "source": [
        "history=model.fit([x_tr,y_tr[:,:-1]], y_tr.reshape(y_tr.shape[0],y_tr.shape[1], 1)[:,1:] ,epochs=50, callbacks=[es,mc], batch_size=32, validation_data=([x_val,y_val[:,:-1]], y_val.reshape(y_val.shape[0],y_val.shape[1], 1)[:,1:]))"
      ]
    },
    {
      "cell_type": "markdown",
      "metadata": {
        "id": "OzSPwoIyUBOK"
      },
      "source": [
        "<br>\n",
        "\n",
        "### Load the Saved Model"
      ]
    },
    {
      "cell_type": "code",
      "execution_count": 40,
      "metadata": {
        "id": "DHrLoz_NUBOK"
      },
      "outputs": [],
      "source": [
        "model=keras.models.load_model('best_model_9.hdf5')"
      ]
    },
    {
      "cell_type": "code",
      "execution_count": 41,
      "metadata": {
        "id": "kho2-8akUBOL",
        "colab": {
          "base_uri": "https://localhost:8080/",
          "height": 265
        },
        "outputId": "71394607-b169-4b34-a711-3f4732cd4274"
      },
      "outputs": [
        {
          "output_type": "display_data",
          "data": {
            "text/plain": [
              "<Figure size 432x288 with 1 Axes>"
            ],
            "image/png": "[encoded data removed]"
          },
          "metadata": {
            "needs_background": "light"
          }
        }
      ],
      "source": [
        "from matplotlib import pyplot\n",
        "pyplot.plot(history.history['loss'], label='train')\n",
        "pyplot.plot(history.history['val_loss'], label='test')\n",
        "pyplot.legend()\n",
        "pyplot.show()"
      ]
    },
    {
      "cell_type": "markdown",
      "metadata": {
        "id": "ellSOlcTUBOL"
      },
      "source": [
        "## Model Inference "
      ]
    },
    {
      "cell_type": "code",
      "execution_count": 42,
      "metadata": {
        "id": "5UuSGHTFUBOL"
      },
      "outputs": [],
      "source": [
        "reverse_target_word_index=dict((v, k) for k, v in y_tokenizer.word_index.items())\n",
        "reverse_source_word_index=dict((v, k) for k, v in x_tokenizer.word_index.items())\n",
        "\n",
        "## Encoder-Decoder structure for model inference\n",
        "\n",
        "# Encode the input sequence to get the feature vector\n",
        "encoder_model = Model(inputs=encoder_inputs,outputs=[encoder_outputs, state_h, state_c])\n",
        "\n",
        "# Decoder setup\n",
        "# Below tensors will hold the states of the previous time step\n",
        "decoder_state_input_h = Input(shape=(latent_dim,))\n",
        "decoder_state_input_c = Input(shape=(latent_dim,))\n",
        "decoder_hidden_state_input = Input(shape=(max_text_len,latent_dim))\n",
        "\n",
        "# Get the embeddings of the decoder sequence\n",
        "dec_emb= dec_emb_layer(decoder_inputs) \n",
        "\n",
        "# To predict the next word in the sequence, set the initial states to the states from the previous time step\n",
        "dec_outputs, dec_h, dec_c = decoder_lstm(dec_emb, initial_state=[decoder_state_input_h, decoder_state_input_c])\n",
        "\n",
        "#dense layer\n",
        "dense_outputs=dense_layer(dec_outputs)\n",
        "\n",
        "# A dense softmax layer to generate prob dist. over the target vocabulary\n",
        "decoder_outputs2 = output_layer(dense_outputs) \n",
        "\n",
        "# Final decoder model\n",
        "decoder_model = Model(\n",
        "    [decoder_inputs] + [decoder_hidden_state_input,decoder_state_input_h, decoder_state_input_c],\n",
        "    [decoder_outputs2] + [dec_h, dec_c])"
      ]
    },
    {
      "cell_type": "code",
      "execution_count": 43,
      "metadata": {
        "id": "hgJegHjiUBOL"
      },
      "outputs": [],
      "source": [
        "def decode_sequence(input_seq):\n",
        "    # Encode the input as state vectors.\n",
        "    e_out, e_h, e_c = encoder_model.predict(input_seq)\n",
        "    \n",
        "    # Generate empty target sequence of length 1.\n",
        "    target_seq = np.zeros((1,1))\n",
        "    \n",
        "    # Populate the first word of target sequence with the start word.\n",
        "    target_seq[0, 0] = y_tokenizer.word_index['sostok']\n",
        "\n",
        "    stop_condition = False\n",
        "    decoded_sentence = ''\n",
        "    while not stop_condition:\n",
        "      \n",
        "        output_tokens, h, c = decoder_model.predict([target_seq] + [e_out,e_h, e_c])\n",
        "\n",
        "        # Sample a token\n",
        "        sampled_token_index = np.argmax(output_tokens[0, -1, :]) \n",
        "        sampled_token = reverse_target_word_index[sampled_token_index]\n",
        "        \n",
        "        if(sampled_token!='eostok'):\n",
        "            decoded_sentence= decoded_sentence+sampled_token+' '\n",
        "\n",
        "        # Exit condition: either hit max length or find stop word.\n",
        "        if (sampled_token == 'eostok'  or len(decoded_sentence.split()) >= (max_summary_len-1)):\n",
        "            stop_condition = True\n",
        "\n",
        "        # Update the target sequence (of length 1).\n",
        "        target_seq = np.zeros((1,1))\n",
        "        target_seq[0, 0] = sampled_token_index\n",
        "\n",
        "        # Update internal states\n",
        "        e_h, e_c = h, c\n",
        "\n",
        "    return decoded_sentence.strip()"
      ]
    },
    {
      "cell_type": "markdown",
      "metadata": {
        "id": "Vm4uDcQJUBOM"
      },
      "source": [
        "### Convert Validation Integer Sequences back to Text"
      ]
    },
    {
      "cell_type": "code",
      "execution_count": 44,
      "metadata": {
        "id": "P38gb517UBOM"
      },
      "outputs": [],
      "source": [
        "def seq2source(input_seq):\n",
        "    newString=''\n",
        "    for i in input_seq:\n",
        "        if(i!=0):\n",
        "            newString=newString+reverse_source_word_index[i]+' '\n",
        "    return newString.strip()"
      ]
    },
    {
      "cell_type": "code",
      "execution_count": 45,
      "metadata": {
        "id": "1HvcCsxCUBOM"
      },
      "outputs": [],
      "source": [
        "source=[]\n",
        "for i in range(len(x_val)):\n",
        "    source.append(seq2source(x_val[i]))  "
      ]
    },
    {
      "cell_type": "code",
      "execution_count": 46,
      "metadata": {
        "id": "qzzM2Q3uUBOM"
      },
      "outputs": [],
      "source": [
        "summary_val=[' '.join(i.split()[1:-1]) for i in summary_val]"
      ]
    },
    {
      "cell_type": "code",
      "execution_count": 47,
      "metadata": {
        "id": "IJoJwGXmUBOM"
      },
      "outputs": [],
      "source": [
        "index=[]\n",
        "for i in range(len(source)):\n",
        "    if(len(source[i].split()) >= 10):\n",
        "        index.append(i)"
      ]
    },
    {
      "cell_type": "markdown",
      "metadata": {
        "id": "PrZxxf97UBOM"
      },
      "source": [
        "### Generate Some Summaries"
      ]
    },
    {
      "cell_type": "code",
      "execution_count": 48,
      "metadata": {
        "id": "ZJCLrrOWUBOM"
      },
      "outputs": [],
      "source": [
        "from rouge import Rouge\n",
        "rouge = Rouge()"
      ]
    },
    {
      "cell_type": "code",
      "execution_count": 49,
      "metadata": {
        "scrolled": false,
        "id": "lwwmEldzUBON",
        "colab": {
          "base_uri": "https://localhost:8080/"
        },
        "outputId": "32afda40-05c6-40ba-c7f8-60ab914add10"
      },
      "outputs": [
        {
          "output_type": "stream",
          "name": "stdout",
          "text": [
            "Review: Visiting striker Harry Kane fired home from the spot in the second half after Raheem Sterling was controversially penalised for handball.\n",
            "Yaya Toure struck a 20-yard free-kick against the bar before teenage substitute Kelechi Iheanacho levelled.\n",
            "But Spurs earned a fifth league win in a row as Eriksen slotted in.\n",
            "The Dane was played through on goal by substitute Erik Lamela to coolly finish, after Iheanacho had shot high into the net to restore parity.\n",
            "Arsenal's win over leaders Leicester earlier in the day temporarily moved the Gunners into second place but Spurs have gone back ahead of their north London rivals on goal difference.\n",
            "Analysis: Spirit, fitness and belief - why Spurs can win title\n",
            "Relive Tottenham's win at Manchester City\n",
            "Listen: Ramon Vega - \"I have no doubts Spurs will grab the league\"\n",
            "Media playback is not supported on this device\n",
            "Manuel Pellegrini's side won 21 points from their opening nine league games but have claimed just 26 points from their subsequent 17 matches.\n",
            "They are six points off the Premier League summit after losing two consecutive home league matches for the first time since December 2008, and have lost ground to Arsenal and Tottenham, who are in third and second respectively.\n",
            "City know the gap is not insurmountable, having been eight points behind Manchester United in April 2012 before snatching the Premier League title on the final day.\n",
            "But they are 11 points worse off than Leicester and Tottenham during this 17-game period and need to find form quickly.\n",
            "City will point towards the penalty as a key moment against a Tottenham side who have not won a top-flight title since 1961.\n",
            "Both sides struggled to create chances in a tight encounter but, despite Tottenham having more of the ball, the hosts will feel they deserved at least a point as David Silva scooped over late on.\n",
            "Media playback is not supported on this device\n",
            "Manchester City were absolutely furious at Mark Clattenburg's decision to penalise Sterling and you could understand why.\n",
            "The England forward had turned his back as he jumped to block Danny Rose's cross, with the ball hitting him as he was looking the other way.\n",
            "Former Wales and Leicester midfielder Robbie Savage told BBC Radio 5 live: \"I think that is harsh, very, very harsh. It has hit him on the elbow.\"\n",
            "However, in a match of few chances, City should ask questions defensively as they levelled before leaving themselves wide open seven minutes from time for Eriksen, on his 24th birthday, to win the match.\n",
            "England manager Roy Hodgson was at the Etihad and would have welcomed the earlier news of scoring returns for Arsenal's Danny Welbeck and Liverpool's Daniel Sturridge.\n",
            "In the first two games of the day, six of the nine goals scored had been netted by English players and his options before Euro 2016 were further demonstrated in Manchester as Kane scored his 16th Premier League goal of the season.\n",
            "The 11.9km covered by England's 19-year-old midfielder Dele Alli was more than all but one of Manchester City's side, as he continues to impress, while compatriot Eric Dier, 22, was solid in the holding midfield role.\n",
            "Another England forward, Sterling, was quiet for the most part for City, although he did almost break the deadlock with a volley that was bravely blocked by Rose early on.\n",
            "Man City boss Manuel Pellegrini told BBC Sport: \"It was a penalty that referee Mark Clattenburg wanted to sign for and he gave the sign. It was absolutely the wrong decision, it hit the back of Raheem Sterling then his elbow. Sterling was not even seeing the ball. It was the same referee in the first game where there were two clear goals in offside and we lost 4-1.\n",
            "\"It was the key moment that decided thee game; before that they did not shoot towards our goal and did not have any chances. We took the risks, the spirit of the team was good but it was not enough.\"\n",
            "Tottenham boss Mauricio Pochettino told BBC Sport: \"I think that it was a game that was very important. You could feel it was not a normal game and a real test for us; for that we feel very pleased for the players.\n",
            "\"The mentality was good and a perfect performance against a team with a lot of quality players who are top class. Full credit to my players.\n",
            "\"From my point of view, I did not see the penalty incident. Sometimes in football it happens, it goes for you and against you in the season.\"\n",
            "Manchester City travel to Chelsea in the FA Cup fifth round next Sunday (16:00 GMT), before a last 16 Champions League tie at Dynamo Kiev the following Wednesday (19:45 GMT). Tottenham travel to Fiorentina in the last 32 of the Europa League on Thursday (18:00 GMT), before entertaining Crystal Palace in the FA Cup fifth round on Sunday (15:00 GMT).\n",
            "Match ends, Manchester City 1, Tottenham Hotspur 2.\n",
            "Second Half ends, Manchester City 1, Tottenham Hotspur 2.\n",
            "Delay over. They are ready to continue.\n",
            "Delay in match Hugo Lloris (Tottenham Hotspur) because of an injury.\n",
            "Attempt missed. David Silva (Manchester City) left footed shot from very close range is too high.\n",
            "Attempt blocked. Raheem Sterling (Manchester City) right footed shot from the left side of the box is blocked. Assisted by Nicolás Otamendi.\n",
            "Attempt missed. Vincent Kompany (Manchester City) header from the centre of the box misses to the right. Assisted by Aleksandar Kolarov with a cross following a corner.\n",
            "Corner,  Manchester City. Conceded by Tom Carroll.\n",
            "Substitution, Tottenham Hotspur. Nacer Chadli replaces Harry Kane.\n",
            "Foul by Erik Lamela (Tottenham Hotspur).\n",
            "Aleksandar Kolarov (Manchester City) wins a free kick on the left wing.\n",
            "Attempt missed. Harry Kane (Tottenham Hotspur) right footed shot from outside the box is close, but misses to the left.\n",
            "Attempt missed. Yaya Touré (Manchester City) right footed shot from more than 35 yards misses to the left.\n",
            "Goal!  Manchester City 1, Tottenham Hotspur 2. Christian Eriksen (Tottenham Hotspur) right footed shot from the centre of the box to the bottom right corner. Assisted by Erik Lamela with a through ball.\n",
            "Offside, Manchester City. Raheem Sterling tries a through ball, but Sergio Agüero is caught offside.\n",
            "Corner,  Manchester City. Conceded by Danny Rose.\n",
            "Attempt blocked. Sergio Agüero (Manchester City) right footed shot from the centre of the box is blocked. Assisted by Kelechi Iheanacho with a headed pass.\n",
            "Substitution, Tottenham Hotspur. Erik Lamela replaces Dele Alli.\n",
            "Toby Alderweireld (Tottenham Hotspur) wins a free kick in the defensive half.\n",
            "Dangerous play by Kelechi Iheanacho (Manchester City).\n",
            "Offside, Manchester City. Yaya Touré tries a through ball, but Sergio Agüero is caught offside.\n",
            "Attempt saved. Yaya Touré (Manchester City) right footed shot from outside the box is saved in the top centre of the goal. Assisted by Kelechi Iheanacho.\n",
            "Tom Carroll (Tottenham Hotspur) is shown the yellow card.\n",
            "Substitution, Manchester City. Aleksandar Kolarov replaces Gaël Clichy.\n",
            "Goal!  Manchester City 1, Tottenham Hotspur 1. Kelechi Iheanacho (Manchester City) left footed shot from the centre of the box to the top left corner. Assisted by Gaël Clichy with a cross.\n",
            "Substitution, Tottenham Hotspur. Tom Carroll replaces Son Heung-Min.\n",
            "Hand ball by Son Heung-Min (Tottenham Hotspur).\n",
            "Substitution, Manchester City. Kelechi Iheanacho replaces Fernando.\n",
            "Offside, Manchester City. David Silva tries a through ball, but Sergio Agüero is caught offside.\n",
            "Dele Alli (Tottenham Hotspur) wins a free kick on the right wing.\n",
            "Foul by Gaël Clichy (Manchester City).\n",
            "Attempt missed. Yaya Touré (Manchester City) header from the centre of the box misses to the right. Assisted by Gaël Clichy.\n",
            "Attempt blocked. David Silva (Manchester City) left footed shot from outside the box is blocked. Assisted by Raheem Sterling.\n",
            "Attempt blocked. Sergio Agüero (Manchester City) right footed shot from the left side of the box is blocked. Assisted by Fernandinho.\n",
            "Foul by Kevin Wimmer (Tottenham Hotspur).\n",
            "Sergio Agüero (Manchester City) wins a free kick in the defensive half.\n",
            "Dele Alli (Tottenham Hotspur) wins a free kick on the left wing.\n",
            "Foul by Pablo Zabaleta (Manchester City).\n",
            "Attempt saved. Yaya Touré (Manchester City) right footed shot from outside the box is saved in the top centre of the goal.\n",
            "Kevin Wimmer (Tottenham Hotspur) is shown the yellow card for a bad foul. \n",
            "\n",
            "Actual summary: tottenham moved to within two points of premier league leaders leicester as christian eriksen struck late winner at fourth placed manchester city.\n",
            "Predicted summary: manchester city maintained their unbeaten record in the premier league with victory over manchester city at the stadium\n",
            "\n",
            "\n",
            "Eval Metrics:\n",
            "{'rouge-1': {'r': 0.22727272727272727, 'p': 0.3333333333333333, 'f': 0.27027026544923305}, 'rouge-2': {'r': 0.09523809523809523, 'p': 0.125, 'f': 0.10810810319941586}, 'rouge-l': {'r': 0.18181818181818182, 'p': 0.26666666666666666, 'f': 0.21621621139517908}}\n",
            "\n",
            "\n",
            "Review: Susilo Bambang Yudhoyono said it was a \"hurtful action\" and that Australia had \"belittled\" the row. Jakarta would review co-operation, he said.\n",
            "Australian PM Tony Abbott expressed regret but said he would not apologise.\n",
            "The allegations published by Australian media came from documents leaked by whistleblower Edward Snowden.\n",
            "Mr Abbott said he regretted \"any embarrassment\" caused by the reports.\n",
            "\"I regard President Yudhoyono as a good friend of Australia, indeed as one of the very best friends that we have anywhere in the world,\" he said, speaking in parliament on Tuesday.\n",
            "However, he added: \"I don't believe that Australia should be expected to apologise for reasonable intelligence-gathering operations, just as I don't expect other countries or other governments to apologise for their reasonable intelligence-gathering operations.\"\n",
            "Indonesia, The Jakarta Globe, editorial\n",
            "There is no doubt that if Australia wishes to limit the damage from the fallout of the spying scandal, it needs to apologise to the Indonesian government and the Indonesian people.\n",
            "Indonesia, The Jakarta Post, commentary\n",
            "The argument that such tapping is normal practice is but an excuse, not a justification. The true inherent reason is that Australia is stuck in a mind-set of mistrust toward its northern neighbour.\n",
            "Australia, Sydney Morning Herald, article\n",
            "Indonesian President Susilo Bambang Yudhoyono's furious and direct attack on the Australian prime minister shows just how deep the diplomatic schism between the two countries is, and how Tony Abbott has badly mishandled the crisis.\n",
            "Australia, The Australian, article\n",
            "Recalling its ambassador to Canberra represents a serious deterioration in the relationship and may well presage further real trouble, as more revelations from the rogue US consultant, Edward Snowden, are almost certain to follow.\n",
            "Spy row: Media reaction\n",
            "Indonesia recalled its ambassador on Monday, after the latest allegations emerged, and said it was summoning Australia's ambassador for questioning.\n",
            "The leaked document showed that Australian spy agencies named Mr Yudhoyono, the first lady, the vice-president and other senior ministers as targets for telephone monitoring, the Australian Broadcasting Corporation (ABC) and the Guardian said.\n",
            "The presentation from the Defence Signals Directorate (now known as the Australian Signals Directorate) showed that agencies attempted to listen to Mr Yudhoyono's calls at least once, and tracked calls made to and from his mobile phone, in August 2009, they added.\n",
            "It is the latest in a series of spying allegations that have strained relations between the two allies.\n",
            "Earlier this month, Indonesia expressed anger over reports that Australia's Jakarta embassy was used as part of a US-led spying network in Asia.\n",
            "On Tuesday, in a series of strong tweets, Mr Yudhoyono said: \"These US & Australian actions have certainly damaged the strategic partnerships with Indonesia, as fellow democracies.\"\n",
            "He said that Indonesia would review its \"bilateral co-operation agenda\" with Australia.\n",
            "He also expressed \"regret\" at Mr Abbott's response to the allegations, saying that he had \"belittled this tapping matter on Indonesia, without any remorse\".\n",
            "Speaking in parliament on Monday, Mr Abbott had said: \"The Australian government never comments on specific intelligence matters.\"\n",
            "\"All governments gather information and all governments know that every other government gathers information,\" he said.\n",
            "\"I will never say or do anything that might damage the strong relationship and the close co-operation that we have with Indonesia, which is all in all our most important relationship.\"\n",
            "The alleged spying took place in 2009, under the previous government.\n",
            "Australia and Indonesia are key allies and trading partners.\n",
            "Australia requires Indonesia's co-operation on asylum, as many asylum seekers travel via Indonesia to Australia by boat, but there are tensions on the issue.\n",
            "Earlier this month, Indonesia declined an Australian request to receive a boat of asylum seekers whose vessel, bound for Australia's Christmas Island, had got into trouble after it departed from Indonesia.\n",
            "Monday's leaked document, a slideshow presentation, appeared to show a list of Indonesian \"leadership targets\" and the handset models used by each target, as well as a diagram of \"voice events\" of the Indonesian president in August 2009.\n",
            "One slide entitled \"Indonesian President voice intercept (August '09)\" appeared to show an attempt to listen to the content of a phone call to Mr Yudhoyono.\n",
            "It is amongst a series of documents leaked by ex-US intelligence contractor Edward Snowden, who has been granted temporary asylum in Russia and is wanted in the US in connection with the unauthorised disclosures. \n",
            "\n",
            "Actual summary: indonesia president says ties with australia have been damaged by reports that canberra spied on his phone calls and those of his ministers.\n",
            "Predicted summary: australian pm has said he is not concerned about the australian government decision to remove illegal fishing from the sea\n",
            "\n",
            "\n",
            "Eval Metrics:\n",
            "{'rouge-1': {'r': 0.0, 'p': 0.0, 'f': 0.0}, 'rouge-2': {'r': 0.0, 'p': 0.0, 'f': 0.0}, 'rouge-l': {'r': 0.0, 'p': 0.0, 'f': 0.0}}\n",
            "\n",
            "\n",
            "Review: Both players join the League Two side until the end of the season.\n",
            "Nelson, 19, is yet to make a senior appearance for the Black Cats but has played two under-21 games in the EFL Trophy this season.\n",
            "Northern Ireland Under-21 international Rooney, 20, has played just three times this season but scored twice against the Pools on his Argyle debut in May.\n",
            "He was on the bench for Plymouth's 2-1 defeat at Yeovil on Tuesday night, with the club saying his move to the north-east went through just 17 seconds before the transfer window shut.\n",
            "Find all the latest football transfers on our dedicated page or visit our Premier League tracker here. \n",
            "\n",
            "Actual summary: hartlepool have signed strikers andrew nelson and louis rooney on loan from sunderland and plymouth respectively.\n",
            "Predicted summary: plymouth have signed striker on two year contract after he left the club\n",
            "\n",
            "\n",
            "Eval Metrics:\n",
            "{'rouge-1': {'r': 0.26666666666666666, 'p': 0.3076923076923077, 'f': 0.285714280739796}, 'rouge-2': {'r': 0.06666666666666667, 'p': 0.08333333333333333, 'f': 0.07407406913580279}, 'rouge-l': {'r': 0.2, 'p': 0.23076923076923078, 'f': 0.21428570931122462}}\n",
            "\n",
            "\n",
            "Review: In a series of Twitter posts addressed directly to Mr Maduro, Mr Almagro also called him a \"petty dictator\".\n",
            "Mr Maduro accused the OAS chief earlier this week of being a CIA agent and a traitor himself.\n",
            "The Venezuelan president has blamed his country's economic crisis on an axis of enemy forces co-ordinated from the US.\n",
            "During a three-hour long news conference on Tuesday, Mr Maduro had justified his declaration of a state of emergency by saying Venezuela was under attack from imperialist forces led by the CIA.\n",
            "He then told journalists: \"Almagro, just give up. He has been a traitor for a long time... At some point I will tell his story, I know his secrets. The Americans, the CIA, have played a master move using Almagro as their agent.\"\n",
            "Mr Almagro, who before leading the OAS was the foreign minister of his native Uruguay, had already clashed with Mr Maduro last year after he called him \"rubbish\".\n",
            "Mr Almagro had responded on that occasion with an eight-page open letter, saying he would be \"rubbish\" if he ignored the plight of the Venezuelan people.\n",
            "His Twitter posts this week were both more concise and more direct.\n",
            "Linking to his open letter to Mr Maduro, Mr Almagro said: @NicolasMaduro I'm not a traitor either to my ideas or my principles BUT YOU ARE A TRAITOR to your people.\n",
            "In a series of 12 tweets, he also told the Venezuelan president that \"you will NEVER be able to undo so much suffering, intimidation, misery and anguish you've created for your people\".\n",
            "He also said Mr Maduro would \"NEVER be able to bring back to life the children who've died because of lack of medicine\".\n",
            "Venezuelan doctors say a shortage of essential medicine has reached a crisis point.\n",
            "Mr Almagro also urged Mr Maduro to allow a recall referendum to go ahead.\n",
            "Opposition politicians have handed in a petition with 1.85 million signatures to the electoral authorities requesting a referendum be held to recall Mr Maduro from office.\n",
            "But Mr Maduro's deputy, Vice-President Aristobulo Isturiz, on Sunday ruled out such a referendum, saying the signatures were \"fraudulent\".\n",
            "Mr Almagro said that not letting the referendum go ahead made Mr Maduro \"another petty dictator\".\n",
            "While President Maduro did not answer Mr Almagro's tweets directly, Venezuelan Foreign Minister Delcy Rodriguez did.\n",
            "She wrote, \"Mr Almagro, every time you make a statement you express your hatred against Venezuela and its legitimate authorities. You are part of the imperialist detritus.\"\n",
            "\"You only repeat the scripted words which your imperialist masters dictate to you\".\n",
            "\"You will never give orders to Venezuela!\"\n",
            "The former president of Uruguay, Jose Mujica, has also commented on the row between Mr Almagro, who served as Mr Mujica's foreign minister, and President Maduro.\n",
            "Asked what he made of the bitter exchange, he said using a popular Spanish saying that Mr Maduro was \"crazy as a goat\".\n",
            "\"They're all crazy in Venezuela, they call each other all sorts of things but they're not going to fix anything this way.\"\n",
            "While Mr Mujica is known for his direct and outspoken manner his words are damaging to Mr Maduro, who has always praised the former left-wing president as a \"comrade\". \n",
            "\n",
            "Actual summary: the head of the organization of american states oas luis almagro, has accused the venezuelan president nicolas maduro of being traitor\n",
            "Predicted summary: president has said he is the of president vladimir putin\n",
            "\n",
            "\n",
            "Eval Metrics:\n",
            "{'rouge-1': {'r': 0.23529411764705882, 'p': 0.4444444444444444, 'f': 0.30769230316568047}, 'rouge-2': {'r': 0.0, 'p': 0.0, 'f': 0.0}, 'rouge-l': {'r': 0.17647058823529413, 'p': 0.3333333333333333, 'f': 0.23076922624260363}}\n",
            "\n",
            "\n",
            "Review: Mark Turner, 55, tried to use an EpiPen to counter the severe allergic reaction but spilled the contents, a hearing at Exeter's County Hall was told.\n",
            "His wife then successfully used another pen to administer an injection, but he died from the reaction to the sting at his home on Dartmoor, Devon.\n",
            "A coroner recorded a conclusion of accidental death.\n",
            "More on this story plus more Devon and Cornwall news\n",
            "Mr Turner kept three hives near his home as a hobby and to make honey.\n",
            "He had previously been diagnosed with an allergy to bee stings, but tests had found the severity of his condition was on the \"lower end\".\n",
            "His wife Ali said on the day of his death in November 2015 the father of three ran into the house and then collapsed on the floor gasping for breath.\n",
            "He got out of the protective suit and grabbed the EpiPen but it misfired and the contents ended up on the floor.\n",
            "Mrs Turner then got a second pen and injected his leg.\n",
            "She said: \"He was still conscious but delirious. He was grey and pale and his breath was shallow. He was not responding.\"\n",
            "He died about 20 minutes later despite the efforts of paramedics.\n",
            "A post-mortem examination concluded Mr Turner died from the anaphylactic allergic reaction caused by the sting to his neck.\n",
            "His wife said he had gone to see his GP in May 2015 and was given antihistamines and Epinephrine injections after suffering a reaction.\n",
            "Mrs Turner said her husband was \"fit and healthy\" and said had he known there was a risk of dying \"he would have given up the bees\".\n",
            "Assistant coroner Luisa Nicholson said both EpiPens had been tested and did not have any defects. \n",
            "\n",
            "Actual summary: an amateur beekeeper died after he was stung on the neck inside his protective suit, an inquest has heard.\n",
            "Predicted summary: man who was found dead in his home in gwynedd has been found dead\n",
            "\n",
            "\n",
            "Eval Metrics:\n",
            "{'rouge-1': {'r': 0.16666666666666666, 'p': 0.2727272727272727, 'f': 0.2068965470154579}, 'rouge-2': {'r': 0.0, 'p': 0.0, 'f': 0.0}, 'rouge-l': {'r': 0.16666666666666666, 'p': 0.2727272727272727, 'f': 0.2068965470154579}}\n",
            "\n",
            "\n",
            "Review: Highways England say the Â£6m layout changes on the Posthouse roundabout proved more difficult than anticipated.\n",
            "Work began last summer and was expected to finish by March but it has now been pushed back to 28 June.\n",
            "Wrexham MP Ian Lucas said the route was vital to the region's economy.\n",
            "\"Deadlines were set, missed, then extended, not once but again and again - and the level of information given to motorists has been very poor indeed,\" he said.\n",
            "New Chester MP Chris Matheson added: \"The chaos these works have caused has been a real issue for Chester for months.\"\n",
            "A Highways England spokesperson said: \"We are doing everything we can to complete the A55/A483 scheme as quickly as possible.\n",
            "\"We have rescheduled the street lighting installation work to take place overnight in July, so that we are able to fully open the roundabout and start operating the traffic lights from Monday 29 June.\" \n",
            "\n",
            "Actual summary: mps are demanding highways officials explain why roadworks on the and on the chester wrexham border have over run, causing months of frustration and long hold ups for motorists.\n",
            "Predicted summary: the first time in years is to be in the north east of england\n",
            "\n",
            "\n",
            "Eval Metrics:\n",
            "{'rouge-1': {'r': 0.07692307692307693, 'p': 0.16666666666666666, 'f': 0.10526315357340738}, 'rouge-2': {'r': 0.0, 'p': 0.0, 'f': 0.0}, 'rouge-l': {'r': 0.07692307692307693, 'p': 0.16666666666666666, 'f': 0.10526315357340738}}\n",
            "\n",
            "\n",
            "Review: Palin, who turns 70 on Sunday, said it was \"a very high honour\", adding that his success was \"down to teamwork\".\n",
            "\"I've been blessed throughout my career with the inspiration and support of others,\" he added. \"The fellowship is for all of us.\"\n",
            "Bafta chairman John Willis said Palin had made \"an incredible contribution to the medium over five decades\".\n",
            "Palin, who began his career as a writer for The Frost Report, is a founding member of world-renowned comedy troupe Monty Python.\n",
            "He has also fronted a string of critically acclaimed travel documentaries, including Around the World in 80 Days, Pole to Pole and Full Circle.\n",
            "His other TV credits include include 1960s sketch show Do Not Adjust Your Set, Ripping Yarns and the Alan Bleasdale drama GBH.\n",
            "He won a Bafta film award in 1989 for his supporting role in A Fish Called Wanda and received a special award in 2005.\n",
            "Willis said Palin's \"amiable on-screen manner belies the seriousness of his craft\", adding there were \"few individuals more worthy\" of the British Academy of Film and Television Arts' highest honour.\n",
            "The Bafta TV awards will be hosted by Graham Norton at the Royal Festival Hall in London and will be broadcast on BBC One. \n",
            "\n",
            "Actual summary: presenter, writer and monty python star michael palin will be awarded bafta fellowship at its tv awards on may.\n",
            "Predicted summary: the actor who played role in the bbc of has died at the age of\n",
            "\n",
            "\n",
            "Eval Metrics:\n",
            "{'rouge-1': {'r': 0.05263157894736842, 'p': 0.08333333333333333, 'f': 0.06451612428720119}, 'rouge-2': {'r': 0.0, 'p': 0.0, 'f': 0.0}, 'rouge-l': {'r': 0.05263157894736842, 'p': 0.08333333333333333, 'f': 0.06451612428720119}}\n",
            "\n",
            "\n",
            "Review: He argued that only another \"stable and strong\" coalition involving his party could save the country from a re-run.\n",
            "He said \"everybody knows that no-one will win this election\", even if the two major parties fail to admit it.\n",
            "\"Politicians will have to work together to put the country first,\" he said.\n",
            "Mr Clegg spoke out during a \"two-day dash\" from Land's End to John O'Groats in the final hours of the election campaign.\n",
            "He said the hardening position of Labour and the Conservatives on coalition deals meant a minority government after 7 May would be more unstable - and \"controversial\" policies would cause it to fail.\n",
            "\"Everybody knows that no-one will win this election - even if David Cameron and Ed Miliband won't admit it publicly,\" Mr Clegg said during a campaign visit to Cardiff Central where the Lib Dems are fighting off a Labour challenge for the seat.\n",
            "\"The Liberal Democrats have shown that coalitions can be strong and stable. But instead of creating stability, Labour and the Conservatives will create a shambles.\n",
            "\"If they try to stagger through with a messy and unstable minority government instead of putting the country first, then they will risk all the hard work and sacrifices people have made over the last five years.\n",
            "\"The last thing Britain needs is a second election before Christmas. But that is exactly what will happen if Ed Miliband and David Cameron put their own political interest ahead of the national interest.\"\n",
            "Earlier Mr Clegg told BBC Radio 4's Today programme he was not in principle opposed to a referendum on EU membership - claiming other issues like the NHS and \"balancing the books\" were bigger priorities than the EU poll.\n",
            "He also predicted his party would do \"better than people think\" on 7 May.\n",
            "'I don't run a sect'\n",
            "Insisting his MPs could be \"the guarantors of stability at a time of great uncertainty\", he insisted: \"We'll do no deals, no pacts, no arrangements with either UKIP on the right or the SNP on the left.\n",
            "\"The great risk of not having the Liberal Democrats in Parliament, in government, is we lurch off into this blue-KIP alliance between David Cameron, UKIP, the DUP and the rest of them cutting, cutting, cutting way beyond what's necessary, or reckless borrowing as Ed Miliband and Alex Salmond are in some kind of deathly embrace on the left.\"\n",
            "Main pledges\n",
            "But Mr Clegg refused to be drawn on claims by Lib Dem peer Lord Scriven that David Cameron had privately told him before the election campaign that he did not believe the Conservatives would win a majority.\n",
            "\"In the same way I don't control the tweets of Liberal Democrats - I run a political party, I don't run a sect - I'm not going to provide a running commentary on private conversations,\" he said.\n",
            "Describing the Conservatives as \"panicky\" about the outcome of the election, he added: \"The claim they can win a majority by 23 seats is false - it's wrong - it's a big fat fib. They need to win 323 seats and I haven't met a senior Conservative who privately has ever admitted to me that they can do that.\"\n",
            "The best of BBC News' Election 2015 specials \n",
            "\n",
            "Actual summary: the uk could be poised for second general election by christmas if either labour or the conservatives try to form minority government after may, lib dem leader nick clegg has warned.\n",
            "Predicted summary: nick has said he is not to the party if he wants to stay in the european union\n",
            "\n",
            "\n",
            "Eval Metrics:\n",
            "{'rouge-1': {'r': 0.16666666666666666, 'p': 0.3333333333333333, 'f': 0.22222221777777784}, 'rouge-2': {'r': 0.0, 'p': 0.0, 'f': 0.0}, 'rouge-l': {'r': 0.1, 'p': 0.2, 'f': 0.13333332888888905}}\n",
            "\n",
            "\n",
            "Review: The accusations were made by Russell Davy in an interview with the Sunday Mirror.\n",
            "Mr Davy said he has informed the Football Association that he had been abused in 1986 by scout Eddie Heath, who is now dead.\n",
            "He said Heath began working at Charlton after working for Chelsea.\n",
            "Charlton said in a statement: \"Upon being made aware of an allegation of historical abuse in the early 1980s, Charlton Athletic has immediately activated an internal investigation the matter. We of course take the issue raised by Russell Davy seriously.\n",
            "\"Charlton Athletic is fully committed to working alongside the police and regulatory authorities to investigate any such historical allegation of abuse at the club.\n",
            "\"The club works closely with English football's governing bodies and have been in contact with the EFL to make them aware of this investigation.\n",
            "\"In addition, we would strongly encourage anyone with an allegation of, or information regarding, historic child abuse to report it to the NSPCC / FA Helpline on 0800 023 2642 and to the police, where specially trained staff will be able to provide advice and guidance.\"\n",
            "The NSPCC children's charity has said more than 860 people have called its dedicated football hotline, set up a week ago after several former players alleged past abuse by coaches.\n",
            "On Saturday, Chelsea FC apologised \"profusely\" to Gary Johnson over sex abuse he suffered as a youth team player in the 1970s.\n",
            "Mr Johnson signed a confidentiality agreement in 2015 and accepted Â£50,000 from the club, but Chelsea did not accept liability.\n",
            "In a statement, the club said Mr Johnson had \"suffered unacceptably\". \n",
            "\n",
            "Actual summary: charlton athletic have begun an investigation into claims youth player was sexually abused while at the club in the s.\n",
            "Predicted summary: former liverpool manager john has been questioned by police over the hillsborough disaster\n",
            "\n",
            "\n",
            "Eval Metrics:\n",
            "{'rouge-1': {'r': 0.05263157894736842, 'p': 0.07692307692307693, 'f': 0.06249999517578163}, 'rouge-2': {'r': 0.0, 'p': 0.0, 'f': 0.0}, 'rouge-l': {'r': 0.05263157894736842, 'p': 0.07692307692307693, 'f': 0.06249999517578163}}\n",
            "\n",
            "\n",
            "Review: Tanks were seen on the streets and explosions could be heard throughout the day in Libya's second-biggest city.\n",
            "General Khalifa Haftar, who accuses the government of supporting terrorism, began an assault against Islamist fighters in the city last month.\n",
            "The government in Tripoli says Gen Haftar has no authority to act, but several army units have joined him.\n",
            "The BBC's Rana Jawad in Tripoli says a battalion within one of the biggest rival militias has also defected to join the general.\n",
            "The clashes on Sunday were said to have been some of the worst since Gen Haftar began his offensive against Islamists, dubbed \"Operation Dignity,\" in May.\n",
            "Residents told the BBC that explosions could be heard across the city intermittently for several hours.\n",
            "An electricity plant was also hit by rockets, causing power outages in large parts of Benghazi.\n",
            "Many residents who live in the area where the fighting erupted fled their homes to stay with relatives or friends in quieter neighbourhoods.\n",
            "The number of casualties remains unclear but doctors in the city said at least six people had been killed and a dozen more injured.\n",
            "A spokesman for Gen Haftar's force told local media that they had seized several senior Islamists as part of their offensive, but this could not be independently verified.\n",
            "Since launching his offensive, Gen Haftar has rallied support from the public and members of the security forces.\n",
            "He survived an assassination attempt earlier in June after a suicide bomb attack on his home in the town of Abyar, about 60km (37 miles) east of Benghazi.\n",
            "Libya is still in turmoil three years after the fall of Muammar Gaddafi, with political, religious and political factions locked in disagreement about the country's future.\n",
            "Profile: General Khalifa Haftar \n",
            "\n",
            "Actual summary: fresh clashes broke out in benghazi on sunday after rogue general launched fresh assault on islamist militants.\n",
            "Predicted summary: the government has said it will seek to the of the so called islamic state is in the capital\n",
            "\n",
            "\n",
            "Eval Metrics:\n",
            "{'rouge-1': {'r': 0.06666666666666667, 'p': 0.0625, 'f': 0.06451612403746138}, 'rouge-2': {'r': 0.0, 'p': 0.0, 'f': 0.0}, 'rouge-l': {'r': 0.06666666666666667, 'p': 0.0625, 'f': 0.06451612403746138}}\n",
            "\n",
            "\n",
            "Review: The Historical Institutional Abuse Inquiry is examining allegations of abuse in state-run children's homes and other institutions in Northern Ireland.\n",
            "However, victims of clerical child abuse and former residents of Magdalene laundry-style institutions in Northern Ireland are excluded from the remit.\n",
            "They have launched a joint campaign.\n",
            "The two groups were due to call for the remit of the Historic Institutional Abuse Inquiry to be widened.\n",
            "The inquiry, chaired by retired judge Sir Anthony Hart, was set up by the Stormont Executive and is examining cases from 1922 to 1995.\n",
            "It will also determine if there were systemic failings by the state, or institutions, in their duties towards children under 18.\n",
            "It was originally set up to investigate cases going back as far as 1945, but it was later extended to cover the period back to the foundation of the state in 1922.\n",
            "Previously, Sir Anthony has opposed further extending the scope of his inquiry to deal with abuse which took place outside institutions.\n",
            "He pointed out that such a move would have significant implications in terms of time and money.\n",
            "The inquiry is currently investigating 35 residential facilities.\n",
            "They include 15 state-run children's homes, 13 institutions run by Catholic Church orders and four borstals or training schools.\n",
            "The inquiry was announced in December 2010 and the first phase began in October 2012.\n",
            "Three institutions run by Protestant churches or voluntary organisations will also be investigated. \n",
            "\n",
            "Actual summary: abuse victims whose cases are excluded from stormont inquiry into historical child abuse have united in campaign for their allegations to be included.\n",
            "Predicted summary: the of the inquiry into child abuse in northern ireland has been published\n",
            "\n",
            "\n",
            "Eval Metrics:\n",
            "{'rouge-1': {'r': 0.22727272727272727, 'p': 0.4166666666666667, 'f': 0.29411764249134953}, 'rouge-2': {'r': 0.09090909090909091, 'p': 0.16666666666666666, 'f': 0.11764705425605555}, 'rouge-l': {'r': 0.22727272727272727, 'p': 0.4166666666666667, 'f': 0.29411764249134953}}\n",
            "\n",
            "\n",
            "Review: Torrential rain overnight left many roads impassable, while rail services were cancelled or delayed.\n",
            "The Environment Agency issued five flood warnings across the county.\n",
            "Warwickshire Fire and Rescue said it had rescued a number of people trapped in their cars due to rising floodwater.\n",
            "More on this story and others from Coventry and Warwickshire\n",
            "Network Rail said flooding on train lines around Daventry, Rugby and Wolverton delayed services between Birmingham New Street and London Euston.\n",
            "Trains on the West Coast Mainline also ran at reduced speeds due to heavy flooding.\n",
            "Rose Plumbley, headteacher of Leamington Hastings C of E Academy in Rugby, said many pupils and staff had not managed to get into school.\n",
            "\"We're in the Leam Valley and it's flooded on both roads into school,\" she said.\n",
            "\"Some pupils did manage to get in but it became very clear that many weren't going to make it in. We decided to close so that the children can get home in daylight safely.\"\n",
            "Firefighters rescued drivers from stranded vehicles in Great Alne, Wolston, Baginton and Princethorpe.\n",
            "There were also reports of cars stuck in Kenilworth Ford.\n",
            "There were flood warnings at the River Dene at Walton, River Sherbourne at Allesley, River Stour at Mitford Bridge, Shipston on Stour and Tredington, River Stour from Halford to Clifford Chambers and River Alne at Bird in Hand. \n",
            "\n",
            "Actual summary: fourteen schools were forced to close due to severe flooding in warwickshire.\n",
            "Predicted summary: storm hit the south west england and england has been hit by flooding\n",
            "\n",
            "\n",
            "Eval Metrics:\n",
            "{'rouge-1': {'r': 0.09090909090909091, 'p': 0.09090909090909091, 'f': 0.09090908590909119}, 'rouge-2': {'r': 0.0, 'p': 0.0, 'f': 0.0}, 'rouge-l': {'r': 0.09090909090909091, 'p': 0.09090909090909091, 'f': 0.09090908590909119}}\n",
            "\n",
            "\n",
            "Review: The 25-year-old Ghana defender, who arrived from League Two side Barnet in May 2016, was left out of Saturday's home defeat by Ipswich having started their two previous games.\n",
            "Heckingbottom said talks with Premier League newcomers are ongoing.\n",
            "\"In my eyes I don't have Yids until I'm told different,\" he said.\n",
            "Talking to BBC Radio Sheffield, Heckingbottom added: \"It wasn't right for me to involve Yids in the game on Saturday and if it is still the same, it won't be Tuesday because it is not fair on the other players.\n",
            "\"We are all preparing for our game and obviously Yids is in limbo at the minute.\n",
            "\"Until it is resolved one way or another and I'm told, I'm not considering him.\"\n",
            "Heckingbottom added that negotiations for the player, who made 33 appearances for the Championship club last season, \"can't go much longer\" and that he \"expects\" Yiadom's future to be known by Thursday.\n",
            "\"I'm not thinking about it until after the game on Tuesday,\" he said. \n",
            "\n",
            "Actual summary: barnsley boss paul heckingbottom says huddersfield town target andy yiadom will not be considered for selection while he is in limbo\n",
            "Predicted summary: bournemouth defender says he is not concerned about his future in the premier league\n",
            "\n",
            "\n",
            "Eval Metrics:\n",
            "{'rouge-1': {'r': 0.23809523809523808, 'p': 0.35714285714285715, 'f': 0.28571428091428575}, 'rouge-2': {'r': 0.05, 'p': 0.07692307692307693, 'f': 0.060606055831038036}, 'rouge-l': {'r': 0.19047619047619047, 'p': 0.2857142857142857, 'f': 0.22857142377142864}}\n",
            "\n",
            "\n",
            "Review: Basil McAfee was found dead by his mother at his home in Henderson Avenue, north Belfast, on 20 December 2013.\n",
            "Police said he \"suffered a violent death\" and added that they believed his killer used an axe and a large knife.\n",
            "They said that although it was not a random attack, his killer remains a danger to others in the community.\n",
            "The police officer leading the murder investigation, Det Ch Insp John McVea, said: \"It is a year since Basil died and his death has slipped somewhat from public consciousness.\n",
            "\"But it remains an enduring heartache for his family - his mother, siblings and his grown-up children.\n",
            "\"They are about to face a second Christmas without Basil and without knowing why this happened to him and who is responsible.\"\n",
            "Mr McAfee, a father-of-two, was attacked in the living room of his home and police have released a photograph of the murder scene as part of the renewed appeal.\n",
            "The 50-year-old had been stabbed a number of times and sustained head wounds consistent with being hit with an axe.\n",
            "The investigating officer described the murder as a \"ferocious attack\".\n",
            "\"He suffered a violent death at the hands of an assailant who was probably wielding an axe and a long-bladed knife,\" Mr McVea said.\n",
            "He confirmed that items, including money, were taken from Mr McAfee's house.\n",
            "\"Although we believe the attack was not random, but focused on Basil, whoever did this is a danger to others in the community while still at large,\" the detective added.\n",
            "The last public sighting of Mr McAfee was in an off-licence on the Cavehill Road, close to his home, on the afternoon of Thursday 19 December 2013.\n",
            "Shortly after the murder, police released CCTV images showing the victim shopping in the off-licence in a bid to get witnesses to come forward.\n",
            "However, they have now said they believe other people visited Mr McAfee who have not yet contacted detectives.\n",
            "Anyone with information about the case is asked to contact police on the non-emergency number 101.\n",
            "Alternatively, they can speak to the independent charity Crimestoppers anonymously on 0800 555 111. \n",
            "\n",
            "Actual summary: detectives investigating the murder of man who they believe was attacked with an axe have renewed their appeal on the first anniversary of his death.\n",
            "Predicted summary: the family of man who murdered man in attack in west belfast have said he is not the victim of the attack\n",
            "\n",
            "\n",
            "Eval Metrics:\n",
            "{'rouge-1': {'r': 0.21739130434782608, 'p': 0.3125, 'f': 0.25641025157133474}, 'rouge-2': {'r': 0.08333333333333333, 'p': 0.09523809523809523, 'f': 0.0888888839111114}, 'rouge-l': {'r': 0.21739130434782608, 'p': 0.3125, 'f': 0.25641025157133474}}\n",
            "\n",
            "\n",
            "Review: Jordan's significance results partly from its strategic location at the crossroads of what Christians, Jews and Muslims call the Holy Land.\n",
            "It is a key ally of the US and, together with Egypt, one of only two Arab nations to have made peace with Israel.\n",
            "The desert kingdom emerged out of the post-First World War division of the Middle East by Britain and France.\n",
            "Population 6.5 million\n",
            "Area 89,342 sq km (34,492 sq miles)\n",
            "Major language Arabic\n",
            "Major religion Islam\n",
            "Life expectancy 72 years (men), 75 years\n",
            "Head of state: King Abdullah II\n",
            "King Abdullah II, Jordan's monarch since 1999, has extensive powers: he appoints governments, approves legislation and is able to dissolve parliament.\n",
            "Over the past few years, he has been facing growing demands for political reform, and following the popular uprising in Tunisia which led to the flight of the president in January 2011, King Abdullah dismissed his government and appointed the first in a series of prime ministers to oversee the introduction of political change.\n",
            "The Jordanian media have traditionally been under tight state control.\n",
            "\"Veneration for the monarchy, religion, but also state institutions and the men who head them are all 'red lines' that journalists must not cross,\" said Reporters Without Borders in its 2011-12 country report.\n",
            "Jordan Media City - one of the first such ventures in the region - aims to attract media investments and operates as a regional hub for satellite TV broadcasts.\n",
            "Some key dates in Jordan's history:\n",
            "1946 - The United Nations recognizes Jordan as an independent sovereign kingdom.\n",
            "1948 - State of Israel created in British-mandate Palestine. Thousands of Palestinians flee Arab-Israeli fighting to West Bank and Jordan.\n",
            "1950 - Jordan annexes West Bank.\n",
            "1951 - King Abdullah assassinated by Palestinian gunman angry at his apparent collusion with Israel in the carve-up of Palestine.\n",
            "1952 - Hussein proclaimed king after his father, Talal, is declared mentally unfit to rule.\n",
            "1957 - British troops complete their withdrawal from Jordan.\n",
            "1967 - Israel takes control of Jerusalem and West Bank during Six-Day War, major influx of refugees into Jordan.\n",
            "1994 - Jordan signs peace treaty with Israel, ending 46-year official state of war.\n",
            "1999 - King Hussein dies. His eldest son Crown Prince Abdullah succeeds to the throne. \n",
            "\n",
            "Actual summary: the hashemite kingdom of jordan is small country with few natural resources, but it has played pivotal role in the struggle for power in the middle east.\n",
            "Predicted summary: the of the of the of the of the arab world war two years ago\n",
            "\n",
            "\n",
            "Eval Metrics:\n",
            "{'rouge-1': {'r': 0.08333333333333333, 'p': 0.25, 'f': 0.12499999625000012}, 'rouge-2': {'r': 0.0, 'p': 0.0, 'f': 0.0}, 'rouge-l': {'r': 0.08333333333333333, 'p': 0.25, 'f': 0.12499999625000012}}\n",
            "\n",
            "\n",
            "Review: The staff were hired for the launch of the 24-hour Underground service which was was originally scheduled for September.\n",
            "It has been delayed until 2016 due to a dispute over pay and conditions.\n",
            "TfL said it is \"operationally ready\" for the Night Tube and the extra staff are now working across the network.\n",
            "More on this story and news from London\n",
            "The planned September start date was pushed back until 2016, because TfL and unions were unable to reach an agreement on staffing arrangements.\n",
            "Unions took industrial action during the summer having called for increased pay and a limit on how many all-night shifts their members would be asked to do.\n",
            "Talks at the conciliatory service Acas are due to resume this week.\n",
            "TfL said it is not wasting money as the staff are fully employed.\n",
            "It added 307 are in part-time station positions and the rest work in engineering or service control, adding that some of these staff will be used to replace those that leave or retire.\n",
            "But Val Shawcross, Labour's transport spokeswoman on the London Assembly, said: \"It's a huge amount of money that must be blowing their plans.\n",
            "\"They've obviously pressed the button too soon in terms of putting them on the payroll.\" \n",
            "\n",
            "Actual summary: transport for london tfl has recruited staff for the night tube at cost of month, even though the new service is not yet operating.\n",
            "Predicted summary: the union has announced plans to close two hour strike in london\n",
            "\n",
            "\n",
            "Eval Metrics:\n",
            "{'rouge-1': {'r': 0.13636363636363635, 'p': 0.25, 'f': 0.17647058366782017}, 'rouge-2': {'r': 0.0, 'p': 0.0, 'f': 0.0}, 'rouge-l': {'r': 0.045454545454545456, 'p': 0.08333333333333333, 'f': 0.05882352484429102}}\n",
            "\n",
            "\n",
            "Review: Mourinho, 52, is halfway through a four-year deal signed on his return to Stamford Bridge in June 2013.\n",
            "And further talks are expected in the coming weeks with the club and the Portuguese keen on a long-term option.\n",
            "In his first spell at the club between 2004 and 2007, Mourinho won consecutive Premier League titles and succeeded this season with three games to spare.\n",
            "Media playback is not supported on this device\n",
            "The 2005 title was Chelsea's first top-flight success in 50 years and he also delivered two League Cups and an FA Cup.\n",
            "But he left the club to eventually join Inter Milan after falling out with Chelsea owner Roman Abramovich.\n",
            "Since his return after a six-and-a-half-year absence, which included three seasons at Real Madrid, Mourinho has spoken of his desire to stay as long as the Russian billionaire wishes to keep him.\n",
            "The Blues boss repeated that after Sunday's 1-0 defeat of Crystal Palace, which secured Chelsea's first title since 2010 and the eighth of his prolific career.\n",
            "\"As I was saying since the beginning of the season, I stay here until Mr Abramovich wants me to stay. The day he tells me to go, I go,\" said Mourinho.\n",
            "Mourinho is still to win the Champions League with Chelsea, a competition he has won with Porto and Inter Milan. \n",
            "\n",
            "Actual summary: chelsea boss jose mourinho is close to agreeing new contract after securing third premier league title.\n",
            "Predicted summary: chelsea have completed the signing of chelsea and barcelona forward for the season\n",
            "\n",
            "\n",
            "Eval Metrics:\n",
            "{'rouge-1': {'r': 0.0625, 'p': 0.09090909090909091, 'f': 0.07407406924554216}, 'rouge-2': {'r': 0.0, 'p': 0.0, 'f': 0.0}, 'rouge-l': {'r': 0.0625, 'p': 0.09090909090909091, 'f': 0.07407406924554216}}\n",
            "\n",
            "\n",
            "Review: James Purnell said it would increase non-payment and cost the BBC £200m.\n",
            "The sum is the equivalent of BBC Four, CBBC and CBeebies, which would have to be taken off air, Mr Purnell said at an event to  relaunch the iPlayer service.\n",
            "Culture Secretary Maria Miller said the move should be discussed during talks to renew the BBC's charter before 2017.\n",
            "Mr Purnell, who previously held the post in the Labour government, said \"it would be a huge risk to do it now\".\n",
            "\"The choice would be: either we take those services off or the government would have to have a higher licence fee,\" he said in reference to BBC Four - the arts and culture channel - and the BBC's children's stations.\n",
            "He argued decriminalisation would inevitably lead to greater non-payment of the TV licence, which would force an increase in the fee.\n",
            "It is currently £145.50 and has been frozen at that annual amount since 2010. It is needed to watch or record live broadcasts on any device.\n",
            "In 2012 about 155,000 people were convicted and fined for not paying the licence fee, while there were some 180,000 prosecutions.\n",
            "Mr Purnell added downgrading licence fee evasion to a civil offence would penalise the poor.\n",
            "\"Either you have a low penalty - in which case the evasion rates would go up and everyone would have to pay a higher licence fee - or a penalty which is higher and more difficult to pay,\" he said.\n",
            "The BBC has previously said \"legislation is a matter for the government\".\n",
            "\"Just a 1% increase in evasion would lead to the loss of around £35m, the equivalent of around 10 BBC local radio stations,\" it added.\n",
            "The government has floated the idea to ease pressure on the courts system.\n",
            "But it will not be discussed before charter renewal talks - which determine how the BBC is funded what it does and how it is managed.\n",
            "The current BBC charter runs out in 2016.\n",
            "Meanwhile, Labour MP John McDonnell has tabled an Early Day Motion in parliament calling on the BBC to reverse its decision to close BBC Three as a television channel.\n",
            "The motion stated BBC Three has been the home of programmes including Gavin and Stacey, and raised fears changes could lead to compulsory redundancies.\n",
            "It added the BBC should receive a licence fee increase that tracks inflation when the corporation's charter is renewed next year. \n",
            "\n",
            "Actual summary: decriminalising tv licence fee evasion could close bbc channels, the corporation strategy director has warned.\n",
            "Predicted summary: the bbc has been told to give more details about the of the service in the uk\n",
            "\n",
            "\n",
            "Eval Metrics:\n",
            "{'rouge-1': {'r': 0.2, 'p': 0.21428571428571427, 'f': 0.20689654673008337}, 'rouge-2': {'r': 0.0, 'p': 0.0, 'f': 0.0}, 'rouge-l': {'r': 0.13333333333333333, 'p': 0.14285714285714285, 'f': 0.1379310294887041}}\n",
            "\n",
            "\n",
            "Review: \"Parents no longer have the certainty when they send their child to school that they will be taught by qualified teachers,\" says NASUWT leader Chris Keates.\n",
            "Labour's Tristram Hunt says \"this is nothing less than a scandal\".\n",
            "But the Conservatives say there are fewer teachers in school without qualified status than in 2010.\n",
            "The NASUWT teachers' union, holding its annual conference in Cardiff, will hear claims that more teachers without qualified teacher status are being used in schools.\n",
            "The union has asked its members about their experiences. Among the 4,600 who responded 61% said they were \"working alongside unqualified staff\",  with 66% claiming the situation was \"deteriorating\" because of funding problems.\n",
            "\"This is jeopardising the educational progress of children,\" said Ms Keates who attacked the use of unqualified staff as a \"crude cost-cutting measure\".\n",
            "Teachers responding to the union's survey included comments such as: \"They lack any training in classroom management and discipline\" and \"I feel that parents are being misled by the quality of teaching within the school.\"\n",
            "The use of unqualified teachers has become a general election issue.\n",
            "Labour has campaigned against allowing academies and free schools to employ teachers who do not have qualified teacher status or who are training towards being qualified.\n",
            "\"The rising number of unqualified teachers in our schools shows yet again that the Tory plan is threatening standards and failing children and working families,\" said shadow education secretary Tristram Hunt.\n",
            "\"David Cameron has removed the requirement for teachers to be qualified, and as a result over 400,000 children are now being taught by unqualified teachers without receiving training in skills vital to the profession such as classroom discipline, safeguarding and how to deliver effective teaching for all children.\"\n",
            "The Liberal Democrats also want to require teachers to have qualified status.\n",
            "But both Liberal Democrats and the Conservatives say there were more unqualified teachers in schools when Labour were in power. They reject the suggestion that the use of unqualified teachers is increasing.\n",
            "A Conservative party spokesman said: \"The number of teachers without qualified status has gone down since 2010. And we need to keep this in perspective - only 3.7% of teachers are 'unqualified'.\n",
            "\"But most importantly, we've given head teachers more freedom over the teachers they employ because we trust them to know what is best for their schools.\n",
            "\"There are some brilliant teachers who have not got qualified teacher status - nuns, great linguists, computer scientists, engineers and other specialists that inspire their pupils. They may have worked in the independent sector or have experience in the outside world.\"\n",
            "A spokesman for the Liberal Democrats said they would \"change the law to guarantee a qualified teacher in every classroom\".\n",
            "\"Teaching must be recognised as the vitally important and high status profession that it is, able to attract and retain the very best people.\"\n",
            "\"It is good news that there are now fewer unqualified teachers working in schools than under the previous Labour government.  However, every child deserves to be taught by a qualified teacher, regardless of what type of school they attend.\"\n",
            "The most recent Department for Education figures available, for 2013, show the number of unqualified teachers rose compared with the previous year, from 14,800 to 17,100, but is lower than in 2010, when there were 17,800 of teachers without qualified teacher status.\n",
            "However for academies, the proportion of unqualified teachers has risen each year since 2010, from 2,200 to 7,900. \n",
            "\n",
            "Actual summary: teachers union is warning that schools are increasingly likely to use unqualified teaching staff.\n",
            "Predicted summary: teachers union has called for teachers to be the of teachers and teachers\n",
            "\n",
            "\n",
            "Eval Metrics:\n",
            "{'rouge-1': {'r': 0.21428571428571427, 'p': 0.3, 'f': 0.24999999513888896}, 'rouge-2': {'r': 0.07692307692307693, 'p': 0.08333333333333333, 'f': 0.07999999500800031}, 'rouge-l': {'r': 0.21428571428571427, 'p': 0.3, 'f': 0.24999999513888896}}\n",
            "\n",
            "\n",
            "Review: Britain's Sunday People newspaper quoted the father as saying: \"We want the world to know her real name.\"\n",
            "But Indian media later said the father denied giving consent for her name to be revealed.\n",
            "Indian law protects sex crime victims by prohibiting identification.\n",
            "One minister, Shashi Tharoor, has urged authorities to reveal the name so it can be used for a new anti-rape law.\n",
            "The woman, 23, died last weekend in a hospital in Singapore from injuries suffered during last month's attack.\n",
            "The father was quoted as telling the Sunday People: \"My daughter didn't do anything wrong, she died while protecting herself.\n",
            "\"I am proud of her. Revealing her name will give courage to other women who have survived these attacks. They will find strength from my daughter.\"\n",
            "However, the Hindustan Times later quoted the father as saying he would want the name made public only if a law was named after her.\n",
            "\"I have only said we won't have any objection if the government uses my daughter's name for a new law for crime against women that is more stringent and better framed that the existing one,\" the Indian paper quoted him as saying.\n",
            "The laws on identification were introduced to protect victims from the social stigma associated with rape, and apply even after the death of the victim.\n",
            "Although the system has not always been watertight, the high-profile case has brought a tough stance from the authorities.\n",
            "Police filed a case against broadcaster Zee News after it carried an interview with the friend who was with the victim during the attack.\n",
            "The victim's friend was not named but his face was shown and police are investigating whether Zee News broke broadcasting laws relating to disclosure of the victim's identity.\n",
            "However, it remains unclear what could be done if the father chose to publicly name his daughter.\n",
            "Last week, Mr Tharoor, the junior education minister, called on the authorities to reveal the name of the gang-rape victim so that the new anti-rape law could be named after her.\n",
            "He wrote: \"Unless her parents object, she should be honoured and the revised anti-rape law named after her. She was a human being with a name, not just a symbol.\"\n",
            "The Sunday People said the father had given it permission to name him and his daughter.\n",
            "It carried a photograph of the father but said the family had requested no photograph of the victim be used.\n",
            "In the interview, the father also renewed his calls for the men who carried out the attack to be hanged.\n",
            "\"Death for all six of them. These men are beasts. They should be made an example of and that society will not allow such things to happen,\" he said.\n",
            "Five men have been charged with abduction, rape and murder. A sixth suspect is expected to be tried as a juvenile.\n",
            "A pre-court hearing for the five was held in the Saket area of the Indian capital on Saturday and the men have been summoned to appear in court on Monday.\n",
            "In his interview with Zee News, the friend said he and the rape victim had boarded a bus after a trip to the cinema and after failing to flag down an auto-rickshaw.\n",
            "He said the bus had tinted windows, and that he believed the group of men had laid a trap for them.\n",
            "He confirmed that the assailants had later thrown them off the bus and tried to run them over.\n",
            "The case has caused a national outcry, and there have been frequent protests calling for greater protection for women.\n",
            "The BBC's Andrew North, in Delhi, says it continues to put Indian life under a sharp magnifying glass and for many people it is uncomfortable viewing. \n",
            "\n",
            "Actual summary: the father of an indian woman who was gang raped in delhi and later died says her name should be made public so she can serve as an inspiration to other sex crime victims, uk paper reports.\n",
            "Predicted summary: the of rape victim in india in the case of rape victim has been in the of the rape case\n",
            "\n",
            "\n",
            "Eval Metrics:\n",
            "{'rouge-1': {'r': 0.08333333333333333, 'p': 0.3333333333333333, 'f': 0.13333333013333343}, 'rouge-2': {'r': 0.0, 'p': 0.0, 'f': 0.0}, 'rouge-l': {'r': 0.08333333333333333, 'p': 0.3333333333333333, 'f': 0.13333333013333343}}\n",
            "\n",
            "\n"
          ]
        }
      ],
      "source": [
        "for i in random.sample(range(0,len(text_val)+1),20):\n",
        "    print(\"Review:\",text_val[index[i]],\"\\n\")\n",
        "    actual = summary_val[index[i]]\n",
        "    print(\"Actual summary:\",actual)\n",
        "    model_out=decode_sequence(x_val[index[i]].reshape(1,max_text_len))\n",
        "    print(\"Predicted summary:\",model_out)\n",
        "    print(\"\\n\")\n",
        "    print(\"Eval Metrics:\")\n",
        "    print(rouge.get_scores(model_out, actual, avg=True))\n",
        "    print(\"\\n\")"
      ]
    },
    {
      "cell_type": "code",
      "execution_count": 49,
      "metadata": {
        "id": "9kxDJisSUBON"
      },
      "outputs": [],
      "source": [
        ""
      ]
    },
    {
      "cell_type": "code",
      "execution_count": 49,
      "metadata": {
        "id": "KqglF5xiUBON"
      },
      "outputs": [],
      "source": [
        ""
      ]
    },
    {
      "cell_type": "code",
      "execution_count": 49,
      "metadata": {
        "id": "g-2laUVbUBON"
      },
      "outputs": [],
      "source": [
        ""
      ]
    },
    {
      "cell_type": "code",
      "execution_count": 49,
      "metadata": {
        "id": "g-zuhmVpUBON"
      },
      "outputs": [],
      "source": [
        ""
      ]
    },
    {
      "cell_type": "markdown",
      "metadata": {
        "id": "b_34NMbxUBON"
      },
      "source": [
        "# Testing Model"
      ]
    },
    {
      "cell_type": "code",
      "execution_count": 50,
      "metadata": {
        "id": "MjcLX1P9UBON"
      },
      "outputs": [],
      "source": [
        "text1='''\n",
        "My Puppy was on Royal Canin but we switched her to Wellness Pupy b/c I eventually wanted her on Wellness Core but she doesn't seem to like it.  I have to mix the can with it in order for her to eat it.  She was with a dog sitter for a week while we were out of the country and she came back with her food container full.  She seemed more solid, like she'd gained a lot more weight in just a week.  Apparently she ate their dog food and wouldn't touch her more expensive food.  Now that she's home, she's gone back to barely eating it.  I'll try another brand after we finish this bag.  I'm sure the nutrition in it is great  but if I can't get my dog to eat it, what good is it? \n",
        "'''"
      ]
    },
    {
      "cell_type": "code",
      "execution_count": 51,
      "metadata": {
        "id": "bgobMsmmUBOO"
      },
      "outputs": [],
      "source": [
        "actual1='''my puppy likes purina better\n",
        "'''"
      ]
    },
    {
      "cell_type": "code",
      "execution_count": 52,
      "metadata": {
        "id": "mK-BSTeTUBOO",
        "colab": {
          "base_uri": "https://localhost:8080/",
          "height": 142
        },
        "outputId": "c1e7e153-0c7c-45e2-b631-f74798578adb"
      },
      "outputs": [
        {
          "output_type": "execute_result",
          "data": {
            "text/plain": [
              "                                                                                                                                                                                                  document  \\\n",
              "0  \\nMy Puppy was on Royal Canin but we switched her to Wellness Pupy b/c I eventually wanted her on Wellness Core but she doesn't seem to like it.  I have to mix the can with it in order for her to ...   \n",
              "\n",
              "                          summary  \n",
              "0  my puppy likes purina better\\n  "
            ],
            "text/html": [
              "\n",
              "  <div id=\"df-d106a64b-6e5d-4368-bea4-353f1cdb902d\">\n",
              "    <div class=\"colab-df-container\">\n",
              "      <div>\n",
              "<style scoped>\n",
              "    .dataframe tbody tr th:only-of-type {\n",
              "        vertical-align: middle;\n",
              "    }\n",
              "\n",
              "    .dataframe tbody tr th {\n",
              "        vertical-align: top;\n",
              "    }\n",
              "\n",
              "    .dataframe thead th {\n",
              "        text-align: right;\n",
              "    }\n",
              "</style>\n",
              "<table border=\"1\" class=\"dataframe\">\n",
              "  <thead>\n",
              "    <tr style=\"text-align: right;\">\n",
              "      <th></th>\n",
              "      <th>document</th>\n",
              "      <th>summary</th>\n",
              "    </tr>\n",
              "  </thead>\n",
              "  <tbody>\n",
              "    <tr>\n",
              "      <th>0</th>\n",
              "      <td>\\nMy Puppy was on Royal Canin but we switched her to Wellness Pupy b/c I eventually wanted her on Wellness Core but she doesn't seem to like it.  I have to mix the can with it in order for her to ...</td>\n",
              "      <td>my puppy likes purina better\\n</td>\n",
              "    </tr>\n",
              "  </tbody>\n",
              "</table>\n",
              "</div>\n",
              "      <button class=\"colab-df-convert\" onclick=\"convertToInteractive('df-d106a64b-6e5d-4368-bea4-353f1cdb902d')\"\n",
              "              title=\"Convert this dataframe to an interactive table.\"\n",
              "              style=\"display:none;\">\n",
              "        \n",
              "  <svg xmlns=\"http://www.w3.org/2000/svg\" height=\"24px\"viewBox=\"0 0 24 24\"\n",
              "       width=\"24px\">\n",
              "    <path d=\"M0 0h24v24H0V0z\" fill=\"none\"/>\n",
              "    <path d=\"M18.56 5.44l.94 2.06.94-2.06 2.06-.94-2.06-.94-.94-2.06-.94 2.06-2.06.94zm-11 1L8.5 8.5l.94-2.06 2.06-.94-2.06-.94L8.5 2.5l-.94 2.06-2.06.94zm10 10l.94 2.06.94-2.06 2.06-.94-2.06-.94-.94-2.06-.94 2.06-2.06.94z\"/><path d=\"M17.41 7.96l-1.37-1.37c-.4-.4-.92-.59-1.43-.59-.52 0-1.04.2-1.43.59L10.3 9.45l-7.72 7.72c-.78.78-.78 2.05 0 2.83L4 21.41c.39.39.9.59 1.41.59.51 0 1.02-.2 1.41-.59l7.78-7.78 2.81-2.81c.8-.78.8-2.07 0-2.86zM5.41 20L4 18.59l7.72-7.72 1.47 1.35L5.41 20z\"/>\n",
              "  </svg>\n",
              "      </button>\n",
              "      \n",
              "  <style>\n",
              "    .colab-df-container {\n",
              "      display:flex;\n",
              "      flex-wrap:wrap;\n",
              "      gap: 12px;\n",
              "    }\n",
              "\n",
              "    .colab-df-convert {\n",
              "      background-color: #E8F0FE;\n",
              "      border: none;\n",
              "      border-radius: 50%;\n",
              "      cursor: pointer;\n",
              "      display: none;\n",
              "      fill: #1967D2;\n",
              "      height: 32px;\n",
              "      padding: 0 0 0 0;\n",
              "      width: 32px;\n",
              "    }\n",
              "\n",
              "    .colab-df-convert:hover {\n",
              "      background-color: #E2EBFA;\n",
              "      box-shadow: 0px 1px 2px rgba(60, 64, 67, 0.3), 0px 1px 3px 1px rgba(60, 64, 67, 0.15);\n",
              "      fill: #174EA6;\n",
              "    }\n",
              "\n",
              "    [theme=dark] .colab-df-convert {\n",
              "      background-color: #3B4455;\n",
              "      fill: #D2E3FC;\n",
              "    }\n",
              "\n",
              "    [theme=dark] .colab-df-convert:hover {\n",
              "      background-color: #434B5C;\n",
              "      box-shadow: 0px 1px 3px 1px rgba(0, 0, 0, 0.15);\n",
              "      filter: drop-shadow(0px 1px 2px rgba(0, 0, 0, 0.3));\n",
              "      fill: #FFFFFF;\n",
              "    }\n",
              "  </style>\n",
              "\n",
              "      <script>\n",
              "        const buttonEl =\n",
              "          document.querySelector('#df-d106a64b-6e5d-4368-bea4-353f1cdb902d button.colab-df-convert');\n",
              "        buttonEl.style.display =\n",
              "          google.colab.kernel.accessAllowed ? 'block' : 'none';\n",
              "\n",
              "        async function convertToInteractive(key) {\n",
              "          const element = document.querySelector('#df-d106a64b-6e5d-4368-bea4-353f1cdb902d');\n",
              "          const dataTable =\n",
              "            await google.colab.kernel.invokeFunction('convertToInteractive',\n",
              "                                                     [key], {});\n",
              "          if (!dataTable) return;\n",
              "\n",
              "          const docLinkHtml = 'Like what you see? Visit the ' +\n",
              "            '<a target=\"_blank\" href=https://colab.research.google.com/notebooks/data_table.ipynb>data table notebook</a>'\n",
              "            + ' to learn more about interactive tables.';\n",
              "          element.innerHTML = '';\n",
              "          dataTable['output_type'] = 'display_data';\n",
              "          await google.colab.output.renderOutput(dataTable, element);\n",
              "          const docLink = document.createElement('div');\n",
              "          docLink.innerHTML = docLinkHtml;\n",
              "          element.appendChild(docLink);\n",
              "        }\n",
              "      </script>\n",
              "    </div>\n",
              "  </div>\n",
              "  "
            ]
          },
          "metadata": {},
          "execution_count": 52
        }
      ],
      "source": [
        "df = pd.DataFrame({\n",
        "    'document': [text1],\n",
        "    'summary': [actual1]})\n",
        "df.head()"
      ]
    },
    {
      "cell_type": "code",
      "execution_count": 53,
      "metadata": {
        "id": "0sJND2MEUBOO"
      },
      "outputs": [],
      "source": [
        "# preprocess review text\n",
        "cleaned_text2 = []\n",
        "reviews2=np.array(df['document'])\n",
        "\n",
        "for i in range(len(reviews2)):\n",
        "    cleaned_text2.append(text_cleaner(reviews2[i]))\n",
        "    \n",
        "    \n",
        "# preprocess titles\n",
        "cleaned_summary2 = []\n",
        "summary2=np.array(df['summary'])\n",
        "\n",
        "for i in range(len(summary2)):\n",
        "    cleaned_summary2.append(text_cleaner(summary2[i]))\n",
        "    \n",
        "# create a dataframe\n",
        "test1=pd.DataFrame({'document':cleaned_text2,'summary':cleaned_summary2,'reviews':reviews2})\n",
        "\n",
        "test1['summary'] = test1['summary'].apply(lambda x : 'sostok '+ x + ' eostok')\n",
        "\n",
        "x_val1, y_val1 = test1['document'], test1['summary']\n",
        "text_val1, y_val1 = test1['reviews'], test1['summary']\n",
        "\n",
        "#convert text sequences into integer sequences\n",
        "x_val_seq1  =   x_tokenizer.texts_to_sequences(x_val1)\n",
        "\n",
        "#padding zero upto maximum length\n",
        "x_val1  =   pad_sequences(x_val_seq1, maxlen=max_text_len, padding='post')\n",
        "\n",
        "summary_val1 = np.array(y_val1)\n",
        "text_val1 = np.array(text_val1)\n",
        "\n",
        "# Convert word sequences to integer sequences\n",
        "y_val_seq1 = y_tokenizer.texts_to_sequences(y_val1)\n",
        "\n",
        "# eliminate the sequences from test data\n",
        "index1 = []\n",
        "for i in range(len(y_val_seq1)):\n",
        "    if(len(y_val_seq[i])<=3):\n",
        "        index1.append(i)\n",
        "        \n",
        "y_val_seq1 = np.delete(y_val_seq1,index1, axis=0)\n",
        "x_val1 = np.delete(x_val1,index1, axis=0)\n",
        "text_val1 = np.delete(text_val1,index1,axis=0)\n",
        "summary_val1 = np.delete(summary_val1,index1,axis=0)\n",
        "\n",
        "#padding zero upto maximum length\n",
        "y_val1 = pad_sequences(y_val_seq1, maxlen=max_summary_len, padding='post')\n",
        "\n",
        "source1=[]\n",
        "for i in range(len(x_val1)):\n",
        "    source1.append(seq2source(x_val1[i]))  \n",
        "    \n",
        "summary_val1=[' '.join(i.split()[1:-1]) for i in summary_val1]\n",
        "\n",
        "index1=[]\n",
        "for i in range(len(source1)):\n",
        "    if(len(source1[i].split()) >= 10):\n",
        "        index1.append(i)"
      ]
    },
    {
      "cell_type": "code",
      "execution_count": 54,
      "metadata": {
        "id": "9bt0IkKiUBOO",
        "colab": {
          "base_uri": "https://localhost:8080/"
        },
        "outputId": "1c2e37a9-5ce6-4e4b-afdf-15d4416ce7f8"
      },
      "outputs": [
        {
          "output_type": "stream",
          "name": "stdout",
          "text": [
            "Review: \n",
            "My Puppy was on Royal Canin but we switched her to Wellness Pupy b/c I eventually wanted her on Wellness Core but she doesn't seem to like it.  I have to mix the can with it in order for her to eat it.  She was with a dog sitter for a week while we were out of the country and she came back with her food container full.  She seemed more solid, like she'd gained a lot more weight in just a week.  Apparently she ate their dog food and wouldn't touch her more expensive food.  Now that she's home, she's gone back to barely eating it.  I'll try another brand after we finish this bag.  I'm sure the nutrition in it is great  but if I can't get my dog to eat it, what good is it? \n",
            " \n",
            "\n",
            "Actual summary: my puppy likes purina better\n",
            "\n",
            "Predicted summary: is the first woman in the uk to be born in the uk\n",
            "\n",
            "\n",
            "Eval Metrics:\n",
            "{'rouge-1': {'r': 0.0, 'p': 0.0, 'f': 0.0}, 'rouge-2': {'r': 0.0, 'p': 0.0, 'f': 0.0}, 'rouge-l': {'r': 0.0, 'p': 0.0, 'f': 0.0}}\n",
            "\n",
            "\n"
          ]
        }
      ],
      "source": [
        "print(\"Review:\",text_val1[index1[0]],\"\\n\")\n",
        "actual = summary_val1[index1[0]]\n",
        "print(\"Actual summary:\",actual1)\n",
        "model_out1=decode_sequence(x_val1[index1[0]].reshape(1,max_text_len))\n",
        "print(\"Predicted summary:\",model_out1)\n",
        "print(\"\\n\")\n",
        "print(\"Eval Metrics:\")\n",
        "print(rouge.get_scores(model_out1, actual1, avg=True))\n",
        "print(\"\\n\")"
      ]
    },
    {
      "cell_type": "code",
      "execution_count": 54,
      "metadata": {
        "id": "TsmWp7bCUBOO"
      },
      "outputs": [],
      "source": [
        ""
      ]
    },
    {
      "cell_type": "code",
      "execution_count": 54,
      "metadata": {
        "id": "yLpzczSrUBOP"
      },
      "outputs": [],
      "source": [
        ""
      ]
    }
  ],
  "metadata": {
    "kernelspec": {
      "display_name": "Python 3 (ipykernel)",
      "language": "python",
      "name": "python3"
    },
    "language_info": {
      "codemirror_mode": {
        "name": "ipython",
        "version": 3
      },
      "file_extension": ".py",
      "mimetype": "text/x-python",
      "name": "python",
      "nbconvert_exporter": "python",
      "pygments_lexer": "ipython3",
      "version": "3.8.5"
    },
    "colab": {
      "name": "xsum_text_summarization.ipynb",
      "provenance": [],
      "machine_shape": "hm"
    },
    "accelerator": "GPU",
    "widgets": {
      "application/vnd.jupyter.widget-state+json": {
        "54f481f1f7c04627b0cf9e4bf22197dc": {
          "model_module": "@jupyter-widgets/controls",
          "model_name": "HBoxModel",
          "model_module_version": "1.5.0",
          "state": {
            "_dom_classes": [],
            "_model_module": "@jupyter-widgets/controls",
            "_model_module_version": "1.5.0",
            "_model_name": "HBoxModel",
            "_view_count": null,
            "_view_module": "@jupyter-widgets/controls",
            "_view_module_version": "1.5.0",
            "_view_name": "HBoxView",
            "box_style": "",
            "children": [
              "IPY_MODEL_084b1eca2d004ba18493a7c4064437f6",
              "IPY_MODEL_d600b8e0e2974e2299d2f3cf9d9198c7",
              "IPY_MODEL_4f6dce322cf64df99b0e085b789d951c"
            ],
            "layout": "IPY_MODEL_263bce0d744348d58b43ac97c261e2ca"
          }
        },
        "084b1eca2d004ba18493a7c4064437f6": {
          "model_module": "@jupyter-widgets/controls",
          "model_name": "HTMLModel",
          "model_module_version": "1.5.0",
          "state": {
            "_dom_classes": [],
            "_model_module": "@jupyter-widgets/controls",
            "_model_module_version": "1.5.0",
            "_model_name": "HTMLModel",
            "_view_count": null,
            "_view_module": "@jupyter-widgets/controls",
            "_view_module_version": "1.5.0",
            "_view_name": "HTMLView",
            "description": "",
            "description_tooltip": null,
            "layout": "IPY_MODEL_1e4513a2903a428fa1acf980df87568c",
            "placeholder": "​",
            "style": "IPY_MODEL_9f66f41d0ae64bf8beddab2c7c9c8699",
            "value": "Downloading builder script: "
          }
        },
        "d600b8e0e2974e2299d2f3cf9d9198c7": {
          "model_module": "@jupyter-widgets/controls",
          "model_name": "FloatProgressModel",
          "model_module_version": "1.5.0",
          "state": {
            "_dom_classes": [],
            "_model_module": "@jupyter-widgets/controls",
            "_model_module_version": "1.5.0",
            "_model_name": "FloatProgressModel",
            "_view_count": null,
            "_view_module": "@jupyter-widgets/controls",
            "_view_module_version": "1.5.0",
            "_view_name": "ProgressView",
            "bar_style": "success",
            "description": "",
            "description_tooltip": null,
            "layout": "IPY_MODEL_4d02ab608a2d458fb94142670861a0dd",
            "max": 2054,
            "min": 0,
            "orientation": "horizontal",
            "style": "IPY_MODEL_14c2ddd5e9c94d02a59f0b433e7c9b17",
            "value": 2054
          }
        },
        "4f6dce322cf64df99b0e085b789d951c": {
          "model_module": "@jupyter-widgets/controls",
          "model_name": "HTMLModel",
          "model_module_version": "1.5.0",
          "state": {
            "_dom_classes": [],
            "_model_module": "@jupyter-widgets/controls",
            "_model_module_version": "1.5.0",
            "_model_name": "HTMLModel",
            "_view_count": null,
            "_view_module": "@jupyter-widgets/controls",
            "_view_module_version": "1.5.0",
            "_view_name": "HTMLView",
            "description": "",
            "description_tooltip": null,
            "layout": "IPY_MODEL_1fae6954c0c1406e8380029fbfeaedb6",
            "placeholder": "​",
            "style": "IPY_MODEL_ba79cc7a672445bea3c5c702d387e0a8",
            "value": " 5.79k/? [00:00&lt;00:00, 145kB/s]"
          }
        },
        "263bce0d744348d58b43ac97c261e2ca": {
          "model_module": "@jupyter-widgets/base",
          "model_name": "LayoutModel",
          "model_module_version": "1.2.0",
          "state": {
            "_model_module": "@jupyter-widgets/base",
            "_model_module_version": "1.2.0",
            "_model_name": "LayoutModel",
            "_view_count": null,
            "_view_module": "@jupyter-widgets/base",
            "_view_module_version": "1.2.0",
            "_view_name": "LayoutView",
            "align_content": null,
            "align_items": null,
            "align_self": null,
            "border": null,
            "bottom": null,
            "display": null,
            "flex": null,
            "flex_flow": null,
            "grid_area": null,
            "grid_auto_columns": null,
            "grid_auto_flow": null,
            "grid_auto_rows": null,
            "grid_column": null,
            "grid_gap": null,
            "grid_row": null,
            "grid_template_areas": null,
            "grid_template_columns": null,
            "grid_template_rows": null,
            "height": null,
            "justify_content": null,
            "justify_items": null,
            "left": null,
            "margin": null,
            "max_height": null,
            "max_width": null,
            "min_height": null,
            "min_width": null,
            "object_fit": null,
            "object_position": null,
            "order": null,
            "overflow": null,
            "overflow_x": null,
            "overflow_y": null,
            "padding": null,
            "right": null,
            "top": null,
            "visibility": null,
            "width": null
          }
        },
        "1e4513a2903a428fa1acf980df87568c": {
          "model_module": "@jupyter-widgets/base",
          "model_name": "LayoutModel",
          "model_module_version": "1.2.0",
          "state": {
            "_model_module": "@jupyter-widgets/base",
            "_model_module_version": "1.2.0",
            "_model_name": "LayoutModel",
            "_view_count": null,
            "_view_module": "@jupyter-widgets/base",
            "_view_module_version": "1.2.0",
            "_view_name": "LayoutView",
            "align_content": null,
            "align_items": null,
            "align_self": null,
            "border": null,
            "bottom": null,
            "display": null,
            "flex": null,
            "flex_flow": null,
            "grid_area": null,
            "grid_auto_columns": null,
            "grid_auto_flow": null,
            "grid_auto_rows": null,
            "grid_column": null,
            "grid_gap": null,
            "grid_row": null,
            "grid_template_areas": null,
            "grid_template_columns": null,
            "grid_template_rows": null,
            "height": null,
            "justify_content": null,
            "justify_items": null,
            "left": null,
            "margin": null,
            "max_height": null,
            "max_width": null,
            "min_height": null,
            "min_width": null,
            "object_fit": null,
            "object_position": null,
            "order": null,
            "overflow": null,
            "overflow_x": null,
            "overflow_y": null,
            "padding": null,
            "right": null,
            "top": null,
            "visibility": null,
            "width": null
          }
        },
        "9f66f41d0ae64bf8beddab2c7c9c8699": {
          "model_module": "@jupyter-widgets/controls",
          "model_name": "DescriptionStyleModel",
          "model_module_version": "1.5.0",
          "state": {
            "_model_module": "@jupyter-widgets/controls",
            "_model_module_version": "1.5.0",
            "_model_name": "DescriptionStyleModel",
            "_view_count": null,
            "_view_module": "@jupyter-widgets/base",
            "_view_module_version": "1.2.0",
            "_view_name": "StyleView",
            "description_width": ""
          }
        },
        "4d02ab608a2d458fb94142670861a0dd": {
          "model_module": "@jupyter-widgets/base",
          "model_name": "LayoutModel",
          "model_module_version": "1.2.0",
          "state": {
            "_model_module": "@jupyter-widgets/base",
            "_model_module_version": "1.2.0",
            "_model_name": "LayoutModel",
            "_view_count": null,
            "_view_module": "@jupyter-widgets/base",
            "_view_module_version": "1.2.0",
            "_view_name": "LayoutView",
            "align_content": null,
            "align_items": null,
            "align_self": null,
            "border": null,
            "bottom": null,
            "display": null,
            "flex": null,
            "flex_flow": null,
            "grid_area": null,
            "grid_auto_columns": null,
            "grid_auto_flow": null,
            "grid_auto_rows": null,
            "grid_column": null,
            "grid_gap": null,
            "grid_row": null,
            "grid_template_areas": null,
            "grid_template_columns": null,
            "grid_template_rows": null,
            "height": null,
            "justify_content": null,
            "justify_items": null,
            "left": null,
            "margin": null,
            "max_height": null,
            "max_width": null,
            "min_height": null,
            "min_width": null,
            "object_fit": null,
            "object_position": null,
            "order": null,
            "overflow": null,
            "overflow_x": null,
            "overflow_y": null,
            "padding": null,
            "right": null,
            "top": null,
            "visibility": null,
            "width": null
          }
        },
        "14c2ddd5e9c94d02a59f0b433e7c9b17": {
          "model_module": "@jupyter-widgets/controls",
          "model_name": "ProgressStyleModel",
          "model_module_version": "1.5.0",
          "state": {
            "_model_module": "@jupyter-widgets/controls",
            "_model_module_version": "1.5.0",
            "_model_name": "ProgressStyleModel",
            "_view_count": null,
            "_view_module": "@jupyter-widgets/base",
            "_view_module_version": "1.2.0",
            "_view_name": "StyleView",
            "bar_color": null,
            "description_width": ""
          }
        },
        "1fae6954c0c1406e8380029fbfeaedb6": {
          "model_module": "@jupyter-widgets/base",
          "model_name": "LayoutModel",
          "model_module_version": "1.2.0",
          "state": {
            "_model_module": "@jupyter-widgets/base",
            "_model_module_version": "1.2.0",
            "_model_name": "LayoutModel",
            "_view_count": null,
            "_view_module": "@jupyter-widgets/base",
            "_view_module_version": "1.2.0",
            "_view_name": "LayoutView",
            "align_content": null,
            "align_items": null,
            "align_self": null,
            "border": null,
            "bottom": null,
            "display": null,
            "flex": null,
            "flex_flow": null,
            "grid_area": null,
            "grid_auto_columns": null,
            "grid_auto_flow": null,
            "grid_auto_rows": null,
            "grid_column": null,
            "grid_gap": null,
            "grid_row": null,
            "grid_template_areas": null,
            "grid_template_columns": null,
            "grid_template_rows": null,
            "height": null,
            "justify_content": null,
            "justify_items": null,
            "left": null,
            "margin": null,
            "max_height": null,
            "max_width": null,
            "min_height": null,
            "min_width": null,
            "object_fit": null,
            "object_position": null,
            "order": null,
            "overflow": null,
            "overflow_x": null,
            "overflow_y": null,
            "padding": null,
            "right": null,
            "top": null,
            "visibility": null,
            "width": null
          }
        },
        "ba79cc7a672445bea3c5c702d387e0a8": {
          "model_module": "@jupyter-widgets/controls",
          "model_name": "DescriptionStyleModel",
          "model_module_version": "1.5.0",
          "state": {
            "_model_module": "@jupyter-widgets/controls",
            "_model_module_version": "1.5.0",
            "_model_name": "DescriptionStyleModel",
            "_view_count": null,
            "_view_module": "@jupyter-widgets/base",
            "_view_module_version": "1.2.0",
            "_view_name": "StyleView",
            "description_width": ""
          }
        },
        "4f38df0f6f9e4e4d9c97b58229d8f9d7": {
          "model_module": "@jupyter-widgets/controls",
          "model_name": "HBoxModel",
          "model_module_version": "1.5.0",
          "state": {
            "_dom_classes": [],
            "_model_module": "@jupyter-widgets/controls",
            "_model_module_version": "1.5.0",
            "_model_name": "HBoxModel",
            "_view_count": null,
            "_view_module": "@jupyter-widgets/controls",
            "_view_module_version": "1.5.0",
            "_view_name": "HBoxView",
            "box_style": "",
            "children": [
              "IPY_MODEL_5c5f6d97aa634870ae39bcaa6a156f39",
              "IPY_MODEL_17c2c693c8544ddca05595b278549010",
              "IPY_MODEL_885b434584df4718adf56cbe5e552e7d"
            ],
            "layout": "IPY_MODEL_ea1dada722314149ad9cebc1301989ce"
          }
        },
        "5c5f6d97aa634870ae39bcaa6a156f39": {
          "model_module": "@jupyter-widgets/controls",
          "model_name": "HTMLModel",
          "model_module_version": "1.5.0",
          "state": {
            "_dom_classes": [],
            "_model_module": "@jupyter-widgets/controls",
            "_model_module_version": "1.5.0",
            "_model_name": "HTMLModel",
            "_view_count": null,
            "_view_module": "@jupyter-widgets/controls",
            "_view_module_version": "1.5.0",
            "_view_name": "HTMLView",
            "description": "",
            "description_tooltip": null,
            "layout": "IPY_MODEL_4345c69d337240e195e8fbe69e37309a",
            "placeholder": "​",
            "style": "IPY_MODEL_3185437ea1d94cc196e7b53094f3d57e",
            "value": "Downloading metadata: "
          }
        },
        "17c2c693c8544ddca05595b278549010": {
          "model_module": "@jupyter-widgets/controls",
          "model_name": "FloatProgressModel",
          "model_module_version": "1.5.0",
          "state": {
            "_dom_classes": [],
            "_model_module": "@jupyter-widgets/controls",
            "_model_module_version": "1.5.0",
            "_model_name": "FloatProgressModel",
            "_view_count": null,
            "_view_module": "@jupyter-widgets/controls",
            "_view_module_version": "1.5.0",
            "_view_name": "ProgressView",
            "bar_style": "success",
            "description": "",
            "description_tooltip": null,
            "layout": "IPY_MODEL_ebbf51b1e6d64859beba8be81df4ce7b",
            "max": 954,
            "min": 0,
            "orientation": "horizontal",
            "style": "IPY_MODEL_a98eb0cf22364d5f93c4ac114ecc23f8",
            "value": 954
          }
        },
        "885b434584df4718adf56cbe5e552e7d": {
          "model_module": "@jupyter-widgets/controls",
          "model_name": "HTMLModel",
          "model_module_version": "1.5.0",
          "state": {
            "_dom_classes": [],
            "_model_module": "@jupyter-widgets/controls",
            "_model_module_version": "1.5.0",
            "_model_name": "HTMLModel",
            "_view_count": null,
            "_view_module": "@jupyter-widgets/controls",
            "_view_module_version": "1.5.0",
            "_view_name": "HTMLView",
            "description": "",
            "description_tooltip": null,
            "layout": "IPY_MODEL_ff40262a11ae46ca881a1ac41459627a",
            "placeholder": "​",
            "style": "IPY_MODEL_68dd573d770f4486a594d9621efc94c4",
            "value": " 1.91k/? [00:00&lt;00:00, 37.8kB/s]"
          }
        },
        "ea1dada722314149ad9cebc1301989ce": {
          "model_module": "@jupyter-widgets/base",
          "model_name": "LayoutModel",
          "model_module_version": "1.2.0",
          "state": {
            "_model_module": "@jupyter-widgets/base",
            "_model_module_version": "1.2.0",
            "_model_name": "LayoutModel",
            "_view_count": null,
            "_view_module": "@jupyter-widgets/base",
            "_view_module_version": "1.2.0",
            "_view_name": "LayoutView",
            "align_content": null,
            "align_items": null,
            "align_self": null,
            "border": null,
            "bottom": null,
            "display": null,
            "flex": null,
            "flex_flow": null,
            "grid_area": null,
            "grid_auto_columns": null,
            "grid_auto_flow": null,
            "grid_auto_rows": null,
            "grid_column": null,
            "grid_gap": null,
            "grid_row": null,
            "grid_template_areas": null,
            "grid_template_columns": null,
            "grid_template_rows": null,
            "height": null,
            "justify_content": null,
            "justify_items": null,
            "left": null,
            "margin": null,
            "max_height": null,
            "max_width": null,
            "min_height": null,
            "min_width": null,
            "object_fit": null,
            "object_position": null,
            "order": null,
            "overflow": null,
            "overflow_x": null,
            "overflow_y": null,
            "padding": null,
            "right": null,
            "top": null,
            "visibility": null,
            "width": null
          }
        },
        "4345c69d337240e195e8fbe69e37309a": {
          "model_module": "@jupyter-widgets/base",
          "model_name": "LayoutModel",
          "model_module_version": "1.2.0",
          "state": {
            "_model_module": "@jupyter-widgets/base",
            "_model_module_version": "1.2.0",
            "_model_name": "LayoutModel",
            "_view_count": null,
            "_view_module": "@jupyter-widgets/base",
            "_view_module_version": "1.2.0",
            "_view_name": "LayoutView",
            "align_content": null,
            "align_items": null,
            "align_self": null,
            "border": null,
            "bottom": null,
            "display": null,
            "flex": null,
            "flex_flow": null,
            "grid_area": null,
            "grid_auto_columns": null,
            "grid_auto_flow": null,
            "grid_auto_rows": null,
            "grid_column": null,
            "grid_gap": null,
            "grid_row": null,
            "grid_template_areas": null,
            "grid_template_columns": null,
            "grid_template_rows": null,
            "height": null,
            "justify_content": null,
            "justify_items": null,
            "left": null,
            "margin": null,
            "max_height": null,
            "max_width": null,
            "min_height": null,
            "min_width": null,
            "object_fit": null,
            "object_position": null,
            "order": null,
            "overflow": null,
            "overflow_x": null,
            "overflow_y": null,
            "padding": null,
            "right": null,
            "top": null,
            "visibility": null,
            "width": null
          }
        },
        "3185437ea1d94cc196e7b53094f3d57e": {
          "model_module": "@jupyter-widgets/controls",
          "model_name": "DescriptionStyleModel",
          "model_module_version": "1.5.0",
          "state": {
            "_model_module": "@jupyter-widgets/controls",
            "_model_module_version": "1.5.0",
            "_model_name": "DescriptionStyleModel",
            "_view_count": null,
            "_view_module": "@jupyter-widgets/base",
            "_view_module_version": "1.2.0",
            "_view_name": "StyleView",
            "description_width": ""
          }
        },
        "ebbf51b1e6d64859beba8be81df4ce7b": {
          "model_module": "@jupyter-widgets/base",
          "model_name": "LayoutModel",
          "model_module_version": "1.2.0",
          "state": {
            "_model_module": "@jupyter-widgets/base",
            "_model_module_version": "1.2.0",
            "_model_name": "LayoutModel",
            "_view_count": null,
            "_view_module": "@jupyter-widgets/base",
            "_view_module_version": "1.2.0",
            "_view_name": "LayoutView",
            "align_content": null,
            "align_items": null,
            "align_self": null,
            "border": null,
            "bottom": null,
            "display": null,
            "flex": null,
            "flex_flow": null,
            "grid_area": null,
            "grid_auto_columns": null,
            "grid_auto_flow": null,
            "grid_auto_rows": null,
            "grid_column": null,
            "grid_gap": null,
            "grid_row": null,
            "grid_template_areas": null,
            "grid_template_columns": null,
            "grid_template_rows": null,
            "height": null,
            "justify_content": null,
            "justify_items": null,
            "left": null,
            "margin": null,
            "max_height": null,
            "max_width": null,
            "min_height": null,
            "min_width": null,
            "object_fit": null,
            "object_position": null,
            "order": null,
            "overflow": null,
            "overflow_x": null,
            "overflow_y": null,
            "padding": null,
            "right": null,
            "top": null,
            "visibility": null,
            "width": null
          }
        },
        "a98eb0cf22364d5f93c4ac114ecc23f8": {
          "model_module": "@jupyter-widgets/controls",
          "model_name": "ProgressStyleModel",
          "model_module_version": "1.5.0",
          "state": {
            "_model_module": "@jupyter-widgets/controls",
            "_model_module_version": "1.5.0",
            "_model_name": "ProgressStyleModel",
            "_view_count": null,
            "_view_module": "@jupyter-widgets/base",
            "_view_module_version": "1.2.0",
            "_view_name": "StyleView",
            "bar_color": null,
            "description_width": ""
          }
        },
        "ff40262a11ae46ca881a1ac41459627a": {
          "model_module": "@jupyter-widgets/base",
          "model_name": "LayoutModel",
          "model_module_version": "1.2.0",
          "state": {
            "_model_module": "@jupyter-widgets/base",
            "_model_module_version": "1.2.0",
            "_model_name": "LayoutModel",
            "_view_count": null,
            "_view_module": "@jupyter-widgets/base",
            "_view_module_version": "1.2.0",
            "_view_name": "LayoutView",
            "align_content": null,
            "align_items": null,
            "align_self": null,
            "border": null,
            "bottom": null,
            "display": null,
            "flex": null,
            "flex_flow": null,
            "grid_area": null,
            "grid_auto_columns": null,
            "grid_auto_flow": null,
            "grid_auto_rows": null,
            "grid_column": null,
            "grid_gap": null,
            "grid_row": null,
            "grid_template_areas": null,
            "grid_template_columns": null,
            "grid_template_rows": null,
            "height": null,
            "justify_content": null,
            "justify_items": null,
            "left": null,
            "margin": null,
            "max_height": null,
            "max_width": null,
            "min_height": null,
            "min_width": null,
            "object_fit": null,
            "object_position": null,
            "order": null,
            "overflow": null,
            "overflow_x": null,
            "overflow_y": null,
            "padding": null,
            "right": null,
            "top": null,
            "visibility": null,
            "width": null
          }
        },
        "68dd573d770f4486a594d9621efc94c4": {
          "model_module": "@jupyter-widgets/controls",
          "model_name": "DescriptionStyleModel",
          "model_module_version": "1.5.0",
          "state": {
            "_model_module": "@jupyter-widgets/controls",
            "_model_module_version": "1.5.0",
            "_model_name": "DescriptionStyleModel",
            "_view_count": null,
            "_view_module": "@jupyter-widgets/base",
            "_view_module_version": "1.2.0",
            "_view_name": "StyleView",
            "description_width": ""
          }
        },
        "de3e5c01b3a24f0cb94ec7399f19c126": {
          "model_module": "@jupyter-widgets/controls",
          "model_name": "HBoxModel",
          "model_module_version": "1.5.0",
          "state": {
            "_dom_classes": [],
            "_model_module": "@jupyter-widgets/controls",
            "_model_module_version": "1.5.0",
            "_model_name": "HBoxModel",
            "_view_count": null,
            "_view_module": "@jupyter-widgets/controls",
            "_view_module_version": "1.5.0",
            "_view_name": "HBoxView",
            "box_style": "",
            "children": [
              "IPY_MODEL_47029683272a400996e6a83dfaa967a3",
              "IPY_MODEL_74a1706a03bd414e80c5628f7e590187",
              "IPY_MODEL_a87953db41b043be874e4c21b63bb104"
            ],
            "layout": "IPY_MODEL_64367c8b351a4433a040f5a564323610"
          }
        },
        "47029683272a400996e6a83dfaa967a3": {
          "model_module": "@jupyter-widgets/controls",
          "model_name": "HTMLModel",
          "model_module_version": "1.5.0",
          "state": {
            "_dom_classes": [],
            "_model_module": "@jupyter-widgets/controls",
            "_model_module_version": "1.5.0",
            "_model_name": "HTMLModel",
            "_view_count": null,
            "_view_module": "@jupyter-widgets/controls",
            "_view_module_version": "1.5.0",
            "_view_name": "HTMLView",
            "description": "",
            "description_tooltip": null,
            "layout": "IPY_MODEL_cb6e231e95e54cddb93ac4771346caad",
            "placeholder": "​",
            "style": "IPY_MODEL_dc3a193c04464d80aa69bc5ff7da4f59",
            "value": "Downloading data files: 100%"
          }
        },
        "74a1706a03bd414e80c5628f7e590187": {
          "model_module": "@jupyter-widgets/controls",
          "model_name": "FloatProgressModel",
          "model_module_version": "1.5.0",
          "state": {
            "_dom_classes": [],
            "_model_module": "@jupyter-widgets/controls",
            "_model_module_version": "1.5.0",
            "_model_name": "FloatProgressModel",
            "_view_count": null,
            "_view_module": "@jupyter-widgets/controls",
            "_view_module_version": "1.5.0",
            "_view_name": "ProgressView",
            "bar_style": "success",
            "description": "",
            "description_tooltip": null,
            "layout": "IPY_MODEL_89bd0552dae44b959f1e6ca167993085",
            "max": 2,
            "min": 0,
            "orientation": "horizontal",
            "style": "IPY_MODEL_7c91f57117cf45c093bcceed7efe75cd",
            "value": 2
          }
        },
        "a87953db41b043be874e4c21b63bb104": {
          "model_module": "@jupyter-widgets/controls",
          "model_name": "HTMLModel",
          "model_module_version": "1.5.0",
          "state": {
            "_dom_classes": [],
            "_model_module": "@jupyter-widgets/controls",
            "_model_module_version": "1.5.0",
            "_model_name": "HTMLModel",
            "_view_count": null,
            "_view_module": "@jupyter-widgets/controls",
            "_view_module_version": "1.5.0",
            "_view_name": "HTMLView",
            "description": "",
            "description_tooltip": null,
            "layout": "IPY_MODEL_a423d367ff89405397f4c338f94bf732",
            "placeholder": "​",
            "style": "IPY_MODEL_14c0576fcd10491d80e5aad8293304ec",
            "value": " 2/2 [00:12&lt;00:00,  5.10s/it]"
          }
        },
        "64367c8b351a4433a040f5a564323610": {
          "model_module": "@jupyter-widgets/base",
          "model_name": "LayoutModel",
          "model_module_version": "1.2.0",
          "state": {
            "_model_module": "@jupyter-widgets/base",
            "_model_module_version": "1.2.0",
            "_model_name": "LayoutModel",
            "_view_count": null,
            "_view_module": "@jupyter-widgets/base",
            "_view_module_version": "1.2.0",
            "_view_name": "LayoutView",
            "align_content": null,
            "align_items": null,
            "align_self": null,
            "border": null,
            "bottom": null,
            "display": null,
            "flex": null,
            "flex_flow": null,
            "grid_area": null,
            "grid_auto_columns": null,
            "grid_auto_flow": null,
            "grid_auto_rows": null,
            "grid_column": null,
            "grid_gap": null,
            "grid_row": null,
            "grid_template_areas": null,
            "grid_template_columns": null,
            "grid_template_rows": null,
            "height": null,
            "justify_content": null,
            "justify_items": null,
            "left": null,
            "margin": null,
            "max_height": null,
            "max_width": null,
            "min_height": null,
            "min_width": null,
            "object_fit": null,
            "object_position": null,
            "order": null,
            "overflow": null,
            "overflow_x": null,
            "overflow_y": null,
            "padding": null,
            "right": null,
            "top": null,
            "visibility": null,
            "width": null
          }
        },
        "cb6e231e95e54cddb93ac4771346caad": {
          "model_module": "@jupyter-widgets/base",
          "model_name": "LayoutModel",
          "model_module_version": "1.2.0",
          "state": {
            "_model_module": "@jupyter-widgets/base",
            "_model_module_version": "1.2.0",
            "_model_name": "LayoutModel",
            "_view_count": null,
            "_view_module": "@jupyter-widgets/base",
            "_view_module_version": "1.2.0",
            "_view_name": "LayoutView",
            "align_content": null,
            "align_items": null,
            "align_self": null,
            "border": null,
            "bottom": null,
            "display": null,
            "flex": null,
            "flex_flow": null,
            "grid_area": null,
            "grid_auto_columns": null,
            "grid_auto_flow": null,
            "grid_auto_rows": null,
            "grid_column": null,
            "grid_gap": null,
            "grid_row": null,
            "grid_template_areas": null,
            "grid_template_columns": null,
            "grid_template_rows": null,
            "height": null,
            "justify_content": null,
            "justify_items": null,
            "left": null,
            "margin": null,
            "max_height": null,
            "max_width": null,
            "min_height": null,
            "min_width": null,
            "object_fit": null,
            "object_position": null,
            "order": null,
            "overflow": null,
            "overflow_x": null,
            "overflow_y": null,
            "padding": null,
            "right": null,
            "top": null,
            "visibility": null,
            "width": null
          }
        },
        "dc3a193c04464d80aa69bc5ff7da4f59": {
          "model_module": "@jupyter-widgets/controls",
          "model_name": "DescriptionStyleModel",
          "model_module_version": "1.5.0",
          "state": {
            "_model_module": "@jupyter-widgets/controls",
            "_model_module_version": "1.5.0",
            "_model_name": "DescriptionStyleModel",
            "_view_count": null,
            "_view_module": "@jupyter-widgets/base",
            "_view_module_version": "1.2.0",
            "_view_name": "StyleView",
            "description_width": ""
          }
        },
        "89bd0552dae44b959f1e6ca167993085": {
          "model_module": "@jupyter-widgets/base",
          "model_name": "LayoutModel",
          "model_module_version": "1.2.0",
          "state": {
            "_model_module": "@jupyter-widgets/base",
            "_model_module_version": "1.2.0",
            "_model_name": "LayoutModel",
            "_view_count": null,
            "_view_module": "@jupyter-widgets/base",
            "_view_module_version": "1.2.0",
            "_view_name": "LayoutView",
            "align_content": null,
            "align_items": null,
            "align_self": null,
            "border": null,
            "bottom": null,
            "display": null,
            "flex": null,
            "flex_flow": null,
            "grid_area": null,
            "grid_auto_columns": null,
            "grid_auto_flow": null,
            "grid_auto_rows": null,
            "grid_column": null,
            "grid_gap": null,
            "grid_row": null,
            "grid_template_areas": null,
            "grid_template_columns": null,
            "grid_template_rows": null,
            "height": null,
            "justify_content": null,
            "justify_items": null,
            "left": null,
            "margin": null,
            "max_height": null,
            "max_width": null,
            "min_height": null,
            "min_width": null,
            "object_fit": null,
            "object_position": null,
            "order": null,
            "overflow": null,
            "overflow_x": null,
            "overflow_y": null,
            "padding": null,
            "right": null,
            "top": null,
            "visibility": null,
            "width": null
          }
        },
        "7c91f57117cf45c093bcceed7efe75cd": {
          "model_module": "@jupyter-widgets/controls",
          "model_name": "ProgressStyleModel",
          "model_module_version": "1.5.0",
          "state": {
            "_model_module": "@jupyter-widgets/controls",
            "_model_module_version": "1.5.0",
            "_model_name": "ProgressStyleModel",
            "_view_count": null,
            "_view_module": "@jupyter-widgets/base",
            "_view_module_version": "1.2.0",
            "_view_name": "StyleView",
            "bar_color": null,
            "description_width": ""
          }
        },
        "a423d367ff89405397f4c338f94bf732": {
          "model_module": "@jupyter-widgets/base",
          "model_name": "LayoutModel",
          "model_module_version": "1.2.0",
          "state": {
            "_model_module": "@jupyter-widgets/base",
            "_model_module_version": "1.2.0",
            "_model_name": "LayoutModel",
            "_view_count": null,
            "_view_module": "@jupyter-widgets/base",
            "_view_module_version": "1.2.0",
            "_view_name": "LayoutView",
            "align_content": null,
            "align_items": null,
            "align_self": null,
            "border": null,
            "bottom": null,
            "display": null,
            "flex": null,
            "flex_flow": null,
            "grid_area": null,
            "grid_auto_columns": null,
            "grid_auto_flow": null,
            "grid_auto_rows": null,
            "grid_column": null,
            "grid_gap": null,
            "grid_row": null,
            "grid_template_areas": null,
            "grid_template_columns": null,
            "grid_template_rows": null,
            "height": null,
            "justify_content": null,
            "justify_items": null,
            "left": null,
            "margin": null,
            "max_height": null,
            "max_width": null,
            "min_height": null,
            "min_width": null,
            "object_fit": null,
            "object_position": null,
            "order": null,
            "overflow": null,
            "overflow_x": null,
            "overflow_y": null,
            "padding": null,
            "right": null,
            "top": null,
            "visibility": null,
            "width": null
          }
        },
        "14c0576fcd10491d80e5aad8293304ec": {
          "model_module": "@jupyter-widgets/controls",
          "model_name": "DescriptionStyleModel",
          "model_module_version": "1.5.0",
          "state": {
            "_model_module": "@jupyter-widgets/controls",
            "_model_module_version": "1.5.0",
            "_model_name": "DescriptionStyleModel",
            "_view_count": null,
            "_view_module": "@jupyter-widgets/base",
            "_view_module_version": "1.2.0",
            "_view_name": "StyleView",
            "description_width": ""
          }
        },
        "9974f24889f94942b481c34f3fd8af9e": {
          "model_module": "@jupyter-widgets/controls",
          "model_name": "HBoxModel",
          "model_module_version": "1.5.0",
          "state": {
            "_dom_classes": [],
            "_model_module": "@jupyter-widgets/controls",
            "_model_module_version": "1.5.0",
            "_model_name": "HBoxModel",
            "_view_count": null,
            "_view_module": "@jupyter-widgets/controls",
            "_view_module_version": "1.5.0",
            "_view_name": "HBoxView",
            "box_style": "",
            "children": [
              "IPY_MODEL_5209f58eb2e74050b31e29648e294287",
              "IPY_MODEL_2c35170a44d147c88c2534bf5a6b2c88",
              "IPY_MODEL_1a705aaf50e449edaeef1342492d69fb"
            ],
            "layout": "IPY_MODEL_936bff5a7b3f4a429c12c3cc36ea0160"
          }
        },
        "5209f58eb2e74050b31e29648e294287": {
          "model_module": "@jupyter-widgets/controls",
          "model_name": "HTMLModel",
          "model_module_version": "1.5.0",
          "state": {
            "_dom_classes": [],
            "_model_module": "@jupyter-widgets/controls",
            "_model_module_version": "1.5.0",
            "_model_name": "HTMLModel",
            "_view_count": null,
            "_view_module": "@jupyter-widgets/controls",
            "_view_module_version": "1.5.0",
            "_view_name": "HTMLView",
            "description": "",
            "description_tooltip": null,
            "layout": "IPY_MODEL_6df3700cd6bb40eab97eec5bbd6f668d",
            "placeholder": "​",
            "style": "IPY_MODEL_40bc9a9d87c248eb8ec36a6e9cdcc432",
            "value": "Downloading data: 100%"
          }
        },
        "2c35170a44d147c88c2534bf5a6b2c88": {
          "model_module": "@jupyter-widgets/controls",
          "model_name": "FloatProgressModel",
          "model_module_version": "1.5.0",
          "state": {
            "_dom_classes": [],
            "_model_module": "@jupyter-widgets/controls",
            "_model_module_version": "1.5.0",
            "_model_name": "FloatProgressModel",
            "_view_count": null,
            "_view_module": "@jupyter-widgets/controls",
            "_view_module_version": "1.5.0",
            "_view_name": "ProgressView",
            "bar_style": "success",
            "description": "",
            "description_tooltip": null,
            "layout": "IPY_MODEL_98cb197078a141649c73835fd4313769",
            "max": 254582292,
            "min": 0,
            "orientation": "horizontal",
            "style": "IPY_MODEL_9c8a369de3834c6a83daf86fdd801f49",
            "value": 254582292
          }
        },
        "1a705aaf50e449edaeef1342492d69fb": {
          "model_module": "@jupyter-widgets/controls",
          "model_name": "HTMLModel",
          "model_module_version": "1.5.0",
          "state": {
            "_dom_classes": [],
            "_model_module": "@jupyter-widgets/controls",
            "_model_module_version": "1.5.0",
            "_model_name": "HTMLModel",
            "_view_count": null,
            "_view_module": "@jupyter-widgets/controls",
            "_view_module_version": "1.5.0",
            "_view_name": "HTMLView",
            "description": "",
            "description_tooltip": null,
            "layout": "IPY_MODEL_743ef7efe087442fafdd40a432c636cc",
            "placeholder": "​",
            "style": "IPY_MODEL_0abc4ee9c5014fed829ec3dcf07dad33",
            "value": " 255M/255M [00:10&lt;00:00, 29.2MB/s]"
          }
        },
        "936bff5a7b3f4a429c12c3cc36ea0160": {
          "model_module": "@jupyter-widgets/base",
          "model_name": "LayoutModel",
          "model_module_version": "1.2.0",
          "state": {
            "_model_module": "@jupyter-widgets/base",
            "_model_module_version": "1.2.0",
            "_model_name": "LayoutModel",
            "_view_count": null,
            "_view_module": "@jupyter-widgets/base",
            "_view_module_version": "1.2.0",
            "_view_name": "LayoutView",
            "align_content": null,
            "align_items": null,
            "align_self": null,
            "border": null,
            "bottom": null,
            "display": null,
            "flex": null,
            "flex_flow": null,
            "grid_area": null,
            "grid_auto_columns": null,
            "grid_auto_flow": null,
            "grid_auto_rows": null,
            "grid_column": null,
            "grid_gap": null,
            "grid_row": null,
            "grid_template_areas": null,
            "grid_template_columns": null,
            "grid_template_rows": null,
            "height": null,
            "justify_content": null,
            "justify_items": null,
            "left": null,
            "margin": null,
            "max_height": null,
            "max_width": null,
            "min_height": null,
            "min_width": null,
            "object_fit": null,
            "object_position": null,
            "order": null,
            "overflow": null,
            "overflow_x": null,
            "overflow_y": null,
            "padding": null,
            "right": null,
            "top": null,
            "visibility": null,
            "width": null
          }
        },
        "6df3700cd6bb40eab97eec5bbd6f668d": {
          "model_module": "@jupyter-widgets/base",
          "model_name": "LayoutModel",
          "model_module_version": "1.2.0",
          "state": {
            "_model_module": "@jupyter-widgets/base",
            "_model_module_version": "1.2.0",
            "_model_name": "LayoutModel",
            "_view_count": null,
            "_view_module": "@jupyter-widgets/base",
            "_view_module_version": "1.2.0",
            "_view_name": "LayoutView",
            "align_content": null,
            "align_items": null,
            "align_self": null,
            "border": null,
            "bottom": null,
            "display": null,
            "flex": null,
            "flex_flow": null,
            "grid_area": null,
            "grid_auto_columns": null,
            "grid_auto_flow": null,
            "grid_auto_rows": null,
            "grid_column": null,
            "grid_gap": null,
            "grid_row": null,
            "grid_template_areas": null,
            "grid_template_columns": null,
            "grid_template_rows": null,
            "height": null,
            "justify_content": null,
            "justify_items": null,
            "left": null,
            "margin": null,
            "max_height": null,
            "max_width": null,
            "min_height": null,
            "min_width": null,
            "object_fit": null,
            "object_position": null,
            "order": null,
            "overflow": null,
            "overflow_x": null,
            "overflow_y": null,
            "padding": null,
            "right": null,
            "top": null,
            "visibility": null,
            "width": null
          }
        },
        "40bc9a9d87c248eb8ec36a6e9cdcc432": {
          "model_module": "@jupyter-widgets/controls",
          "model_name": "DescriptionStyleModel",
          "model_module_version": "1.5.0",
          "state": {
            "_model_module": "@jupyter-widgets/controls",
            "_model_module_version": "1.5.0",
            "_model_name": "DescriptionStyleModel",
            "_view_count": null,
            "_view_module": "@jupyter-widgets/base",
            "_view_module_version": "1.2.0",
            "_view_name": "StyleView",
            "description_width": ""
          }
        },
        "98cb197078a141649c73835fd4313769": {
          "model_module": "@jupyter-widgets/base",
          "model_name": "LayoutModel",
          "model_module_version": "1.2.0",
          "state": {
            "_model_module": "@jupyter-widgets/base",
            "_model_module_version": "1.2.0",
            "_model_name": "LayoutModel",
            "_view_count": null,
            "_view_module": "@jupyter-widgets/base",
            "_view_module_version": "1.2.0",
            "_view_name": "LayoutView",
            "align_content": null,
            "align_items": null,
            "align_self": null,
            "border": null,
            "bottom": null,
            "display": null,
            "flex": null,
            "flex_flow": null,
            "grid_area": null,
            "grid_auto_columns": null,
            "grid_auto_flow": null,
            "grid_auto_rows": null,
            "grid_column": null,
            "grid_gap": null,
            "grid_row": null,
            "grid_template_areas": null,
            "grid_template_columns": null,
            "grid_template_rows": null,
            "height": null,
            "justify_content": null,
            "justify_items": null,
            "left": null,
            "margin": null,
            "max_height": null,
            "max_width": null,
            "min_height": null,
            "min_width": null,
            "object_fit": null,
            "object_position": null,
            "order": null,
            "overflow": null,
            "overflow_x": null,
            "overflow_y": null,
            "padding": null,
            "right": null,
            "top": null,
            "visibility": null,
            "width": null
          }
        },
        "9c8a369de3834c6a83daf86fdd801f49": {
          "model_module": "@jupyter-widgets/controls",
          "model_name": "ProgressStyleModel",
          "model_module_version": "1.5.0",
          "state": {
            "_model_module": "@jupyter-widgets/controls",
            "_model_module_version": "1.5.0",
            "_model_name": "ProgressStyleModel",
            "_view_count": null,
            "_view_module": "@jupyter-widgets/base",
            "_view_module_version": "1.2.0",
            "_view_name": "StyleView",
            "bar_color": null,
            "description_width": ""
          }
        },
        "743ef7efe087442fafdd40a432c636cc": {
          "model_module": "@jupyter-widgets/base",
          "model_name": "LayoutModel",
          "model_module_version": "1.2.0",
          "state": {
            "_model_module": "@jupyter-widgets/base",
            "_model_module_version": "1.2.0",
            "_model_name": "LayoutModel",
            "_view_count": null,
            "_view_module": "@jupyter-widgets/base",
            "_view_module_version": "1.2.0",
            "_view_name": "LayoutView",
            "align_content": null,
            "align_items": null,
            "align_self": null,
            "border": null,
            "bottom": null,
            "display": null,
            "flex": null,
            "flex_flow": null,
            "grid_area": null,
            "grid_auto_columns": null,
            "grid_auto_flow": null,
            "grid_auto_rows": null,
            "grid_column": null,
            "grid_gap": null,
            "grid_row": null,
            "grid_template_areas": null,
            "grid_template_columns": null,
            "grid_template_rows": null,
            "height": null,
            "justify_content": null,
            "justify_items": null,
            "left": null,
            "margin": null,
            "max_height": null,
            "max_width": null,
            "min_height": null,
            "min_width": null,
            "object_fit": null,
            "object_position": null,
            "order": null,
            "overflow": null,
            "overflow_x": null,
            "overflow_y": null,
            "padding": null,
            "right": null,
            "top": null,
            "visibility": null,
            "width": null
          }
        },
        "0abc4ee9c5014fed829ec3dcf07dad33": {
          "model_module": "@jupyter-widgets/controls",
          "model_name": "DescriptionStyleModel",
          "model_module_version": "1.5.0",
          "state": {
            "_model_module": "@jupyter-widgets/controls",
            "_model_module_version": "1.5.0",
            "_model_name": "DescriptionStyleModel",
            "_view_count": null,
            "_view_module": "@jupyter-widgets/base",
            "_view_module_version": "1.2.0",
            "_view_name": "StyleView",
            "description_width": ""
          }
        },
        "5040a9f3278f48c9a74ab11cd4408608": {
          "model_module": "@jupyter-widgets/controls",
          "model_name": "HBoxModel",
          "model_module_version": "1.5.0",
          "state": {
            "_dom_classes": [],
            "_model_module": "@jupyter-widgets/controls",
            "_model_module_version": "1.5.0",
            "_model_name": "HBoxModel",
            "_view_count": null,
            "_view_module": "@jupyter-widgets/controls",
            "_view_module_version": "1.5.0",
            "_view_name": "HBoxView",
            "box_style": "",
            "children": [
              "IPY_MODEL_92fc58a671c1411e961c80d2cbb8c4fd",
              "IPY_MODEL_2348b0f721c84e0188bf1b2fbc59acaa",
              "IPY_MODEL_df9cbcb7a4ec450a8e040715c68d0dbf"
            ],
            "layout": "IPY_MODEL_ffa7bbd426d447f482334fee06d44ab1"
          }
        },
        "92fc58a671c1411e961c80d2cbb8c4fd": {
          "model_module": "@jupyter-widgets/controls",
          "model_name": "HTMLModel",
          "model_module_version": "1.5.0",
          "state": {
            "_dom_classes": [],
            "_model_module": "@jupyter-widgets/controls",
            "_model_module_version": "1.5.0",
            "_model_name": "HTMLModel",
            "_view_count": null,
            "_view_module": "@jupyter-widgets/controls",
            "_view_module_version": "1.5.0",
            "_view_name": "HTMLView",
            "description": "",
            "description_tooltip": null,
            "layout": "IPY_MODEL_ffe5b56a1abc40648f5182253c7a532d",
            "placeholder": "​",
            "style": "IPY_MODEL_71911c3829164c139e25db0c3bb16757",
            "value": "Downloading data: "
          }
        },
        "2348b0f721c84e0188bf1b2fbc59acaa": {
          "model_module": "@jupyter-widgets/controls",
          "model_name": "FloatProgressModel",
          "model_module_version": "1.5.0",
          "state": {
            "_dom_classes": [],
            "_model_module": "@jupyter-widgets/controls",
            "_model_module_version": "1.5.0",
            "_model_name": "FloatProgressModel",
            "_view_count": null,
            "_view_module": "@jupyter-widgets/controls",
            "_view_module_version": "1.5.0",
            "_view_name": "ProgressView",
            "bar_style": "success",
            "description": "",
            "description_tooltip": null,
            "layout": "IPY_MODEL_e0fb95f294e54a2499008951b47fe404",
            "max": 1001503,
            "min": 0,
            "orientation": "horizontal",
            "style": "IPY_MODEL_55d3733d1d494e9e88907471c12b0f1c",
            "value": 1001503
          }
        },
        "df9cbcb7a4ec450a8e040715c68d0dbf": {
          "model_module": "@jupyter-widgets/controls",
          "model_name": "HTMLModel",
          "model_module_version": "1.5.0",
          "state": {
            "_dom_classes": [],
            "_model_module": "@jupyter-widgets/controls",
            "_model_module_version": "1.5.0",
            "_model_name": "HTMLModel",
            "_view_count": null,
            "_view_module": "@jupyter-widgets/controls",
            "_view_module_version": "1.5.0",
            "_view_name": "HTMLView",
            "description": "",
            "description_tooltip": null,
            "layout": "IPY_MODEL_4be4e197535f433fa9e47ed9929852fa",
            "placeholder": "​",
            "style": "IPY_MODEL_31896af608874062874a87d3a921e46a",
            "value": " 2.72M/? [00:00&lt;00:00, 29.6MB/s]"
          }
        },
        "ffa7bbd426d447f482334fee06d44ab1": {
          "model_module": "@jupyter-widgets/base",
          "model_name": "LayoutModel",
          "model_module_version": "1.2.0",
          "state": {
            "_model_module": "@jupyter-widgets/base",
            "_model_module_version": "1.2.0",
            "_model_name": "LayoutModel",
            "_view_count": null,
            "_view_module": "@jupyter-widgets/base",
            "_view_module_version": "1.2.0",
            "_view_name": "LayoutView",
            "align_content": null,
            "align_items": null,
            "align_self": null,
            "border": null,
            "bottom": null,
            "display": null,
            "flex": null,
            "flex_flow": null,
            "grid_area": null,
            "grid_auto_columns": null,
            "grid_auto_flow": null,
            "grid_auto_rows": null,
            "grid_column": null,
            "grid_gap": null,
            "grid_row": null,
            "grid_template_areas": null,
            "grid_template_columns": null,
            "grid_template_rows": null,
            "height": null,
            "justify_content": null,
            "justify_items": null,
            "left": null,
            "margin": null,
            "max_height": null,
            "max_width": null,
            "min_height": null,
            "min_width": null,
            "object_fit": null,
            "object_position": null,
            "order": null,
            "overflow": null,
            "overflow_x": null,
            "overflow_y": null,
            "padding": null,
            "right": null,
            "top": null,
            "visibility": null,
            "width": null
          }
        },
        "ffe5b56a1abc40648f5182253c7a532d": {
          "model_module": "@jupyter-widgets/base",
          "model_name": "LayoutModel",
          "model_module_version": "1.2.0",
          "state": {
            "_model_module": "@jupyter-widgets/base",
            "_model_module_version": "1.2.0",
            "_model_name": "LayoutModel",
            "_view_count": null,
            "_view_module": "@jupyter-widgets/base",
            "_view_module_version": "1.2.0",
            "_view_name": "LayoutView",
            "align_content": null,
            "align_items": null,
            "align_self": null,
            "border": null,
            "bottom": null,
            "display": null,
            "flex": null,
            "flex_flow": null,
            "grid_area": null,
            "grid_auto_columns": null,
            "grid_auto_flow": null,
            "grid_auto_rows": null,
            "grid_column": null,
            "grid_gap": null,
            "grid_row": null,
            "grid_template_areas": null,
            "grid_template_columns": null,
            "grid_template_rows": null,
            "height": null,
            "justify_content": null,
            "justify_items": null,
            "left": null,
            "margin": null,
            "max_height": null,
            "max_width": null,
            "min_height": null,
            "min_width": null,
            "object_fit": null,
            "object_position": null,
            "order": null,
            "overflow": null,
            "overflow_x": null,
            "overflow_y": null,
            "padding": null,
            "right": null,
            "top": null,
            "visibility": null,
            "width": null
          }
        },
        "71911c3829164c139e25db0c3bb16757": {
          "model_module": "@jupyter-widgets/controls",
          "model_name": "DescriptionStyleModel",
          "model_module_version": "1.5.0",
          "state": {
            "_model_module": "@jupyter-widgets/controls",
            "_model_module_version": "1.5.0",
            "_model_name": "DescriptionStyleModel",
            "_view_count": null,
            "_view_module": "@jupyter-widgets/base",
            "_view_module_version": "1.2.0",
            "_view_name": "StyleView",
            "description_width": ""
          }
        },
        "e0fb95f294e54a2499008951b47fe404": {
          "model_module": "@jupyter-widgets/base",
          "model_name": "LayoutModel",
          "model_module_version": "1.2.0",
          "state": {
            "_model_module": "@jupyter-widgets/base",
            "_model_module_version": "1.2.0",
            "_model_name": "LayoutModel",
            "_view_count": null,
            "_view_module": "@jupyter-widgets/base",
            "_view_module_version": "1.2.0",
            "_view_name": "LayoutView",
            "align_content": null,
            "align_items": null,
            "align_self": null,
            "border": null,
            "bottom": null,
            "display": null,
            "flex": null,
            "flex_flow": null,
            "grid_area": null,
            "grid_auto_columns": null,
            "grid_auto_flow": null,
            "grid_auto_rows": null,
            "grid_column": null,
            "grid_gap": null,
            "grid_row": null,
            "grid_template_areas": null,
            "grid_template_columns": null,
            "grid_template_rows": null,
            "height": null,
            "justify_content": null,
            "justify_items": null,
            "left": null,
            "margin": null,
            "max_height": null,
            "max_width": null,
            "min_height": null,
            "min_width": null,
            "object_fit": null,
            "object_position": null,
            "order": null,
            "overflow": null,
            "overflow_x": null,
            "overflow_y": null,
            "padding": null,
            "right": null,
            "top": null,
            "visibility": null,
            "width": null
          }
        },
        "55d3733d1d494e9e88907471c12b0f1c": {
          "model_module": "@jupyter-widgets/controls",
          "model_name": "ProgressStyleModel",
          "model_module_version": "1.5.0",
          "state": {
            "_model_module": "@jupyter-widgets/controls",
            "_model_module_version": "1.5.0",
            "_model_name": "ProgressStyleModel",
            "_view_count": null,
            "_view_module": "@jupyter-widgets/base",
            "_view_module_version": "1.2.0",
            "_view_name": "StyleView",
            "bar_color": null,
            "description_width": ""
          }
        },
        "4be4e197535f433fa9e47ed9929852fa": {
          "model_module": "@jupyter-widgets/base",
          "model_name": "LayoutModel",
          "model_module_version": "1.2.0",
          "state": {
            "_model_module": "@jupyter-widgets/base",
            "_model_module_version": "1.2.0",
            "_model_name": "LayoutModel",
            "_view_count": null,
            "_view_module": "@jupyter-widgets/base",
            "_view_module_version": "1.2.0",
            "_view_name": "LayoutView",
            "align_content": null,
            "align_items": null,
            "align_self": null,
            "border": null,
            "bottom": null,
            "display": null,
            "flex": null,
            "flex_flow": null,
            "grid_area": null,
            "grid_auto_columns": null,
            "grid_auto_flow": null,
            "grid_auto_rows": null,
            "grid_column": null,
            "grid_gap": null,
            "grid_row": null,
            "grid_template_areas": null,
            "grid_template_columns": null,
            "grid_template_rows": null,
            "height": null,
            "justify_content": null,
            "justify_items": null,
            "left": null,
            "margin": null,
            "max_height": null,
            "max_width": null,
            "min_height": null,
            "min_width": null,
            "object_fit": null,
            "object_position": null,
            "order": null,
            "overflow": null,
            "overflow_x": null,
            "overflow_y": null,
            "padding": null,
            "right": null,
            "top": null,
            "visibility": null,
            "width": null
          }
        },
        "31896af608874062874a87d3a921e46a": {
          "model_module": "@jupyter-widgets/controls",
          "model_name": "DescriptionStyleModel",
          "model_module_version": "1.5.0",
          "state": {
            "_model_module": "@jupyter-widgets/controls",
            "_model_module_version": "1.5.0",
            "_model_name": "DescriptionStyleModel",
            "_view_count": null,
            "_view_module": "@jupyter-widgets/base",
            "_view_module_version": "1.2.0",
            "_view_name": "StyleView",
            "description_width": ""
          }
        },
        "603c82e273474ed3ba7ad38d58357346": {
          "model_module": "@jupyter-widgets/controls",
          "model_name": "HBoxModel",
          "model_module_version": "1.5.0",
          "state": {
            "_dom_classes": [],
            "_model_module": "@jupyter-widgets/controls",
            "_model_module_version": "1.5.0",
            "_model_name": "HBoxModel",
            "_view_count": null,
            "_view_module": "@jupyter-widgets/controls",
            "_view_module_version": "1.5.0",
            "_view_name": "HBoxView",
            "box_style": "",
            "children": [
              "IPY_MODEL_b7e3f4c1578a47129ac11d5f14dd64e5",
              "IPY_MODEL_735061981d37451caeeac2cbe4e49a51",
              "IPY_MODEL_e8d3066f93784c90994aef09d0a26a89"
            ],
            "layout": "IPY_MODEL_68d59313796845ca9a8f717752f01789"
          }
        },
        "b7e3f4c1578a47129ac11d5f14dd64e5": {
          "model_module": "@jupyter-widgets/controls",
          "model_name": "HTMLModel",
          "model_module_version": "1.5.0",
          "state": {
            "_dom_classes": [],
            "_model_module": "@jupyter-widgets/controls",
            "_model_module_version": "1.5.0",
            "_model_name": "HTMLModel",
            "_view_count": null,
            "_view_module": "@jupyter-widgets/controls",
            "_view_module_version": "1.5.0",
            "_view_name": "HTMLView",
            "description": "",
            "description_tooltip": null,
            "layout": "IPY_MODEL_f75b7a08ad7f48bcaa425d26ffe0ba54",
            "placeholder": "​",
            "style": "IPY_MODEL_b83294a7d38942e891a166b1e81a74b2",
            "value": "Generating train split: 100%"
          }
        },
        "735061981d37451caeeac2cbe4e49a51": {
          "model_module": "@jupyter-widgets/controls",
          "model_name": "FloatProgressModel",
          "model_module_version": "1.5.0",
          "state": {
            "_dom_classes": [],
            "_model_module": "@jupyter-widgets/controls",
            "_model_module_version": "1.5.0",
            "_model_name": "FloatProgressModel",
            "_view_count": null,
            "_view_module": "@jupyter-widgets/controls",
            "_view_module_version": "1.5.0",
            "_view_name": "ProgressView",
            "bar_style": "",
            "description": "",
            "description_tooltip": null,
            "layout": "IPY_MODEL_f9e5a4e6325e4eb0ac42f84ad052adc1",
            "max": 204045,
            "min": 0,
            "orientation": "horizontal",
            "style": "IPY_MODEL_785d69da667e45cc967dba64a0acddec",
            "value": 204045
          }
        },
        "e8d3066f93784c90994aef09d0a26a89": {
          "model_module": "@jupyter-widgets/controls",
          "model_name": "HTMLModel",
          "model_module_version": "1.5.0",
          "state": {
            "_dom_classes": [],
            "_model_module": "@jupyter-widgets/controls",
            "_model_module_version": "1.5.0",
            "_model_name": "HTMLModel",
            "_view_count": null,
            "_view_module": "@jupyter-widgets/controls",
            "_view_module_version": "1.5.0",
            "_view_name": "HTMLView",
            "description": "",
            "description_tooltip": null,
            "layout": "IPY_MODEL_f04ceebf275e4cbe88224d692b592736",
            "placeholder": "​",
            "style": "IPY_MODEL_16fd415f257f4015a6076da47b97c7a1",
            "value": " 204029/204045 [00:38&lt;00:00, 5429.46 examples/s]"
          }
        },
        "68d59313796845ca9a8f717752f01789": {
          "model_module": "@jupyter-widgets/base",
          "model_name": "LayoutModel",
          "model_module_version": "1.2.0",
          "state": {
            "_model_module": "@jupyter-widgets/base",
            "_model_module_version": "1.2.0",
            "_model_name": "LayoutModel",
            "_view_count": null,
            "_view_module": "@jupyter-widgets/base",
            "_view_module_version": "1.2.0",
            "_view_name": "LayoutView",
            "align_content": null,
            "align_items": null,
            "align_self": null,
            "border": null,
            "bottom": null,
            "display": null,
            "flex": null,
            "flex_flow": null,
            "grid_area": null,
            "grid_auto_columns": null,
            "grid_auto_flow": null,
            "grid_auto_rows": null,
            "grid_column": null,
            "grid_gap": null,
            "grid_row": null,
            "grid_template_areas": null,
            "grid_template_columns": null,
            "grid_template_rows": null,
            "height": null,
            "justify_content": null,
            "justify_items": null,
            "left": null,
            "margin": null,
            "max_height": null,
            "max_width": null,
            "min_height": null,
            "min_width": null,
            "object_fit": null,
            "object_position": null,
            "order": null,
            "overflow": null,
            "overflow_x": null,
            "overflow_y": null,
            "padding": null,
            "right": null,
            "top": null,
            "visibility": null,
            "width": null
          }
        },
        "f75b7a08ad7f48bcaa425d26ffe0ba54": {
          "model_module": "@jupyter-widgets/base",
          "model_name": "LayoutModel",
          "model_module_version": "1.2.0",
          "state": {
            "_model_module": "@jupyter-widgets/base",
            "_model_module_version": "1.2.0",
            "_model_name": "LayoutModel",
            "_view_count": null,
            "_view_module": "@jupyter-widgets/base",
            "_view_module_version": "1.2.0",
            "_view_name": "LayoutView",
            "align_content": null,
            "align_items": null,
            "align_self": null,
            "border": null,
            "bottom": null,
            "display": null,
            "flex": null,
            "flex_flow": null,
            "grid_area": null,
            "grid_auto_columns": null,
            "grid_auto_flow": null,
            "grid_auto_rows": null,
            "grid_column": null,
            "grid_gap": null,
            "grid_row": null,
            "grid_template_areas": null,
            "grid_template_columns": null,
            "grid_template_rows": null,
            "height": null,
            "justify_content": null,
            "justify_items": null,
            "left": null,
            "margin": null,
            "max_height": null,
            "max_width": null,
            "min_height": null,
            "min_width": null,
            "object_fit": null,
            "object_position": null,
            "order": null,
            "overflow": null,
            "overflow_x": null,
            "overflow_y": null,
            "padding": null,
            "right": null,
            "top": null,
            "visibility": null,
            "width": null
          }
        },
        "b83294a7d38942e891a166b1e81a74b2": {
          "model_module": "@jupyter-widgets/controls",
          "model_name": "DescriptionStyleModel",
          "model_module_version": "1.5.0",
          "state": {
            "_model_module": "@jupyter-widgets/controls",
            "_model_module_version": "1.5.0",
            "_model_name": "DescriptionStyleModel",
            "_view_count": null,
            "_view_module": "@jupyter-widgets/base",
            "_view_module_version": "1.2.0",
            "_view_name": "StyleView",
            "description_width": ""
          }
        },
        "f9e5a4e6325e4eb0ac42f84ad052adc1": {
          "model_module": "@jupyter-widgets/base",
          "model_name": "LayoutModel",
          "model_module_version": "1.2.0",
          "state": {
            "_model_module": "@jupyter-widgets/base",
            "_model_module_version": "1.2.0",
            "_model_name": "LayoutModel",
            "_view_count": null,
            "_view_module": "@jupyter-widgets/base",
            "_view_module_version": "1.2.0",
            "_view_name": "LayoutView",
            "align_content": null,
            "align_items": null,
            "align_self": null,
            "border": null,
            "bottom": null,
            "display": null,
            "flex": null,
            "flex_flow": null,
            "grid_area": null,
            "grid_auto_columns": null,
            "grid_auto_flow": null,
            "grid_auto_rows": null,
            "grid_column": null,
            "grid_gap": null,
            "grid_row": null,
            "grid_template_areas": null,
            "grid_template_columns": null,
            "grid_template_rows": null,
            "height": null,
            "justify_content": null,
            "justify_items": null,
            "left": null,
            "margin": null,
            "max_height": null,
            "max_width": null,
            "min_height": null,
            "min_width": null,
            "object_fit": null,
            "object_position": null,
            "order": null,
            "overflow": null,
            "overflow_x": null,
            "overflow_y": null,
            "padding": null,
            "right": null,
            "top": null,
            "visibility": null,
            "width": null
          }
        },
        "785d69da667e45cc967dba64a0acddec": {
          "model_module": "@jupyter-widgets/controls",
          "model_name": "ProgressStyleModel",
          "model_module_version": "1.5.0",
          "state": {
            "_model_module": "@jupyter-widgets/controls",
            "_model_module_version": "1.5.0",
            "_model_name": "ProgressStyleModel",
            "_view_count": null,
            "_view_module": "@jupyter-widgets/base",
            "_view_module_version": "1.2.0",
            "_view_name": "StyleView",
            "bar_color": null,
            "description_width": ""
          }
        },
        "f04ceebf275e4cbe88224d692b592736": {
          "model_module": "@jupyter-widgets/base",
          "model_name": "LayoutModel",
          "model_module_version": "1.2.0",
          "state": {
            "_model_module": "@jupyter-widgets/base",
            "_model_module_version": "1.2.0",
            "_model_name": "LayoutModel",
            "_view_count": null,
            "_view_module": "@jupyter-widgets/base",
            "_view_module_version": "1.2.0",
            "_view_name": "LayoutView",
            "align_content": null,
            "align_items": null,
            "align_self": null,
            "border": null,
            "bottom": null,
            "display": null,
            "flex": null,
            "flex_flow": null,
            "grid_area": null,
            "grid_auto_columns": null,
            "grid_auto_flow": null,
            "grid_auto_rows": null,
            "grid_column": null,
            "grid_gap": null,
            "grid_row": null,
            "grid_template_areas": null,
            "grid_template_columns": null,
            "grid_template_rows": null,
            "height": null,
            "justify_content": null,
            "justify_items": null,
            "left": null,
            "margin": null,
            "max_height": null,
            "max_width": null,
            "min_height": null,
            "min_width": null,
            "object_fit": null,
            "object_position": null,
            "order": null,
            "overflow": null,
            "overflow_x": null,
            "overflow_y": null,
            "padding": null,
            "right": null,
            "top": null,
            "visibility": null,
            "width": null
          }
        },
        "16fd415f257f4015a6076da47b97c7a1": {
          "model_module": "@jupyter-widgets/controls",
          "model_name": "DescriptionStyleModel",
          "model_module_version": "1.5.0",
          "state": {
            "_model_module": "@jupyter-widgets/controls",
            "_model_module_version": "1.5.0",
            "_model_name": "DescriptionStyleModel",
            "_view_count": null,
            "_view_module": "@jupyter-widgets/base",
            "_view_module_version": "1.2.0",
            "_view_name": "StyleView",
            "description_width": ""
          }
        },
        "6ba456d03285434c9665033c9419fe09": {
          "model_module": "@jupyter-widgets/controls",
          "model_name": "HBoxModel",
          "model_module_version": "1.5.0",
          "state": {
            "_dom_classes": [],
            "_model_module": "@jupyter-widgets/controls",
            "_model_module_version": "1.5.0",
            "_model_name": "HBoxModel",
            "_view_count": null,
            "_view_module": "@jupyter-widgets/controls",
            "_view_module_version": "1.5.0",
            "_view_name": "HBoxView",
            "box_style": "",
            "children": [
              "IPY_MODEL_8e90fdc77fcd4847b07d392b1c6d761f",
              "IPY_MODEL_df2356d2f4704bb598de5041f872365b",
              "IPY_MODEL_723158fafa484a54a4b9a631c66d64c7"
            ],
            "layout": "IPY_MODEL_2b71fd142ac44195a1a7424286b8aea4"
          }
        },
        "8e90fdc77fcd4847b07d392b1c6d761f": {
          "model_module": "@jupyter-widgets/controls",
          "model_name": "HTMLModel",
          "model_module_version": "1.5.0",
          "state": {
            "_dom_classes": [],
            "_model_module": "@jupyter-widgets/controls",
            "_model_module_version": "1.5.0",
            "_model_name": "HTMLModel",
            "_view_count": null,
            "_view_module": "@jupyter-widgets/controls",
            "_view_module_version": "1.5.0",
            "_view_name": "HTMLView",
            "description": "",
            "description_tooltip": null,
            "layout": "IPY_MODEL_db52fcef560f4eb681db5f0050984c56",
            "placeholder": "​",
            "style": "IPY_MODEL_440e4c9f07e04e0189083a329ed44bd7",
            "value": "Generating validation split: 100%"
          }
        },
        "df2356d2f4704bb598de5041f872365b": {
          "model_module": "@jupyter-widgets/controls",
          "model_name": "FloatProgressModel",
          "model_module_version": "1.5.0",
          "state": {
            "_dom_classes": [],
            "_model_module": "@jupyter-widgets/controls",
            "_model_module_version": "1.5.0",
            "_model_name": "FloatProgressModel",
            "_view_count": null,
            "_view_module": "@jupyter-widgets/controls",
            "_view_module_version": "1.5.0",
            "_view_name": "ProgressView",
            "bar_style": "",
            "description": "",
            "description_tooltip": null,
            "layout": "IPY_MODEL_b35c2c266fa84928b5ac3e8f13d1d6da",
            "max": 11332,
            "min": 0,
            "orientation": "horizontal",
            "style": "IPY_MODEL_e26241cf494d4f30938003ad56494955",
            "value": 11332
          }
        },
        "723158fafa484a54a4b9a631c66d64c7": {
          "model_module": "@jupyter-widgets/controls",
          "model_name": "HTMLModel",
          "model_module_version": "1.5.0",
          "state": {
            "_dom_classes": [],
            "_model_module": "@jupyter-widgets/controls",
            "_model_module_version": "1.5.0",
            "_model_name": "HTMLModel",
            "_view_count": null,
            "_view_module": "@jupyter-widgets/controls",
            "_view_module_version": "1.5.0",
            "_view_name": "HTMLView",
            "description": "",
            "description_tooltip": null,
            "layout": "IPY_MODEL_ee3078306d47403c9d07f9624998bb3d",
            "placeholder": "​",
            "style": "IPY_MODEL_0a0d439a3c56454688c81a776c6e9141",
            "value": " 11288/11332 [00:18&lt;00:00, 642.51 examples/s]"
          }
        },
        "2b71fd142ac44195a1a7424286b8aea4": {
          "model_module": "@jupyter-widgets/base",
          "model_name": "LayoutModel",
          "model_module_version": "1.2.0",
          "state": {
            "_model_module": "@jupyter-widgets/base",
            "_model_module_version": "1.2.0",
            "_model_name": "LayoutModel",
            "_view_count": null,
            "_view_module": "@jupyter-widgets/base",
            "_view_module_version": "1.2.0",
            "_view_name": "LayoutView",
            "align_content": null,
            "align_items": null,
            "align_self": null,
            "border": null,
            "bottom": null,
            "display": null,
            "flex": null,
            "flex_flow": null,
            "grid_area": null,
            "grid_auto_columns": null,
            "grid_auto_flow": null,
            "grid_auto_rows": null,
            "grid_column": null,
            "grid_gap": null,
            "grid_row": null,
            "grid_template_areas": null,
            "grid_template_columns": null,
            "grid_template_rows": null,
            "height": null,
            "justify_content": null,
            "justify_items": null,
            "left": null,
            "margin": null,
            "max_height": null,
            "max_width": null,
            "min_height": null,
            "min_width": null,
            "object_fit": null,
            "object_position": null,
            "order": null,
            "overflow": null,
            "overflow_x": null,
            "overflow_y": null,
            "padding": null,
            "right": null,
            "top": null,
            "visibility": null,
            "width": null
          }
        },
        "db52fcef560f4eb681db5f0050984c56": {
          "model_module": "@jupyter-widgets/base",
          "model_name": "LayoutModel",
          "model_module_version": "1.2.0",
          "state": {
            "_model_module": "@jupyter-widgets/base",
            "_model_module_version": "1.2.0",
            "_model_name": "LayoutModel",
            "_view_count": null,
            "_view_module": "@jupyter-widgets/base",
            "_view_module_version": "1.2.0",
            "_view_name": "LayoutView",
            "align_content": null,
            "align_items": null,
            "align_self": null,
            "border": null,
            "bottom": null,
            "display": null,
            "flex": null,
            "flex_flow": null,
            "grid_area": null,
            "grid_auto_columns": null,
            "grid_auto_flow": null,
            "grid_auto_rows": null,
            "grid_column": null,
            "grid_gap": null,
            "grid_row": null,
            "grid_template_areas": null,
            "grid_template_columns": null,
            "grid_template_rows": null,
            "height": null,
            "justify_content": null,
            "justify_items": null,
            "left": null,
            "margin": null,
            "max_height": null,
            "max_width": null,
            "min_height": null,
            "min_width": null,
            "object_fit": null,
            "object_position": null,
            "order": null,
            "overflow": null,
            "overflow_x": null,
            "overflow_y": null,
            "padding": null,
            "right": null,
            "top": null,
            "visibility": null,
            "width": null
          }
        },
        "440e4c9f07e04e0189083a329ed44bd7": {
          "model_module": "@jupyter-widgets/controls",
          "model_name": "DescriptionStyleModel",
          "model_module_version": "1.5.0",
          "state": {
            "_model_module": "@jupyter-widgets/controls",
            "_model_module_version": "1.5.0",
            "_model_name": "DescriptionStyleModel",
            "_view_count": null,
            "_view_module": "@jupyter-widgets/base",
            "_view_module_version": "1.2.0",
            "_view_name": "StyleView",
            "description_width": ""
          }
        },
        "b35c2c266fa84928b5ac3e8f13d1d6da": {
          "model_module": "@jupyter-widgets/base",
          "model_name": "LayoutModel",
          "model_module_version": "1.2.0",
          "state": {
            "_model_module": "@jupyter-widgets/base",
            "_model_module_version": "1.2.0",
            "_model_name": "LayoutModel",
            "_view_count": null,
            "_view_module": "@jupyter-widgets/base",
            "_view_module_version": "1.2.0",
            "_view_name": "LayoutView",
            "align_content": null,
            "align_items": null,
            "align_self": null,
            "border": null,
            "bottom": null,
            "display": null,
            "flex": null,
            "flex_flow": null,
            "grid_area": null,
            "grid_auto_columns": null,
            "grid_auto_flow": null,
            "grid_auto_rows": null,
            "grid_column": null,
            "grid_gap": null,
            "grid_row": null,
            "grid_template_areas": null,
            "grid_template_columns": null,
            "grid_template_rows": null,
            "height": null,
            "justify_content": null,
            "justify_items": null,
            "left": null,
            "margin": null,
            "max_height": null,
            "max_width": null,
            "min_height": null,
            "min_width": null,
            "object_fit": null,
            "object_position": null,
            "order": null,
            "overflow": null,
            "overflow_x": null,
            "overflow_y": null,
            "padding": null,
            "right": null,
            "top": null,
            "visibility": null,
            "width": null
          }
        },
        "e26241cf494d4f30938003ad56494955": {
          "model_module": "@jupyter-widgets/controls",
          "model_name": "ProgressStyleModel",
          "model_module_version": "1.5.0",
          "state": {
            "_model_module": "@jupyter-widgets/controls",
            "_model_module_version": "1.5.0",
            "_model_name": "ProgressStyleModel",
            "_view_count": null,
            "_view_module": "@jupyter-widgets/base",
            "_view_module_version": "1.2.0",
            "_view_name": "StyleView",
            "bar_color": null,
            "description_width": ""
          }
        },
        "ee3078306d47403c9d07f9624998bb3d": {
          "model_module": "@jupyter-widgets/base",
          "model_name": "LayoutModel",
          "model_module_version": "1.2.0",
          "state": {
            "_model_module": "@jupyter-widgets/base",
            "_model_module_version": "1.2.0",
            "_model_name": "LayoutModel",
            "_view_count": null,
            "_view_module": "@jupyter-widgets/base",
            "_view_module_version": "1.2.0",
            "_view_name": "LayoutView",
            "align_content": null,
            "align_items": null,
            "align_self": null,
            "border": null,
            "bottom": null,
            "display": null,
            "flex": null,
            "flex_flow": null,
            "grid_area": null,
            "grid_auto_columns": null,
            "grid_auto_flow": null,
            "grid_auto_rows": null,
            "grid_column": null,
            "grid_gap": null,
            "grid_row": null,
            "grid_template_areas": null,
            "grid_template_columns": null,
            "grid_template_rows": null,
            "height": null,
            "justify_content": null,
            "justify_items": null,
            "left": null,
            "margin": null,
            "max_height": null,
            "max_width": null,
            "min_height": null,
            "min_width": null,
            "object_fit": null,
            "object_position": null,
            "order": null,
            "overflow": null,
            "overflow_x": null,
            "overflow_y": null,
            "padding": null,
            "right": null,
            "top": null,
            "visibility": null,
            "width": null
          }
        },
        "0a0d439a3c56454688c81a776c6e9141": {
          "model_module": "@jupyter-widgets/controls",
          "model_name": "DescriptionStyleModel",
          "model_module_version": "1.5.0",
          "state": {
            "_model_module": "@jupyter-widgets/controls",
            "_model_module_version": "1.5.0",
            "_model_name": "DescriptionStyleModel",
            "_view_count": null,
            "_view_module": "@jupyter-widgets/base",
            "_view_module_version": "1.2.0",
            "_view_name": "StyleView",
            "description_width": ""
          }
        },
        "aaddb0b96cef4cbe967e34d6f677ab35": {
          "model_module": "@jupyter-widgets/controls",
          "model_name": "HBoxModel",
          "model_module_version": "1.5.0",
          "state": {
            "_dom_classes": [],
            "_model_module": "@jupyter-widgets/controls",
            "_model_module_version": "1.5.0",
            "_model_name": "HBoxModel",
            "_view_count": null,
            "_view_module": "@jupyter-widgets/controls",
            "_view_module_version": "1.5.0",
            "_view_name": "HBoxView",
            "box_style": "",
            "children": [
              "IPY_MODEL_f14f76f0d39f48a6a0b8afd7d774f5ea",
              "IPY_MODEL_cddeb26d0dbd454eaaccb1abb2039890",
              "IPY_MODEL_7fd7132ca0654ca68bd518fe22982d91"
            ],
            "layout": "IPY_MODEL_d32e0e743ec343ea9a81ba3d0da16d10"
          }
        },
        "f14f76f0d39f48a6a0b8afd7d774f5ea": {
          "model_module": "@jupyter-widgets/controls",
          "model_name": "HTMLModel",
          "model_module_version": "1.5.0",
          "state": {
            "_dom_classes": [],
            "_model_module": "@jupyter-widgets/controls",
            "_model_module_version": "1.5.0",
            "_model_name": "HTMLModel",
            "_view_count": null,
            "_view_module": "@jupyter-widgets/controls",
            "_view_module_version": "1.5.0",
            "_view_name": "HTMLView",
            "description": "",
            "description_tooltip": null,
            "layout": "IPY_MODEL_245a59fb9bb341309c73d485b02a8367",
            "placeholder": "​",
            "style": "IPY_MODEL_8aaadc5768784ef9809f77c41437085d",
            "value": "Generating test split: 100%"
          }
        },
        "cddeb26d0dbd454eaaccb1abb2039890": {
          "model_module": "@jupyter-widgets/controls",
          "model_name": "FloatProgressModel",
          "model_module_version": "1.5.0",
          "state": {
            "_dom_classes": [],
            "_model_module": "@jupyter-widgets/controls",
            "_model_module_version": "1.5.0",
            "_model_name": "FloatProgressModel",
            "_view_count": null,
            "_view_module": "@jupyter-widgets/controls",
            "_view_module_version": "1.5.0",
            "_view_name": "ProgressView",
            "bar_style": "",
            "description": "",
            "description_tooltip": null,
            "layout": "IPY_MODEL_dc53ecb0aa044773a45eefe86f30fd75",
            "max": 11334,
            "min": 0,
            "orientation": "horizontal",
            "style": "IPY_MODEL_24af07ff308046b1b6c69703a6284326",
            "value": 11334
          }
        },
        "7fd7132ca0654ca68bd518fe22982d91": {
          "model_module": "@jupyter-widgets/controls",
          "model_name": "HTMLModel",
          "model_module_version": "1.5.0",
          "state": {
            "_dom_classes": [],
            "_model_module": "@jupyter-widgets/controls",
            "_model_module_version": "1.5.0",
            "_model_name": "HTMLModel",
            "_view_count": null,
            "_view_module": "@jupyter-widgets/controls",
            "_view_module_version": "1.5.0",
            "_view_name": "HTMLView",
            "description": "",
            "description_tooltip": null,
            "layout": "IPY_MODEL_156b7b1baec248cea499392476aa3d46",
            "placeholder": "​",
            "style": "IPY_MODEL_1b749e12913c41e09ac61a9df294c2c8",
            "value": " 11307/11334 [00:18&lt;00:00, 655.90 examples/s]"
          }
        },
        "d32e0e743ec343ea9a81ba3d0da16d10": {
          "model_module": "@jupyter-widgets/base",
          "model_name": "LayoutModel",
          "model_module_version": "1.2.0",
          "state": {
            "_model_module": "@jupyter-widgets/base",
            "_model_module_version": "1.2.0",
            "_model_name": "LayoutModel",
            "_view_count": null,
            "_view_module": "@jupyter-widgets/base",
            "_view_module_version": "1.2.0",
            "_view_name": "LayoutView",
            "align_content": null,
            "align_items": null,
            "align_self": null,
            "border": null,
            "bottom": null,
            "display": null,
            "flex": null,
            "flex_flow": null,
            "grid_area": null,
            "grid_auto_columns": null,
            "grid_auto_flow": null,
            "grid_auto_rows": null,
            "grid_column": null,
            "grid_gap": null,
            "grid_row": null,
            "grid_template_areas": null,
            "grid_template_columns": null,
            "grid_template_rows": null,
            "height": null,
            "justify_content": null,
            "justify_items": null,
            "left": null,
            "margin": null,
            "max_height": null,
            "max_width": null,
            "min_height": null,
            "min_width": null,
            "object_fit": null,
            "object_position": null,
            "order": null,
            "overflow": null,
            "overflow_x": null,
            "overflow_y": null,
            "padding": null,
            "right": null,
            "top": null,
            "visibility": null,
            "width": null
          }
        },
        "245a59fb9bb341309c73d485b02a8367": {
          "model_module": "@jupyter-widgets/base",
          "model_name": "LayoutModel",
          "model_module_version": "1.2.0",
          "state": {
            "_model_module": "@jupyter-widgets/base",
            "_model_module_version": "1.2.0",
            "_model_name": "LayoutModel",
            "_view_count": null,
            "_view_module": "@jupyter-widgets/base",
            "_view_module_version": "1.2.0",
            "_view_name": "LayoutView",
            "align_content": null,
            "align_items": null,
            "align_self": null,
            "border": null,
            "bottom": null,
            "display": null,
            "flex": null,
            "flex_flow": null,
            "grid_area": null,
            "grid_auto_columns": null,
            "grid_auto_flow": null,
            "grid_auto_rows": null,
            "grid_column": null,
            "grid_gap": null,
            "grid_row": null,
            "grid_template_areas": null,
            "grid_template_columns": null,
            "grid_template_rows": null,
            "height": null,
            "justify_content": null,
            "justify_items": null,
            "left": null,
            "margin": null,
            "max_height": null,
            "max_width": null,
            "min_height": null,
            "min_width": null,
            "object_fit": null,
            "object_position": null,
            "order": null,
            "overflow": null,
            "overflow_x": null,
            "overflow_y": null,
            "padding": null,
            "right": null,
            "top": null,
            "visibility": null,
            "width": null
          }
        },
        "8aaadc5768784ef9809f77c41437085d": {
          "model_module": "@jupyter-widgets/controls",
          "model_name": "DescriptionStyleModel",
          "model_module_version": "1.5.0",
          "state": {
            "_model_module": "@jupyter-widgets/controls",
            "_model_module_version": "1.5.0",
            "_model_name": "DescriptionStyleModel",
            "_view_count": null,
            "_view_module": "@jupyter-widgets/base",
            "_view_module_version": "1.2.0",
            "_view_name": "StyleView",
            "description_width": ""
          }
        },
        "dc53ecb0aa044773a45eefe86f30fd75": {
          "model_module": "@jupyter-widgets/base",
          "model_name": "LayoutModel",
          "model_module_version": "1.2.0",
          "state": {
            "_model_module": "@jupyter-widgets/base",
            "_model_module_version": "1.2.0",
            "_model_name": "LayoutModel",
            "_view_count": null,
            "_view_module": "@jupyter-widgets/base",
            "_view_module_version": "1.2.0",
            "_view_name": "LayoutView",
            "align_content": null,
            "align_items": null,
            "align_self": null,
            "border": null,
            "bottom": null,
            "display": null,
            "flex": null,
            "flex_flow": null,
            "grid_area": null,
            "grid_auto_columns": null,
            "grid_auto_flow": null,
            "grid_auto_rows": null,
            "grid_column": null,
            "grid_gap": null,
            "grid_row": null,
            "grid_template_areas": null,
            "grid_template_columns": null,
            "grid_template_rows": null,
            "height": null,
            "justify_content": null,
            "justify_items": null,
            "left": null,
            "margin": null,
            "max_height": null,
            "max_width": null,
            "min_height": null,
            "min_width": null,
            "object_fit": null,
            "object_position": null,
            "order": null,
            "overflow": null,
            "overflow_x": null,
            "overflow_y": null,
            "padding": null,
            "right": null,
            "top": null,
            "visibility": null,
            "width": null
          }
        },
        "24af07ff308046b1b6c69703a6284326": {
          "model_module": "@jupyter-widgets/controls",
          "model_name": "ProgressStyleModel",
          "model_module_version": "1.5.0",
          "state": {
            "_model_module": "@jupyter-widgets/controls",
            "_model_module_version": "1.5.0",
            "_model_name": "ProgressStyleModel",
            "_view_count": null,
            "_view_module": "@jupyter-widgets/base",
            "_view_module_version": "1.2.0",
            "_view_name": "StyleView",
            "bar_color": null,
            "description_width": ""
          }
        },
        "156b7b1baec248cea499392476aa3d46": {
          "model_module": "@jupyter-widgets/base",
          "model_name": "LayoutModel",
          "model_module_version": "1.2.0",
          "state": {
            "_model_module": "@jupyter-widgets/base",
            "_model_module_version": "1.2.0",
            "_model_name": "LayoutModel",
            "_view_count": null,
            "_view_module": "@jupyter-widgets/base",
            "_view_module_version": "1.2.0",
            "_view_name": "LayoutView",
            "align_content": null,
            "align_items": null,
            "align_self": null,
            "border": null,
            "bottom": null,
            "display": null,
            "flex": null,
            "flex_flow": null,
            "grid_area": null,
            "grid_auto_columns": null,
            "grid_auto_flow": null,
            "grid_auto_rows": null,
            "grid_column": null,
            "grid_gap": null,
            "grid_row": null,
            "grid_template_areas": null,
            "grid_template_columns": null,
            "grid_template_rows": null,
            "height": null,
            "justify_content": null,
            "justify_items": null,
            "left": null,
            "margin": null,
            "max_height": null,
            "max_width": null,
            "min_height": null,
            "min_width": null,
            "object_fit": null,
            "object_position": null,
            "order": null,
            "overflow": null,
            "overflow_x": null,
            "overflow_y": null,
            "padding": null,
            "right": null,
            "top": null,
            "visibility": null,
            "width": null
          }
        },
        "1b749e12913c41e09ac61a9df294c2c8": {
          "model_module": "@jupyter-widgets/controls",
          "model_name": "DescriptionStyleModel",
          "model_module_version": "1.5.0",
          "state": {
            "_model_module": "@jupyter-widgets/controls",
            "_model_module_version": "1.5.0",
            "_model_name": "DescriptionStyleModel",
            "_view_count": null,
            "_view_module": "@jupyter-widgets/base",
            "_view_module_version": "1.2.0",
            "_view_name": "StyleView",
            "description_width": ""
          }
        },
        "9b5956b99fef4fb582a933d90ced8328": {
          "model_module": "@jupyter-widgets/controls",
          "model_name": "HBoxModel",
          "model_module_version": "1.5.0",
          "state": {
            "_dom_classes": [],
            "_model_module": "@jupyter-widgets/controls",
            "_model_module_version": "1.5.0",
            "_model_name": "HBoxModel",
            "_view_count": null,
            "_view_module": "@jupyter-widgets/controls",
            "_view_module_version": "1.5.0",
            "_view_name": "HBoxView",
            "box_style": "",
            "children": [
              "IPY_MODEL_6c14ec916c974579bfddc49fbcc69c77",
              "IPY_MODEL_ac1ea8c1a2e6485d9f1d35ecb9cd4a81",
              "IPY_MODEL_2ed74ea005ae4472baa45638e3dd4f82"
            ],
            "layout": "IPY_MODEL_3b8ba978316840e491efc8fa619eea16"
          }
        },
        "6c14ec916c974579bfddc49fbcc69c77": {
          "model_module": "@jupyter-widgets/controls",
          "model_name": "HTMLModel",
          "model_module_version": "1.5.0",
          "state": {
            "_dom_classes": [],
            "_model_module": "@jupyter-widgets/controls",
            "_model_module_version": "1.5.0",
            "_model_name": "HTMLModel",
            "_view_count": null,
            "_view_module": "@jupyter-widgets/controls",
            "_view_module_version": "1.5.0",
            "_view_name": "HTMLView",
            "description": "",
            "description_tooltip": null,
            "layout": "IPY_MODEL_a4913a32533c4bb1a0acfaf69e6a1d05",
            "placeholder": "​",
            "style": "IPY_MODEL_84b5d9f6630c448697e9de0364e67992",
            "value": "100%"
          }
        },
        "ac1ea8c1a2e6485d9f1d35ecb9cd4a81": {
          "model_module": "@jupyter-widgets/controls",
          "model_name": "FloatProgressModel",
          "model_module_version": "1.5.0",
          "state": {
            "_dom_classes": [],
            "_model_module": "@jupyter-widgets/controls",
            "_model_module_version": "1.5.0",
            "_model_name": "FloatProgressModel",
            "_view_count": null,
            "_view_module": "@jupyter-widgets/controls",
            "_view_module_version": "1.5.0",
            "_view_name": "ProgressView",
            "bar_style": "success",
            "description": "",
            "description_tooltip": null,
            "layout": "IPY_MODEL_72b899eee95946f6b0c9a5d0b941f10c",
            "max": 3,
            "min": 0,
            "orientation": "horizontal",
            "style": "IPY_MODEL_e7ddbd18bc394feea2d37c47a93d9694",
            "value": 3
          }
        },
        "2ed74ea005ae4472baa45638e3dd4f82": {
          "model_module": "@jupyter-widgets/controls",
          "model_name": "HTMLModel",
          "model_module_version": "1.5.0",
          "state": {
            "_dom_classes": [],
            "_model_module": "@jupyter-widgets/controls",
            "_model_module_version": "1.5.0",
            "_model_name": "HTMLModel",
            "_view_count": null,
            "_view_module": "@jupyter-widgets/controls",
            "_view_module_version": "1.5.0",
            "_view_name": "HTMLView",
            "description": "",
            "description_tooltip": null,
            "layout": "IPY_MODEL_68486d28884742409ed34bb9829cb492",
            "placeholder": "​",
            "style": "IPY_MODEL_fbfe2cf4b4c04bff998e1a0ada0f0875",
            "value": " 3/3 [00:00&lt;00:00, 86.44it/s]"
          }
        },
        "3b8ba978316840e491efc8fa619eea16": {
          "model_module": "@jupyter-widgets/base",
          "model_name": "LayoutModel",
          "model_module_version": "1.2.0",
          "state": {
            "_model_module": "@jupyter-widgets/base",
            "_model_module_version": "1.2.0",
            "_model_name": "LayoutModel",
            "_view_count": null,
            "_view_module": "@jupyter-widgets/base",
            "_view_module_version": "1.2.0",
            "_view_name": "LayoutView",
            "align_content": null,
            "align_items": null,
            "align_self": null,
            "border": null,
            "bottom": null,
            "display": null,
            "flex": null,
            "flex_flow": null,
            "grid_area": null,
            "grid_auto_columns": null,
            "grid_auto_flow": null,
            "grid_auto_rows": null,
            "grid_column": null,
            "grid_gap": null,
            "grid_row": null,
            "grid_template_areas": null,
            "grid_template_columns": null,
            "grid_template_rows": null,
            "height": null,
            "justify_content": null,
            "justify_items": null,
            "left": null,
            "margin": null,
            "max_height": null,
            "max_width": null,
            "min_height": null,
            "min_width": null,
            "object_fit": null,
            "object_position": null,
            "order": null,
            "overflow": null,
            "overflow_x": null,
            "overflow_y": null,
            "padding": null,
            "right": null,
            "top": null,
            "visibility": null,
            "width": null
          }
        },
        "a4913a32533c4bb1a0acfaf69e6a1d05": {
          "model_module": "@jupyter-widgets/base",
          "model_name": "LayoutModel",
          "model_module_version": "1.2.0",
          "state": {
            "_model_module": "@jupyter-widgets/base",
            "_model_module_version": "1.2.0",
            "_model_name": "LayoutModel",
            "_view_count": null,
            "_view_module": "@jupyter-widgets/base",
            "_view_module_version": "1.2.0",
            "_view_name": "LayoutView",
            "align_content": null,
            "align_items": null,
            "align_self": null,
            "border": null,
            "bottom": null,
            "display": null,
            "flex": null,
            "flex_flow": null,
            "grid_area": null,
            "grid_auto_columns": null,
            "grid_auto_flow": null,
            "grid_auto_rows": null,
            "grid_column": null,
            "grid_gap": null,
            "grid_row": null,
            "grid_template_areas": null,
            "grid_template_columns": null,
            "grid_template_rows": null,
            "height": null,
            "justify_content": null,
            "justify_items": null,
            "left": null,
            "margin": null,
            "max_height": null,
            "max_width": null,
            "min_height": null,
            "min_width": null,
            "object_fit": null,
            "object_position": null,
            "order": null,
            "overflow": null,
            "overflow_x": null,
            "overflow_y": null,
            "padding": null,
            "right": null,
            "top": null,
            "visibility": null,
            "width": null
          }
        },
        "84b5d9f6630c448697e9de0364e67992": {
          "model_module": "@jupyter-widgets/controls",
          "model_name": "DescriptionStyleModel",
          "model_module_version": "1.5.0",
          "state": {
            "_model_module": "@jupyter-widgets/controls",
            "_model_module_version": "1.5.0",
            "_model_name": "DescriptionStyleModel",
            "_view_count": null,
            "_view_module": "@jupyter-widgets/base",
            "_view_module_version": "1.2.0",
            "_view_name": "StyleView",
            "description_width": ""
          }
        },
        "72b899eee95946f6b0c9a5d0b941f10c": {
          "model_module": "@jupyter-widgets/base",
          "model_name": "LayoutModel",
          "model_module_version": "1.2.0",
          "state": {
            "_model_module": "@jupyter-widgets/base",
            "_model_module_version": "1.2.0",
            "_model_name": "LayoutModel",
            "_view_count": null,
            "_view_module": "@jupyter-widgets/base",
            "_view_module_version": "1.2.0",
            "_view_name": "LayoutView",
            "align_content": null,
            "align_items": null,
            "align_self": null,
            "border": null,
            "bottom": null,
            "display": null,
            "flex": null,
            "flex_flow": null,
            "grid_area": null,
            "grid_auto_columns": null,
            "grid_auto_flow": null,
            "grid_auto_rows": null,
            "grid_column": null,
            "grid_gap": null,
            "grid_row": null,
            "grid_template_areas": null,
            "grid_template_columns": null,
            "grid_template_rows": null,
            "height": null,
            "justify_content": null,
            "justify_items": null,
            "left": null,
            "margin": null,
            "max_height": null,
            "max_width": null,
            "min_height": null,
            "min_width": null,
            "object_fit": null,
            "object_position": null,
            "order": null,
            "overflow": null,
            "overflow_x": null,
            "overflow_y": null,
            "padding": null,
            "right": null,
            "top": null,
            "visibility": null,
            "width": null
          }
        },
        "e7ddbd18bc394feea2d37c47a93d9694": {
          "model_module": "@jupyter-widgets/controls",
          "model_name": "ProgressStyleModel",
          "model_module_version": "1.5.0",
          "state": {
            "_model_module": "@jupyter-widgets/controls",
            "_model_module_version": "1.5.0",
            "_model_name": "ProgressStyleModel",
            "_view_count": null,
            "_view_module": "@jupyter-widgets/base",
            "_view_module_version": "1.2.0",
            "_view_name": "StyleView",
            "bar_color": null,
            "description_width": ""
          }
        },
        "68486d28884742409ed34bb9829cb492": {
          "model_module": "@jupyter-widgets/base",
          "model_name": "LayoutModel",
          "model_module_version": "1.2.0",
          "state": {
            "_model_module": "@jupyter-widgets/base",
            "_model_module_version": "1.2.0",
            "_model_name": "LayoutModel",
            "_view_count": null,
            "_view_module": "@jupyter-widgets/base",
            "_view_module_version": "1.2.0",
            "_view_name": "LayoutView",
            "align_content": null,
            "align_items": null,
            "align_self": null,
            "border": null,
            "bottom": null,
            "display": null,
            "flex": null,
            "flex_flow": null,
            "grid_area": null,
            "grid_auto_columns": null,
            "grid_auto_flow": null,
            "grid_auto_rows": null,
            "grid_column": null,
            "grid_gap": null,
            "grid_row": null,
            "grid_template_areas": null,
            "grid_template_columns": null,
            "grid_template_rows": null,
            "height": null,
            "justify_content": null,
            "justify_items": null,
            "left": null,
            "margin": null,
            "max_height": null,
            "max_width": null,
            "min_height": null,
            "min_width": null,
            "object_fit": null,
            "object_position": null,
            "order": null,
            "overflow": null,
            "overflow_x": null,
            "overflow_y": null,
            "padding": null,
            "right": null,
            "top": null,
            "visibility": null,
            "width": null
          }
        },
        "fbfe2cf4b4c04bff998e1a0ada0f0875": {
          "model_module": "@jupyter-widgets/controls",
          "model_name": "DescriptionStyleModel",
          "model_module_version": "1.5.0",
          "state": {
            "_model_module": "@jupyter-widgets/controls",
            "_model_module_version": "1.5.0",
            "_model_name": "DescriptionStyleModel",
            "_view_count": null,
            "_view_module": "@jupyter-widgets/base",
            "_view_module_version": "1.2.0",
            "_view_name": "StyleView",
            "description_width": ""
          }
        }
      }
    }
  },
  "nbformat": 4,
  "nbformat_minor": 0
}