{
  "cells": [
    {
      "cell_type": "code",
      "execution_count": 1,
      "metadata": {
        "colab": {
          "base_uri": "https://localhost:8080/"
        },
        "id": "35yqmsUSa1Zy",
        "outputId": "236774fd-8326-438b-f5b5-dff376b150bb"
      },
      "outputs": [
        {
          "output_type": "stream",
          "name": "stdout",
          "text": [
            "GPU 0: Tesla K80 (UUID: GPU-3cfd8895-17b9-60be-b097-a6346f640ca1)\n"
          ]
        }
      ],
      "source": [
        "!nvidia-smi -L"
      ]
    },
    {
      "cell_type": "code",
      "execution_count": 2,
      "metadata": {
        "colab": {
          "base_uri": "https://localhost:8080/"
        },
        "id": "NLJ6mALYWexB",
        "outputId": "be2dbbbf-ffa3-46d7-c417-d41f9cb915b1"
      },
      "outputs": [
        {
          "output_type": "stream",
          "name": "stdout",
          "text": [
            "Requirement already satisfied: torch in /usr/local/lib/python3.7/dist-packages (1.10.0+cu111)\n",
            "Requirement already satisfied: tqdm in /usr/local/lib/python3.7/dist-packages (4.63.0)\n",
            "Collecting unidecode\n",
            "  Downloading Unidecode-1.3.4-py3-none-any.whl (235 kB)\n",
            "\u001b[K     |████████████████████████████████| 235 kB 5.3 MB/s \n",
            "\u001b[?25hRequirement already satisfied: regex in /usr/local/lib/python3.7/dist-packages (2019.12.20)\n",
            "Requirement already satisfied: requests in /usr/local/lib/python3.7/dist-packages (2.23.0)\n",
            "Requirement already satisfied: appdirs in /usr/local/lib/python3.7/dist-packages (1.4.4)\n",
            "Requirement already satisfied: gdown in /usr/local/lib/python3.7/dist-packages (4.2.2)\n",
            "Collecting transformers\n",
            "  Downloading transformers-4.18.0-py3-none-any.whl (4.0 MB)\n",
            "\u001b[K     |████████████████████████████████| 4.0 MB 21.3 MB/s \n",
            "\u001b[?25hRequirement already satisfied: typing-extensions in /usr/local/lib/python3.7/dist-packages (from torch) (3.10.0.2)\n",
            "Requirement already satisfied: idna<3,>=2.5 in /usr/local/lib/python3.7/dist-packages (from requests) (2.10)\n",
            "Requirement already satisfied: chardet<4,>=3.0.2 in /usr/local/lib/python3.7/dist-packages (from requests) (3.0.4)\n",
            "Requirement already satisfied: urllib3!=1.25.0,!=1.25.1,<1.26,>=1.21.1 in /usr/local/lib/python3.7/dist-packages (from requests) (1.24.3)\n",
            "Requirement already satisfied: certifi>=2017.4.17 in /usr/local/lib/python3.7/dist-packages (from requests) (2021.10.8)\n",
            "Requirement already satisfied: filelock in /usr/local/lib/python3.7/dist-packages (from gdown) (3.6.0)\n",
            "Requirement already satisfied: six in /usr/local/lib/python3.7/dist-packages (from gdown) (1.15.0)\n",
            "Requirement already satisfied: beautifulsoup4 in /usr/local/lib/python3.7/dist-packages (from gdown) (4.6.3)\n",
            "Collecting pyyaml>=5.1\n",
            "  Downloading PyYAML-6.0-cp37-cp37m-manylinux_2_5_x86_64.manylinux1_x86_64.manylinux_2_12_x86_64.manylinux2010_x86_64.whl (596 kB)\n",
            "\u001b[K     |████████████████████████████████| 596 kB 45.1 MB/s \n",
            "\u001b[?25hCollecting tokenizers!=0.11.3,<0.13,>=0.11.1\n",
            "  Downloading tokenizers-0.11.6-cp37-cp37m-manylinux_2_12_x86_64.manylinux2010_x86_64.whl (6.5 MB)\n",
            "\u001b[K     |████████████████████████████████| 6.5 MB 33.1 MB/s \n",
            "\u001b[?25hRequirement already satisfied: importlib-metadata in /usr/local/lib/python3.7/dist-packages (from transformers) (4.11.3)\n",
            "Collecting huggingface-hub<1.0,>=0.1.0\n",
            "  Downloading huggingface_hub-0.5.1-py3-none-any.whl (77 kB)\n",
            "\u001b[K     |████████████████████████████████| 77 kB 6.5 MB/s \n",
            "\u001b[?25hRequirement already satisfied: packaging>=20.0 in /usr/local/lib/python3.7/dist-packages (from transformers) (21.3)\n",
            "Collecting sacremoses\n",
            "  Downloading sacremoses-0.0.49-py3-none-any.whl (895 kB)\n",
            "\u001b[K     |████████████████████████████████| 895 kB 39.0 MB/s \n",
            "\u001b[?25hRequirement already satisfied: numpy>=1.17 in /usr/local/lib/python3.7/dist-packages (from transformers) (1.21.5)\n",
            "Requirement already satisfied: pyparsing!=3.0.5,>=2.0.2 in /usr/local/lib/python3.7/dist-packages (from packaging>=20.0->transformers) (3.0.7)\n",
            "Requirement already satisfied: zipp>=0.5 in /usr/local/lib/python3.7/dist-packages (from importlib-metadata->transformers) (3.7.0)\n",
            "Requirement already satisfied: PySocks!=1.5.7,>=1.5.6 in /usr/local/lib/python3.7/dist-packages (from requests) (1.7.1)\n",
            "Requirement already satisfied: click in /usr/local/lib/python3.7/dist-packages (from sacremoses->transformers) (7.1.2)\n",
            "Requirement already satisfied: joblib in /usr/local/lib/python3.7/dist-packages (from sacremoses->transformers) (1.1.0)\n",
            "Installing collected packages: pyyaml, tokenizers, sacremoses, huggingface-hub, unidecode, transformers\n",
            "  Attempting uninstall: pyyaml\n",
            "    Found existing installation: PyYAML 3.13\n",
            "    Uninstalling PyYAML-3.13:\n",
            "      Successfully uninstalled PyYAML-3.13\n",
            "Successfully installed huggingface-hub-0.5.1 pyyaml-6.0 sacremoses-0.0.49 tokenizers-0.11.6 transformers-4.18.0 unidecode-1.3.4\n"
          ]
        }
      ],
      "source": [
        "!pip install torch tqdm unidecode regex requests appdirs gdown transformers"
      ]
    },
    {
      "cell_type": "code",
      "source": [
        "from google.colab import drive\n",
        "drive.mount('/content/drive')"
      ],
      "metadata": {
        "colab": {
          "base_uri": "https://localhost:8080/"
        },
        "id": "rOeKh5qhYS9X",
        "outputId": "5971fa2e-d3f0-43b2-c19e-5a328dc65b12"
      },
      "execution_count": 3,
      "outputs": [
        {
          "output_type": "stream",
          "name": "stdout",
          "text": [
            "Mounted at /content/drive\n"
          ]
        }
      ]
    },
    {
      "cell_type": "code",
      "source": [
        "text1234 = '''\n",
        "Google CEO Sundar Pichai spoke exclusively to NDTV at the Google headquarters in California.\n",
        "\n",
        "\n",
        "4\n",
        "Mountain View, California: As Google geared up to launch a new wave of products and services including the much-awaited Pixel 2 and Pixel 2 XL smartphones, CEO Sundar Pichai spoke to NDTV's Prannoy Roy about technology, democracy and more.\n",
        "\n",
        "NDTV: Sundar Pichai, God Bless you, thank you very much for joining us.\n",
        "\n",
        "Sundar Pichai: Pleasure seeing you as well.\n",
        "\n",
        "NDTV: Your success is an absolute, absolute inspiration for all of us.\n",
        "\n",
        "Sundar Pichai: Thank you, you know I grew up watching you on the news channel as well\n",
        "\n",
        "NDTV: Kindergarten?\n",
        "\n",
        "Sundar Pichai: Not quite kindergarten, I was in college by then.\n",
        "\n",
        "NDTV: You know I say that we are really inspired by you but there is a real puzzle to fix, one you are not a dropout, how can you be so successful and b), you're a good guy, don't you have to be slightly nasty to be successful?\n",
        "\n",
        "Sundar Pichai: First of all, IIT was too much fun to actually drop out, so wasn't there a movie about it or something? It was more like that. It was too much fun to drop out. And I've always felt being a good guy and doing well aren't necessarily at odds with each other so always felt that applied.\n",
        "\n",
        "NDTV: I totally believe that. And I think, you reflected in your handling of Google, how you changed the ethos here, the kind of team work and people enjoying everybody's company and working together, right?\n",
        "\n",
        "Sundar Pichai: Yes. I always felt that even if you work 40 hours a week, you spend more time at work than the rest of your waking time, and so I've always felt that it's important that it be fun, you work with people you like and it feels like a team and you're in it together, so I've always cherished that.\n",
        "\n",
        "NDTV: We've talked to a lot of Google people and they all say it starts from you. Now Androids, look at that guy there, I got more interest in, look at that. The drawing for the restroom signs, it's like everywhere.\n",
        "\n",
        "Sundar Pichai: You are close to the place where Android gets built.\n",
        "\n",
        "NDTV: I am told we are actually in one of the buildings where not too many people come so we are very privileged to be here, and to go out in the main campus, two problems, one is security and b), you'll be mobbed.\n",
        "\n",
        "Sundar Pichai: You know our campus here is public space so anyone can come so we don't restrict access here.\n",
        "\n",
        "NDTV: That's just the kind of openness that you have, it's beautiful. One of the things that I love about Google Maps is, it lowers my tension. Because I know I'll take 42 minutes to go from here to there. I'm in a traffic jam. It doesn't matter, it's still 42 minutes. In the old days we said, 'oh God, I'm getting late', but now, traffic jams are within an overall scheme of things, thanks to Google Maps.\n",
        "\n",
        "Sundar Pichai: You know I love using Google Maps and in India it actually works well, we are constantly trying to make it better, but I think the traffic in India is a challenge, so hopefully that Maps makes a small difference.\n",
        "\n",
        "NDTV: A lot of it was developed in India, right?\n",
        "\n",
        "Sundar Pichai: That's right, India is where we had this insight, a team from India felt like it's tough to get data around Maps, so they basically said wherever there are missing roads, we actually will let users, just like Wikipedia, edit and complete map routes and so on. So that insight really changed how fast we have been building maps since then.\n",
        "\n",
        "NDTV: I don't have a Google map quite as big as this, look at that. This is where we are \n",
        "\n",
        "Sundar Pichai: Yes, this is a picture of Google right here, looking at it from top. That's where people sit and have their lunches, in good California weather, so it is pretty nice most of the year to do that.\n",
        "\n",
        "NDTV: One of the big things about Google campuses, you've got a food place every 20 yards. The best food in the world is here.\n",
        "\n",
        "Sundar Pichai: There is plenty of food here, we joke around, there is something called the Google 15. When you join Google, within the first year people tend to gain about 15 pounds, so everyone tries to watch out.\n",
        "\n",
        "NDTV: Let me just show you something from here in context to where we have just come from. That's California; you go right across the world to... \n",
        "\n",
        "Sundar Pichai: Archana Complex, is that your office?\n",
        "\n",
        "NDTV: There we are, NDTV, that's on our roof\n",
        "\n",
        "Sundar Pichai: That's really nice.\n",
        "\n",
        "NDTV: So we've come a long way, I feel the Google campus and NDTV look very similar.\n",
        "\n",
        "Sundar Pichai: Few umbrellas?\n",
        "\n",
        "NDTV: Those are the dishes.\n",
        "\n",
        "Sundar Pichai: I figured.\n",
        "\n",
        "NDTV: Uplinking and downlinking all our feeds coming in. We will take you around there too.\n",
        "\n",
        "Sundar Pichai: Very nice, the world is getting smaller by the day.\n",
        "\n",
        "NDTV: I took an Air India flight.\n",
        "\n",
        "Sundar Pichai: Yes, I've been meaning to do that, direct flight from San Francisco to Delhi.\n",
        "\n",
        "NDTV: Now tell me a little bit about what you really feel is the next big thing, which is Artificial Intelligence and Machine Learning. You know there is a bit of controversy; you know there is the most dangerous thing, World War 3 will be caused by Artificial Intelligence, what are the dangers of artificial intelligence?\n",
        "\n",
        "Sundar Pichai: Artificial intelligence for sure over the long run is the most powerful technology the humans will invent. For sure I think we need to have thoughtful consensus about, do we end up developing something we cannot control. I think there are deep real concerns. I don't think we have the answers. I do believe we are still in very early days. The good news is it is still far away. But I am also equally convinced that it is going to be beneficial than anything that has ever happened before and a lot of the benefits will start playing out in the next couple of decades. The important thing here is to harness the benefits but thoughtfully developing it over time so we avoid the pitfalls.\n",
        "\n",
        "NDTV: Give me an example of a danger.\n",
        "\n",
        "Sundar Pichai: With artificial intelligence, let's say, you know, first of all...\n",
        "\n",
        "NDTV: I know you like walking, you don't like standing at one place.\n",
        "\n",
        "Sundar Pichai: When I was young, both me and my brother would walk back and forth in the house all the time, so I would drive my mom crazy. So I am trying to slowdown.\n",
        "\n",
        "NDTV: Sorry I interrupted. What are the dangers?\n",
        "\n",
        "Sundar Pichai: Simplest example that gets talked about, one may say our systems are super intelligent, they are more intelligent than humans and so they have their own free will if you will and they are optimising for something else and they may make decisions which are not necessarily for the benefit of humanity. Those are the far out concerns.\n",
        "\n",
        "NDTV: So what is the probability or the percentage chance of World War 3 being caused by artificial intelligence? Because if humans get in their way, what do you do as designers, so you tell a robot or the AI to go from here to there whatever happens and then a human gets in the way?\n",
        "\n",
        "Sundar Pichai: You know I have a lot of faith in our global systems and how we would approach this. And I think it's important as an industry we self-regulate, and have strong ethical approaches to how we do this. There are good examples to be borrowed from, genetics, over the last 30-40 years, how the scientific community, the biological community has approached this. Medical communities have done that and I think these are important issues, but I sure am optimistic that we can work our way through it.\n",
        "\n",
        "NDTV: There are dangers?\n",
        "\n",
        "Sundar Pichai: Absolutely.\n",
        "\n",
        "NDTV: You're more leaning towards 'be very careful of dangers'?\n",
        "\n",
        "Sundar Pichai: You have to be to get this right.\n",
        "\n",
        "NDTV: You mentioned medical and genetics, medical community affects the world and everybody in a massive way and has a social impact. But they do have a lot of protocols and they do have FDA and all kinds of restrictions, while the beauty of the internet and companies like yours, it's a free world. So do you feel a little more self-regulation is needed for things like this?\n",
        "\n",
        "Sundar Pichai: We are in such early days, so, a part of it is you have to be careful. Today our computers cannot learn and understand things like a 3rd grade kid can, so you have to be careful. But any industry that AI is going to affect is already a regulated industry. So tomorrow if AI can shape healthcare, it has to work through the regulations of healthcare. In fact I see that as one of the biggest areas where the benefits will play out for the next 10-20 years. And we had recently done work on diabetic retinopathy, it's a cause for blindness, but using AI machine learning we can detect it much better than humans can. So getting a tool like that, in the next 10 years, in the hands of doctors, think of rural places in India where you don't have Opthalmologists trained; and right there in those villages to help diagnose people, you know software, AI, will help any doctor diagnose people and maybe detect blindness early, it's completely curable if detected.\n",
        "\n",
        "NDTV: Can you give us another example like that? \n",
        "\n",
        "Sundar Pichai: I do think we will need AI to even solve problems like climate change over a time, to be able to understand what's happening and tackle it. Those will be big.\n",
        "\n",
        "NDTV: My environmentalist friends say the biggest causes of environment degradation are human beings, now robots may say, if human beings are creating a problem, get rid of them.\n",
        "\n",
        "Sundar Pichai: The right way to think about it is, humans should use AI to make the world cleaner so we won't have this problem.\n",
        "\n",
        "NDTV: In terms of AI, I just heard yesterday, I've been travelling around the valley, there's a massive study using AI on India. They've been checking, they look at the future and they are predicting there will be a civil war in India during next 5-10 years. Now should AI...\n",
        "\n",
        "Sundar Pichai: Based on AI?\n",
        "\n",
        "NDTV: Yes, and other big data.\n",
        "\n",
        "Sundar Pichai: I am not concerned about that. I think we should worry about a lot of things, but scenarios like that seems far-fetched to me.\n",
        "\n",
        "NDTV: But you could, in some ways it's better than human beings at analyzing, so here's an AI, impartial, non-political machine, learning comes out of the forecast, the worries are big time.\n",
        "\n",
        "Sundar Pichai: We are still remarkably far away, you know we are making extraordinary progress in certain things, you know for example AI is now able to translate much better than ever before, close to human level translation.\n",
        "\n",
        "NDTV: I want to ask you about translations. I know you are going to have simultaneous translation, you can talk to anybody, you talk in your language, they talk in theirs. You are getting them, right? \n",
        "\n",
        "Sundar Pichai: Yes we are constantly making progress. But I do think in a few days we will be talking about something by which you can wear it in your ears, and you know and you can speak between two people and it will make this process of translation more seamless. But I think we are few years away from where two people you know, regardless of language they know, can converse with each other and that is absolutely you know in line of sight. You know even few days from now our first headsets we will show will take good steps in that direction.\n",
        "\n",
        "NDTV: October 4th you will announce something like that? Because that will have a mind-blowing impact on humanity, that you can go anywhere and talk to anyone you like.\n",
        "\n",
        "Sundar Pichai: We are not quite there yet, but it'll take the first step in that direction and we will continue to build from there.\n",
        "\n",
        "NDTV: India has done certain things that are being used around the world. For example you got lighter products because we have less bandwidth and less speed in India. Give us some examples of things worked on in India that are being used around the world.\n",
        "\n",
        "Sundar Pichai: Several examples, you know, we talked about Maps earlier and YouTube Go, so the ability to cache videos offline and watch it when you want to we started in India, we are taking it globally. We recently launched the product called Google Tez. We are able to do this in India first because of the digital payments infrastructure, right, that India has done, so we are doing it in India and will take to the rest of the world and say look this is how you do it. So yes, very proud.\n",
        "\n",
        "NDTV: The whole idea of lightness, you need to have much lighter apps and lighter systems. That is something a Chinese browser company discovered in India a long time ago and they've covered 60% of the market according to them. How are you tackling the Chinese? Because they're smart.\n",
        "\n",
        "Sundar Pichai: Look our data shows otherwise, but you know innovation should come from everywhere and I think those are all good signals for us to understand where we can do better. We adapted and made Chrome better, lighter and faster, so you know that's beginning to work.\n",
        "\n",
        "NDTV: So when we talk about AI, privacy, it is a worry. How much privacy will companies like yours guarantee? Because there is something called data colonization. You have so much data. You know when I eat, whatever I do, what I like, because what I see, what I have done here I see elsewhere whenever I want to buy something.\n",
        "\n",
        "Sundar Pichai: We actually don't know all that. But yes the way I think about all that is, first of all biggest risk for data for anyone is security, getting compromised from a security aspect. So just like your money is safer in the bank or something like that, we work so hard to build some of the most secure systems in the world. So we work very hard to protect your data. As a company we realise every single day, you know, users will only use us, they trust us as an institution. So, you know...\n",
        "\n",
        "NDTV: So how important is data security and privacy?\n",
        "\n",
        "Sundar Pichai: It is at the foundation of everything we do. Whenever we build anything new we start with, how do we, in a foundational way, secure and the data give users privacy. On top of that we do everything else. And, and...\n",
        "\n",
        "NDTV: Nobody can hack into it and suddenly...\n",
        "\n",
        "Sundar Pichai: I mean you work every day, you never say nobody can. Security you have to earn it every day and, but I think we are state of the art in terms of what we do to protect you know users data and give security to our users.\n",
        "\n",
        "NDTV: You know, somehow, I feel and I totally believe that, and I trust Google and I use it without any hassle, but I worry about, I don't want to sound parochial, but will the Chinese or Russians have similar focus on privacy and security. Because we are using their browsers as well?\n",
        "\n",
        "Sundar Pichai: You know I, in general I feel, one of the things we all do, lot of our products are open source, so people can inspect their products and you know so, and this is why partly we do our products the way we do it. I think it's good for all us to be worried about security and privacy always.\n",
        "\n",
        "NDTV: You didn't answer my question.\n",
        "\n",
        "Sundar Pichai: Ha\n",
        "\n",
        "NDTV: Totally agree with you. Will look after and America will really be at the forefront. But with this internet and data colonization will other countries do it, will India do it?\n",
        "\n",
        "Sundar Pichai: You know, I, I think so over time users will demand it. The state of what IT is doing for people, over time just like in healthcare you demand standards, I think users will demand... \n",
        "\n",
        "NDTV: It will come from users? \n",
        "\n",
        "Sundar Pichai: Users, they will vote with whatever they use otherwise.\n",
        "\n",
        "NDTV: If you don't trust it, you won't use that browser.\n",
        "\n",
        "Sundar Pichai: That's right, browsers or phone or whatever, it is right.\n",
        "\n",
        "NDTV: We have in India the Aadhaar card, which in my opinion is a revolution. It's wonderful, but there is a lot of worry that everything is connected to it, to your phone or bank account to tax, everything which can be very positively used, but it can also be misused. How do we ensure that it is not misused?\n",
        "\n",
        "Sundar Pichai: You know I can see all the benefits that would come from a system like that.\n",
        "\n",
        "NDTV: Aadhaar?\n",
        "\n",
        "Sundar Pichai: Aadhaar, but I think it is important because it has a, you know, centralised aspect to it. You have to put the right checks and balances in the system. It is no different from Constitution, democracy and court systems. You have to have equivalent in a system like Aadhaar to say, you know, with the power comes great responsibility and you know what are the checks and balances in the system.\n",
        "\n",
        "NDTV: I hate to say but our politicians, I don't have the greatest faith in them. I mean they are not the most trusted in India by most surveys, and you know to get one against each other they could break that privacy. How does one stop that? It's a worry.\n",
        "\n",
        "Sundar Pichai: You know, which is why it cannot be a political solution alone. The solution has to be a, you know, has to have foundations in the law and in the Constitution and with the act of judiciary to support it. That's how you have to design most of these systems. I think the same thing applies to something that foundational...\n",
        "\n",
        "NDTV: So Aadhaar, would you, one or two things you say that should be done to make Aadhaar, make us trust it. Our problem is people don't trust it, it's a great system but people don't trust it yet \n",
        "\n",
        "Sundar Pichai: You know I am not fully familiar with it you know. I think in a lot of these cases you have to generate benefits for the users. You have to show it with a benefit. So tomorrow when I go get a driver's licence, you know, I am giving up some privacy. I do it because I can drive and I see the benefits of it. So for Aadhaar you have to show, show use cases at the top of it. Why that collective benefit and the good that comes out of it far outweighs, you know, the privacy you give up for it and, and, then you have to put checks and balances to make sure it works well.\n",
        "\n",
        "NDTV: I am going to ask you to one day write a book, \"My checks and balances Aadhaar needs\", not right now.\n",
        "\n",
        "Sundar Pichai: I am happy to look at it, but I think very smart people looking at it as well.\n",
        "\n",
        "NDTV: Yes, but also you worry that some are so smart that you can't worry about what their intentions are.\n",
        "\n",
        "Sundar Pichai: Yes.'''"
      ],
      "metadata": {
        "id": "VqBcyHoii9e2"
      },
      "execution_count": null,
      "outputs": []
    },
    {
      "cell_type": "code",
      "execution_count": null,
      "metadata": {
        "colab": {
          "base_uri": "https://localhost:8080/"
        },
        "id": "0dJpH3-wV2cU",
        "outputId": "c5799bca-deac-46f9-d97e-6a72ab11e949"
      },
      "outputs": [
        {
          "output_type": "stream",
          "name": "stdout",
          "text": [
            "2022-04-09 09:13:32,952|__main__|INFO> Loading Model\n",
            "Downloading: 100% 1.55k/1.55k [00:00<00:00, 1.51MB/s]\n",
            "Downloading:  65% 0.98G/1.51G [00:26<00:13, 42.4MB/s]"
          ]
        }
      ],
      "source": [
        "!python /content/drive/MyDrive/CDAC_Project/DocSum-master/cmd_summarizer.py -m bart --text  '''Google CEO Sundar Pichai spoke exclusively to NDTV at the Google headquarters in California. Mountain View, California: As Google geared up to launch a new wave of products and services including the much-awaited Pixel 2 and Pixel 2 XL smartphones, CEO Sundar Pichai spoke to NDTV Prannoy Roy about technology, democracy and more. NDTV: Sundar Pichai, God Bless you, thank you very much for joining us. Sundar Pichai: Pleasure seeing you as well. NDTV: Your success is an absolute, absolute inspiration for all of us.Sundar Pichai: Thank you, you know I grew up watching you on the news channel as well NDTV: Kindergarten? Sundar Pichai: Not quite kindergarten, I was in college by then.NDTV: You know I say that we are really inspired by you but there is a real puzzle to fix, one you are not a dropout, how can you be so successful and b), you are a good guy, don not you have to be slightly nasty to be successful? Sundar Pichai: First of all, IIT was too much fun to actually drop out, so was not there a movie about it or something? It was more like that. It was too much fun to drop out. And I have always felt being a good guy and doing well are not necessarily at odds with each other so always felt that applied. NDTV: I totally believe that. And I think, you reflected in your handling of Google, how you changed the ethos here, the kind of team work and people enjoying everybodys company and working together, right? Sundar Pichai: Yes. I always felt that even if you work 40 hours a week, you spend more time at work than the rest of your waking time, and so I have always felt that it is important that it be fun, you work with people you like and it feels like a team and you are in it together, so I have always cherished that. NDTV: We have talked to a lot of Google people and they all say it starts from you. Now Androids, look at that guy there, I got more interest in, look at that. The drawing for the restroom signs, it is like everywhere. Sundar Pichai: You are close to the place where Android gets built. NDTV: I am told we are actually in one of the buildings where not too many people come so we are very privileged to be here, and to go out in the main campus, two problems, one is security and b), you will be mobbed. Sundar Pichai: You know our campus here is public space so anyone can come so we dont not restrict access here. NDTV: That is just the kind of openness that you have, it is beautiful. One of the things that I love about Google Maps is, it lowers my tension. Because I know I will take 42 minutes to go from here to there. I am in a traffic jam. It doesn not matter, it is still 42 minutes. In the old days we said, oh God, I am getting late, but now, traffic jams are within an overall scheme of things, thanks to Google Maps. Sundar Pichai: You know I love using Google Maps and in India it actually works well, we are constantly trying to make it better, but I think the traffic in India is a challenge, so hopefully that Maps makes a small difference. NDTV: A lot of it was developed in India, right? Sundar Pichai: That is right, India is where we had this insight, a team from India felt like it is tough to get data around Maps, so they basically said wherever there are missing roads, we actually will let users, just like Wikipedia, edit and complete map routes and so on. So that insight really changed how fast we have been building maps since then. NDTV: I don not have a Google map quite as big as this, look at that. This is where we are Sundar Pichai: Yes, this is a picture of Google right here, looking at it from top. That is where people sit and have their lunches, in good California weather, so it is pretty nice most of the year to do that. NDTV: One of the big things about Google campuses, you have got a food place every 20 yards. The best food in the world is here.'''\n",
        "\n"
      ]
    },
    {
      "cell_type": "code",
      "execution_count": null,
      "metadata": {
        "id": "cAuS8p4dgxHA",
        "outputId": "c19856fb-d7bd-4760-f423-135559534597",
        "colab": {
          "base_uri": "https://localhost:8080/"
        }
      },
      "outputs": [
        {
          "output_type": "stream",
          "name": "stdout",
          "text": [
            "\n",
            "2022-04-09 08:49:29.374758:\n",
            "Laurie and Sarah plan to meet for pizza at noon, go to the movies at two, and shop at Michael’s afterward. Laurie remembers Sara from her high school graduation party two years ago. Sarah will start her teaching career next week when the new school term begins. Laurie: I think the first few weeks will be tough, but once the routine is set, it should not be too difficult to teach kindergarten. Christie: The kids might even look forward to going to school since they have so many friends to play with.\n",
            "\n",
            "2022-04-09 08:59:10.426084:\n",
            "text.text.\n",
            "\n",
            "2022-04-09 09:00:02.905558:\n",
            "text1234.com: http://www.dailymail.co.uk/news/features/top-stories/stories/2013/01/30/features-top-10-stories-of-the-year.html#storylink=cpy. Text1234 is a weekly Newsquiz that tests readers' knowledge of stories and events.\n",
            "\n",
            "2022-04-09 09:10:44.141969:\n",
            "Google CEO Sundar Pichai spoke exclusively to NDTV at the Google headquarters in California. Sundar: IIT was too much fun to actually drop out, so was not there a movie about it or something? It was more like that. I have always felt being a good guy and doing well are not necessarily at odds with each other so always felt that applied. I love using Google Maps and in India it actually works well, we are constantly trying to make it better, but I think the traffic in India is a challenge, so hopefully that Maps makes a small difference. The best food in the world is here, so nice most of the time to do that.\n"
          ]
        }
      ],
      "source": [
        "!cat summarized.txt"
      ]
    },
    {
      "cell_type": "code",
      "source": [
        ""
      ],
      "metadata": {
        "id": "s1JGAnHDe2t4"
      },
      "execution_count": null,
      "outputs": []
    }
  ],
  "metadata": {
    "accelerator": "GPU",
    "colab": {
      "name": "Copy of DocSum.ipynb",
      "provenance": []
    },
    "kernelspec": {
      "display_name": "Python 3",
      "language": "python",
      "name": "python3"
    },
    "language_info": {
      "codemirror_mode": {
        "name": "ipython",
        "version": 3
      },
      "file_extension": ".py",
      "mimetype": "text/x-python",
      "name": "python",
      "nbconvert_exporter": "python",
      "pygments_lexer": "ipython3",
      "version": "3.6.10"
    }
  },
  "nbformat": 4,
  "nbformat_minor": 0
}