{
 "cells": [
  {
   "cell_type": "markdown",
   "id": "de10e630-7941-4ffb-b2a7-0f36beead1c9",
   "metadata": {},
   "source": [
    "# Training a custom Text Summarization Model"
   ]
  },
  {
   "cell_type": "markdown",
   "id": "b9c55082-3ef9-4ec0-8146-03653138f154",
   "metadata": {},
   "source": [
    "- Dependencies to be installed"
   ]
  },
  {
   "cell_type": "code",
   "execution_count": null,
   "id": "25895170-25c7-40ba-adfc-ac0ce62e98b4",
   "metadata": {
    "tags": []
   },
   "outputs": [],
   "source": [
    "# !pip install GPUtil\n",
    "# !pip install transformers\n",
    "# !pip install git-lfs\n",
    "# !pip unstall sentencepiece"
   ]
  },
  {
   "cell_type": "markdown",
   "id": "631c42b4-3c18-47f9-8ac8-f83ff1a5945f",
   "metadata": {},
   "source": [
    "- GPUtil is a Python module for getting the GPU status from NVIDA GPUs using nvidia-smi."
   ]
  },
  {
   "cell_type": "code",
   "execution_count": 10,
   "id": "bf06035f-a7c1-4a47-b8b7-bcf3eb94c664",
   "metadata": {},
   "outputs": [
    {
     "name": "stdout",
     "output_type": "stream",
     "text": [
      "huggingface/tokenizers: The current process just got forked, after parallelism has already been used. Disabling parallelism to avoid deadlocks...\n",
      "To disable this warning, you can either:\n",
      "\t- Avoid using `tokenizers` before the fork if possible\n",
      "\t- Explicitly set the environment variable TOKENIZERS_PARALLELISM=(true | false)\n",
      "| ID | GPU | MEM |\n",
      "------------------\n",
      "|  0 | 31% | 11% |\n"
     ]
    }
   ],
   "source": [
    "from GPUtil import showUtilization as gpu_usage\n",
    "gpu_usage()     "
   ]
  },
  {
   "cell_type": "code",
   "execution_count": 11,
   "id": "571abeb7-6995-43e6-95a1-cbdfd3206c6a",
   "metadata": {},
   "outputs": [
    {
     "name": "stdout",
     "output_type": "stream",
     "text": [
      "1.11.0\n"
     ]
    }
   ],
   "source": [
    "import torch\n",
    "print(torch.__version__)"
   ]
  },
  {
   "cell_type": "code",
   "execution_count": 12,
   "id": "7edcd89c-3953-49d2-a0e5-5bdf643f1dfd",
   "metadata": {},
   "outputs": [
    {
     "name": "stdout",
     "output_type": "stream",
     "text": [
      "11.3\n",
      "NVIDIA GeForce GTX 1060 with Max-Q Design\n"
     ]
    }
   ],
   "source": [
    "torch.cuda.is_available()\n",
    "print(torch.version.cuda)\n",
    "print(torch.cuda.get_device_name(0))"
   ]
  },
  {
   "cell_type": "code",
   "execution_count": 13,
   "id": "143e1c98-21e9-495a-a27d-ad4afdf92be5",
   "metadata": {},
   "outputs": [],
   "source": [
    "device = \"cuda\" if torch.cuda.is_available() else \"cpu\""
   ]
  },
  {
   "cell_type": "code",
   "execution_count": 14,
   "id": "491a17de-2410-4521-abe2-0ea94a7a0070",
   "metadata": {},
   "outputs": [],
   "source": [
    "import transformers\n",
    "import pandas as pd\n",
    "import numpy as np\n",
    "import matplotlib.pyplot as plt"
   ]
  },
  {
   "cell_type": "markdown",
   "id": "708ebf09-9d0e-4399-884f-70cd5fca15a9",
   "metadata": {},
   "source": [
    "## Loading the dataset\n",
    "- We'll be using the SAMSum dataset (developed by Samsung), which consists of a collection of dialogues along with brief summaries."
   ]
  },
  {
   "cell_type": "code",
   "execution_count": 15,
   "id": "a6ef9ce9-81fd-44bc-9a14-2dd997fc2594",
   "metadata": {
    "tags": []
   },
   "outputs": [
    {
     "name": "stderr",
     "output_type": "stream",
     "text": [
      "Reusing dataset samsum (/home/anegi/.cache/huggingface/datasets/samsum/samsum/0.0.0/3f7dba43be72ab10ca66a2e0f8547b3590e96c2bd9f2cbb1f6bb1ec1f1488ba6)\n"
     ]
    },
    {
     "data": {
      "application/vnd.jupyter.widget-view+json": {
       "model_id": "2bf9c899007d4963941a5a42b7734076",
       "version_major": 2,
       "version_minor": 0
      },
      "text/plain": [
       "  0%|          | 0/3 [00:00<?, ?it/s]"
      ]
     },
     "metadata": {},
     "output_type": "display_data"
    }
   ],
   "source": [
    "from datasets import load_dataset\n",
    "samsum = load_dataset('samsum')"
   ]
  },
  {
   "cell_type": "code",
   "execution_count": 16,
   "id": "c6af3a68-b4f8-4b0c-ac88-31a481ea99af",
   "metadata": {
    "tags": []
   },
   "outputs": [
    {
     "data": {
      "text/plain": [
       "DatasetDict({\n",
       "    train: Dataset({\n",
       "        features: ['id', 'dialogue', 'summary'],\n",
       "        num_rows: 14732\n",
       "    })\n",
       "    test: Dataset({\n",
       "        features: ['id', 'dialogue', 'summary'],\n",
       "        num_rows: 819\n",
       "    })\n",
       "    validation: Dataset({\n",
       "        features: ['id', 'dialogue', 'summary'],\n",
       "        num_rows: 818\n",
       "    })\n",
       "})"
      ]
     },
     "execution_count": 16,
     "metadata": {},
     "output_type": "execute_result"
    }
   ],
   "source": [
    "samsum"
   ]
  },
  {
   "cell_type": "code",
   "execution_count": 17,
   "id": "33613000-ad54-4392-8699-784746420785",
   "metadata": {},
   "outputs": [
    {
     "name": "stdout",
     "output_type": "stream",
     "text": [
      "Features : ['id', 'dialogue', 'summary']\n"
     ]
    }
   ],
   "source": [
    "print(f\"Features : {samsum['train'].column_names}\")"
   ]
  },
  {
   "cell_type": "markdown",
   "id": "22ed6aa9-1d08-41cd-88ff-3286f53b3582",
   "metadata": {},
   "source": [
    "- Let's us check the dialogue and its summary given in the SAMSUM dataset"
   ]
  },
  {
   "cell_type": "code",
   "execution_count": 18,
   "id": "9357785b-1fa7-4c5d-98b8-74b4ac166c24",
   "metadata": {},
   "outputs": [
    {
     "name": "stdout",
     "output_type": "stream",
     "text": [
      "Dialogue: \n",
      "\n",
      "Neville: Hi there, does anyone remember what date I got married on?\n",
      "Don: Are you serious?\n",
      "Neville: Dead serious. We're on vacation, and Tina's mad at me about something. I have a strange suspicion that this might have something to do with our wedding anniversary, but I have nowhere to check.\n",
      "Wyatt: Hang on, I'll ask my wife.\n",
      "Don: Haha, someone's in a lot of trouble :D\n",
      "Wyatt: September 17. I hope you remember the year ;)\n"
     ]
    }
   ],
   "source": [
    "print(\"Dialogue: \\n\")\n",
    "print(samsum['train'][5]['dialogue'])"
   ]
  },
  {
   "cell_type": "code",
   "execution_count": 5,
   "id": "9aa78fac-8a7f-4ccf-a6b7-58db50d3553e",
   "metadata": {},
   "outputs": [
    {
     "name": "stdout",
     "output_type": "stream",
     "text": [
      "Summary: \n",
      "\n",
      "Wyatt reminds Neville his wedding anniversary is on the 17th of September. Neville's wife is upset and it might be because Neville forgot about their anniversary.\n"
     ]
    }
   ],
   "source": [
    "print(\"Summary: \\n\")\n",
    "print(samsum['train'][5]['summary'])"
   ]
  },
  {
   "cell_type": "code",
   "execution_count": null,
   "id": "182f7242-37e7-416b-a50f-5f73618bbdb3",
   "metadata": {},
   "outputs": [],
   "source": []
  },
  {
   "cell_type": "markdown",
   "id": "7abb6515-76d2-4583-b907-1d4c1b016bba",
   "metadata": {
    "tags": []
   },
   "source": [
    "# T5 (Text to Text Transfer Transformer) Model\n",
    "## Key points\n",
    "- Treats each NLP problem as a “text-to text” problem and reaches SOTA results- input:text, output:text\n",
    "- Unified approach for NLP Deep Learning- Since the task is purely reflected in the text input and output, we can use the same model for summarization, Q&A etc.\n",
    "- Multiple NLP tasks can live in the same model.\n"
   ]
  },
  {
   "cell_type": "code",
   "execution_count": 10,
   "id": "225bf33b-e0f4-4d13-8cb8-fdac7703db3c",
   "metadata": {},
   "outputs": [],
   "source": [
    "from transformers import T5Tokenizer, T5ForConditionalGeneration\n",
    "\n",
    "tokenizer = T5Tokenizer.from_pretrained(\"t5-small\")\n",
    "model = T5ForConditionalGeneration.from_pretrained(\"t5-small\")"
   ]
  },
  {
   "cell_type": "markdown",
   "id": "cea18d4e-00d3-40c4-9a85-0794d6633dee",
   "metadata": {},
   "source": [
    "### Checking the length distribution of dialogue and summary\n",
    "- tokenizer.encode - Converts a string to a sequence of ids (integer), using the tokenizer and vocabulary."
   ]
  },
  {
   "cell_type": "code",
   "execution_count": 11,
   "id": "cdeb1b4c-8e06-4857-b8d6-f712209afb5b",
   "metadata": {},
   "outputs": [
    {
     "name": "stderr",
     "output_type": "stream",
     "text": [
      "Token indices sequence length is longer than the specified maximum sequence length for this model (567 > 512). Running this sequence through the model will result in indexing errors\n"
     ]
    }
   ],
   "source": [
    "d_len = [len(tokenizer.encode(text)) for text in samsum['train']['dialogue']]\n",
    "s_len = [len(tokenizer.encode(text)) for text in samsum['train']['summary']]"
   ]
  },
  {
   "cell_type": "code",
   "execution_count": 12,
   "id": "4bc9e319-b7e5-4ce9-8f6a-ffa95957f264",
   "metadata": {},
   "outputs": [
    {
     "data": {
      "image/png": "[encoded data removed]",
      "text/plain": [
       "<Figure size 720x252 with 2 Axes>"
      ]
     },
     "metadata": {
      "needs_background": "light"
     },
     "output_type": "display_data"
    }
   ],
   "source": [
    "fig, axes = plt.subplots(1, 2, figsize=(10, 3.5), sharey=True)\n",
    "\n",
    "axes[0].hist(d_len, bins=20, color=\"C0\", edgecolor=\"C0\")\n",
    "axes[0].set_title(\"Dialogue Token Length\")\n",
    "axes[0].set_xlabel(\"Length\")\n",
    "axes[0].set_ylabel(\"Count\")\n",
    "axes[1].hist(s_len, bins=20, color=\"C0\", edgecolor=\"C0\")\n",
    "axes[1].set_title(\"Summary Token Length\")\n",
    "axes[1].set_xlabel(\"Length\")\n",
    "plt.tight_layout()\n",
    "plt.show()\n"
   ]
  },
  {
   "cell_type": "markdown",
   "id": "cde6efd3-3bf1-4fce-8c46-c1b49c8a349a",
   "metadata": {},
   "source": [
    "- Most of our dialogue lengths are between 100-200 tokens per dialogue and summary lenth is between 20-40 tokens per dialogue."
   ]
  },
  {
   "cell_type": "code",
   "execution_count": null,
   "id": "abb24c12-fa0d-4873-94d9-b793483f142d",
   "metadata": {},
   "outputs": [],
   "source": [
    "from GPUtil import showUtilization as gpu_usage\n",
    "gpu_usage()             "
   ]
  },
  {
   "cell_type": "markdown",
   "id": "810294de-3ead-45d9-ba76-02c6f5ac93ee",
   "metadata": {},
   "source": [
    "# ------------------------------------------------------------------------------------------"
   ]
  },
  {
   "cell_type": "markdown",
   "id": "04e6a49e-4958-4772-94d7-876bd409686c",
   "metadata": {},
   "source": [
    "### Let us tokenize the dataset\n",
    "- We’ll set the maximum lengths to 1024 for the dialogues and 128 for the summaries.\n",
    "- Using the with statements, the tokenizer knows that it is tokenizing for the decoder and acts accordingly."
   ]
  },
  {
   "cell_type": "code",
   "execution_count": null,
   "id": "0a81e739-0772-4ac5-851b-37e4e1f7be2d",
   "metadata": {},
   "outputs": [],
   "source": [
    "def convert_examples_to_features(example_batch):\n",
    "    \n",
    "    input_encodings = tokenizer(example_batch[\"dialogue\"],\n",
    "                                max_length=1024,\n",
    "                                truncation=True)\n",
    "    \n",
    "    with tokenizer.as_target_tokenizer():\n",
    "        target_encodings = tokenizer(example_batch[\"summary\"],\n",
    "                                     max_length=128,\n",
    "                                     truncation=True)\n",
    "        \n",
    "    return {\"input_ids\": input_encodings[\"input_ids\"],\n",
    "            \"attention_mask\": input_encodings[\"attention_mask\"],\n",
    "            \"labels\": target_encodings[\"input_ids\"]}\n"
   ]
  },
  {
   "cell_type": "code",
   "execution_count": null,
   "id": "0449150c-6c56-4b6e-b47d-78b4ddb60f9b",
   "metadata": {
    "tags": []
   },
   "outputs": [],
   "source": [
    "dataset_samsum_pt = samsum.map(convert_examples_to_features, \n",
    "                               batched=True)\n",
    "\n",
    "columns = [\"input_ids\", \"labels\", \"attention_mask\"]\n",
    "dataset_samsum_pt.set_format(type=\"torch\", columns=columns)\n"
   ]
  },
  {
   "cell_type": "code",
   "execution_count": null,
   "id": "e5e5decd-1706-4d0c-95f6-8b2667dff8be",
   "metadata": {},
   "outputs": [],
   "source": []
  },
  {
   "cell_type": "markdown",
   "id": "f87ce427-4f91-4b9f-a72f-c807d7b8a6f7",
   "metadata": {},
   "source": [
    "### Create Data Collator\n",
    "- Data collators put together a list of samples into a single training mini batch.\n",
    "- Both inputs and labels must be padded for these kind of models "
   ]
  },
  {
   "cell_type": "code",
   "execution_count": null,
   "id": "55781600-23f4-41e7-bd16-4ad0f4c8a1fb",
   "metadata": {},
   "outputs": [],
   "source": [
    "from transformers import DataCollatorForSeq2Seq\n",
    "\n",
    "seq2seq_data_collator = DataCollatorForSeq2Seq(tokenizer, model = model)"
   ]
  },
  {
   "cell_type": "code",
   "execution_count": null,
   "id": "31b4a2d0-487d-4206-887f-ccdbed78199c",
   "metadata": {},
   "outputs": [],
   "source": []
  },
  {
   "cell_type": "markdown",
   "id": "3f0faeab-9061-4d87-b8aa-ec7b712c8891",
   "metadata": {},
   "source": [
    "### Logging into HuggingFace so that we can push our model to the Hub"
   ]
  },
  {
   "cell_type": "code",
   "execution_count": null,
   "id": "c5984758-1506-48e5-942b-b080e7b0e284",
   "metadata": {},
   "outputs": [],
   "source": [
    "from huggingface_hub import notebook_login\n",
    "notebook_login()"
   ]
  },
  {
   "cell_type": "markdown",
   "id": "3f91bed1-e23f-41a8-ab6a-f4bac0bc5b35",
   "metadata": {},
   "source": [
    "### Setting up TrainingArguments for training\n",
    "\n",
    "- You can fine tune your transformer model on your data set"
   ]
  },
  {
   "cell_type": "code",
   "execution_count": null,
   "id": "f8bb7881-fd42-4476-a0d3-0ac84e868d8b",
   "metadata": {},
   "outputs": [],
   "source": [
    "from transformers import TrainingArguments, Trainer\n",
    "\n",
    "training_args = TrainingArguments(\n",
    "                                  't5-small-demo1',\n",
    "                                  num_train_epochs=1, \n",
    "                                  warmup_steps=500,\n",
    "                                  per_device_train_batch_size=1, \n",
    "                                  per_device_eval_batch_size=1,\n",
    "                                  weight_decay=0.01,\n",
    "                                  logging_steps=10, \n",
    "                                  push_to_hub=True,\n",
    "                                  push_to_hub_model_id='t5-small-demo1',  \n",
    "                                  evaluation_strategy='steps',\n",
    "                                  eval_steps=500,\n",
    "                                  save_steps=1e6,\n",
    "                                  gradient_accumulation_steps=16\n",
    "                                 )"
   ]
  },
  {
   "cell_type": "code",
   "execution_count": null,
   "id": "66302c28-c94c-4a4d-b2e5-d46cd185140a",
   "metadata": {
    "tags": []
   },
   "outputs": [],
   "source": [
    "trainer = Trainer(model = model, \n",
    "                  args = training_args,\n",
    "                  tokenizer = tokenizer,\n",
    "                  data_collator = seq2seq_data_collator,\n",
    "                  train_dataset = dataset_samsum_pt[\"train\"],\n",
    "                  eval_dataset = dataset_samsum_pt[\"validation\"]\n",
    "                 )"
   ]
  },
  {
   "cell_type": "code",
   "execution_count": null,
   "id": "6c8b769e-161e-4c1a-8e71-43cd09bbb6b1",
   "metadata": {
    "tags": []
   },
   "outputs": [],
   "source": [
    "trainer.train()"
   ]
  },
  {
   "cell_type": "markdown",
   "id": "90c9ec84-0139-49e8-9fe6-72c5aa671584",
   "metadata": {},
   "source": [
    "- Pusing our model to the hub so that we can easily use it"
   ]
  },
  {
   "cell_type": "code",
   "execution_count": null,
   "id": "d444d187-7094-49d4-b2c2-dc3a4e571d8b",
   "metadata": {
    "tags": []
   },
   "outputs": [],
   "source": [
    "trainer.push_to_hub(\"Trainer push\")\n",
    "tokenizer.push_to_hub('Tokenizer push')\n",
    "model.push_to_hub('Model push')"
   ]
  },
  {
   "cell_type": "code",
   "execution_count": null,
   "id": "7a707ad5-6ca7-43b5-af8b-f10f9f7d5425",
   "metadata": {},
   "outputs": [],
   "source": []
  },
  {
   "cell_type": "markdown",
   "id": "19ce55f6-ae77-4ea6-9aa2-d3714b1208a8",
   "metadata": {},
   "source": [
    "# -------------------------------------------------------------------------------------------"
   ]
  },
  {
   "cell_type": "markdown",
   "id": "0543226c-64ee-4402-923b-fb1e60f3e194",
   "metadata": {},
   "source": [
    "## Testing our model on random conversation"
   ]
  },
  {
   "cell_type": "code",
   "execution_count": 19,
   "id": "6a5b8251-9923-40ae-8459-360425c2143c",
   "metadata": {},
   "outputs": [],
   "source": [
    "conversation = '''\n",
    "Aakash: Did you watched last night match?\n",
    "Vikas: No, I was busy. What happended?\n",
    "Aakash: Barcelona won their game against Sevilla 1-0. Pedri scored an sensational goal.\n",
    "Vikas: Oh really!!! I have to watch the highlights at home.\n",
    "Aakash: Yes, I am so excited for the new upcoming season. Xavi really doing wonders.\n",
    "Vikas: Exactly!! Xavi has changed the way Barcelona play. The good days are coming back. \n",
    "'''"
   ]
  },
  {
   "cell_type": "code",
   "execution_count": 2,
   "id": "52e7dc39-457b-40ec-801a-ee54109bc54d",
   "metadata": {},
   "outputs": [],
   "source": [
    "from transformers import pipeline"
   ]
  },
  {
   "cell_type": "code",
   "execution_count": 3,
   "id": "d63769ab-9de0-4d3e-8438-ad34d6e7528d",
   "metadata": {
    "tags": []
   },
   "outputs": [],
   "source": [
    "summarizer = pipeline('summarization', model = 'anegi/t5smallmodel')"
   ]
  },
  {
   "cell_type": "code",
   "execution_count": 4,
   "id": "e65c2584-7e52-4553-95d5-3f68d675d6e2",
   "metadata": {
    "tags": []
   },
   "outputs": [],
   "source": [
    "summary_generated = summarizer(conversation, max_length=90, min_length = 35)"
   ]
  },
  {
   "cell_type": "code",
   "execution_count": 5,
   "id": "1df29e71-7a3c-4f1a-a57f-1d542d5d267b",
   "metadata": {},
   "outputs": [
    {
     "data": {
      "text/plain": [
       "[{'summary_text': 'Pedri scored a sensational goal for Barcelona against Sevilla . Xavi has changed the way they play. Aakash is excited for the new season.'}]"
      ]
     },
     "execution_count": 5,
     "metadata": {},
     "output_type": "execute_result"
    }
   ],
   "source": [
    "summary_generated"
   ]
  },
  {
   "cell_type": "markdown",
   "id": "f628b481-d620-486e-8c97-c87944d9a276",
   "metadata": {},
   "source": [
    "# -----------------------------------------------------------------------------------------"
   ]
  },
  {
   "cell_type": "markdown",
   "id": "9d805be7-04d4-4069-aceb-323e8858eb32",
   "metadata": {
    "tags": []
   },
   "source": [
    "## ROUGE metric\n",
    "- On our trained model(t5-small)"
   ]
  },
  {
   "cell_type": "code",
   "execution_count": 20,
   "id": "aa4ca505-015a-48df-8469-82741264296c",
   "metadata": {},
   "outputs": [],
   "source": [
    "from rouge_score import rouge_scorer"
   ]
  },
  {
   "cell_type": "code",
   "execution_count": 22,
   "id": "dcc45d35-9c99-486c-9784-d5c115c60f83",
   "metadata": {},
   "outputs": [],
   "source": [
    "scorer = rouge_scorer.RougeScorer(['rouge1','rouge2','rougeL'],\n",
    "                                  use_stemmer=True)\n",
    "\n",
    "# Adding a summary that a human would generate when the above conversation is provided to them.\n",
    "\n",
    "scores = scorer.score('Pedri scored a sensational goal for Barcelona against Sevilla . Xavi has changed the way they play. Aakash is excited for the new season.',\n",
    "                      '''Vikas asked Aakash about the match where Barcelona played against Sevilla and won.\n",
    "                         Pedri scored the only goal. Both are excited fot the upcoming season.''')"
   ]
  },
  {
   "cell_type": "markdown",
   "id": "fc0cdb96-758c-4dd7-b3c2-1daef273f5b0",
   "metadata": {},
   "source": [
    "- Converting the scores to dataframe"
   ]
  },
  {
   "cell_type": "code",
   "execution_count": 23,
   "id": "3fc04ae6-6403-449d-86cb-54108c3063ce",
   "metadata": {},
   "outputs": [],
   "source": [
    "df_score = pd.DataFrame(scores)"
   ]
  },
  {
   "cell_type": "code",
   "execution_count": 24,
   "id": "f4184af6-96d7-4547-82c0-13ea2fc6cc3e",
   "metadata": {},
   "outputs": [],
   "source": [
    "df_score.index = ['precision','recall','fmeasure']"
   ]
  },
  {
   "cell_type": "code",
   "execution_count": 25,
   "id": "9bf9969e-dd3d-4d06-ac0f-1ac16500fcb4",
   "metadata": {},
   "outputs": [
    {
     "data": {
      "text/html": [
       "<div>\n",
       "<style scoped>\n",
       "    .dataframe tbody tr th:only-of-type {\n",
       "        vertical-align: middle;\n",
       "    }\n",
       "\n",
       "    .dataframe tbody tr th {\n",
       "        vertical-align: top;\n",
       "    }\n",
       "\n",
       "    .dataframe thead th {\n",
       "        text-align: right;\n",
       "    }\n",
       "</style>\n",
       "<table border=\"1\" class=\"dataframe\">\n",
       "  <thead>\n",
       "    <tr style=\"text-align: right;\">\n",
       "      <th></th>\n",
       "      <th>rouge1</th>\n",
       "      <th>rouge2</th>\n",
       "      <th>rougeL</th>\n",
       "    </tr>\n",
       "  </thead>\n",
       "  <tbody>\n",
       "    <tr>\n",
       "      <th>precision</th>\n",
       "      <td>0.480000</td>\n",
       "      <td>0.083333</td>\n",
       "      <td>0.280000</td>\n",
       "    </tr>\n",
       "    <tr>\n",
       "      <th>recall</th>\n",
       "      <td>0.521739</td>\n",
       "      <td>0.090909</td>\n",
       "      <td>0.304348</td>\n",
       "    </tr>\n",
       "    <tr>\n",
       "      <th>fmeasure</th>\n",
       "      <td>0.500000</td>\n",
       "      <td>0.086957</td>\n",
       "      <td>0.291667</td>\n",
       "    </tr>\n",
       "  </tbody>\n",
       "</table>\n",
       "</div>"
      ],
      "text/plain": [
       "             rouge1    rouge2    rougeL\n",
       "precision  0.480000  0.083333  0.280000\n",
       "recall     0.521739  0.090909  0.304348\n",
       "fmeasure   0.500000  0.086957  0.291667"
      ]
     },
     "execution_count": 25,
     "metadata": {},
     "output_type": "execute_result"
    }
   ],
   "source": [
    "df_score"
   ]
  },
  {
   "cell_type": "code",
   "execution_count": null,
   "id": "58151f15-30ea-49d7-9a19-a4893147eb20",
   "metadata": {},
   "outputs": [],
   "source": []
  },
  {
   "cell_type": "markdown",
   "id": "46cfd1e6-ae3d-4ab3-bdfc-60651bbea794",
   "metadata": {},
   "source": [
    "- On a pre trained model(bart-largecnn-samsum)"
   ]
  },
  {
   "cell_type": "code",
   "execution_count": 26,
   "id": "9a63f124-be97-48cc-b85a-ba9b73a3170c",
   "metadata": {
    "tags": []
   },
   "outputs": [],
   "source": [
    "summarizer2 = pipeline('summarization', model=\"philschmid/bart-large-cnn-samsum\") "
   ]
  },
  {
   "cell_type": "code",
   "execution_count": 27,
   "id": "6052b4d2-17f9-44be-9620-19d5c71de4b1",
   "metadata": {},
   "outputs": [],
   "source": [
    "summary_generated2 = summarizer2(conversation, max_length=90, min_length = 35)"
   ]
  },
  {
   "cell_type": "code",
   "execution_count": 28,
   "id": "b692efa8-73ef-400d-a976-9886459b819a",
   "metadata": {},
   "outputs": [
    {
     "data": {
      "text/plain": [
       "[{'summary_text': 'Barcelona won their game against Sevilla 1-0. Pedri scored the only goal. Vikas has to watch the highlights at home. Aakash is excited about the upcoming season.'}]"
      ]
     },
     "execution_count": 28,
     "metadata": {},
     "output_type": "execute_result"
    }
   ],
   "source": [
    "summary_generated2"
   ]
  },
  {
   "cell_type": "code",
   "execution_count": 29,
   "id": "b74b8685-2eee-479d-a544-799c509608af",
   "metadata": {},
   "outputs": [],
   "source": [
    "scores2 = scorer.score('Barcelona won their game against Sevilla 1-0. Pedri scored the only goal. Vikas has to watch the highlights at home. Aakash is excited about the upcoming season.',\n",
    "                      '''Vikas asked Aakash about the match where Barcelona played against Sevilla and won.\n",
    "                         Pedri scored the only goal. Both are excited fot the upcoming season.''')"
   ]
  },
  {
   "cell_type": "code",
   "execution_count": 30,
   "id": "4626ac0c-61ef-44b5-b2c9-b4c90bf7287d",
   "metadata": {},
   "outputs": [],
   "source": [
    "df_score2 = pd.DataFrame(scores2)"
   ]
  },
  {
   "cell_type": "code",
   "execution_count": 31,
   "id": "2ce77dcd-fd43-4a46-ba3f-69248d4de5e2",
   "metadata": {},
   "outputs": [],
   "source": [
    "df_score2.index = ['precision','recall','fmeasure']"
   ]
  },
  {
   "cell_type": "code",
   "execution_count": 32,
   "id": "8ede7b9d-334a-4145-96fe-5125227b572d",
   "metadata": {},
   "outputs": [
    {
     "data": {
      "text/html": [
       "<div>\n",
       "<style scoped>\n",
       "    .dataframe tbody tr th:only-of-type {\n",
       "        vertical-align: middle;\n",
       "    }\n",
       "\n",
       "    .dataframe tbody tr th {\n",
       "        vertical-align: top;\n",
       "    }\n",
       "\n",
       "    .dataframe thead th {\n",
       "        text-align: right;\n",
       "    }\n",
       "</style>\n",
       "<table border=\"1\" class=\"dataframe\">\n",
       "  <thead>\n",
       "    <tr style=\"text-align: right;\">\n",
       "      <th></th>\n",
       "      <th>rouge1</th>\n",
       "      <th>rouge2</th>\n",
       "      <th>rougeL</th>\n",
       "    </tr>\n",
       "  </thead>\n",
       "  <tbody>\n",
       "    <tr>\n",
       "      <th>precision</th>\n",
       "      <td>0.680000</td>\n",
       "      <td>0.333333</td>\n",
       "      <td>0.480000</td>\n",
       "    </tr>\n",
       "    <tr>\n",
       "      <th>recall</th>\n",
       "      <td>0.607143</td>\n",
       "      <td>0.296296</td>\n",
       "      <td>0.428571</td>\n",
       "    </tr>\n",
       "    <tr>\n",
       "      <th>fmeasure</th>\n",
       "      <td>0.641509</td>\n",
       "      <td>0.313725</td>\n",
       "      <td>0.452830</td>\n",
       "    </tr>\n",
       "  </tbody>\n",
       "</table>\n",
       "</div>"
      ],
      "text/plain": [
       "             rouge1    rouge2    rougeL\n",
       "precision  0.680000  0.333333  0.480000\n",
       "recall     0.607143  0.296296  0.428571\n",
       "fmeasure   0.641509  0.313725  0.452830"
      ]
     },
     "execution_count": 32,
     "metadata": {},
     "output_type": "execute_result"
    }
   ],
   "source": [
    "df_score2"
   ]
  },
  {
   "cell_type": "code",
   "execution_count": null,
   "id": "6de1c03e-8b1a-432e-997a-5d94bbf3fa6e",
   "metadata": {},
   "outputs": [],
   "source": []
  },
  {
   "cell_type": "markdown",
   "id": "6ebfc4c2-238c-47a3-8677-9d737ce8bb16",
   "metadata": {},
   "source": [
    "# -----------------------------------------------------------------------------------------"
   ]
  },
  {
   "cell_type": "markdown",
   "id": "f0535f1e-63e0-4644-afc7-307ee231e630",
   "metadata": {},
   "source": [
    "#### Method 2\n",
    "\n",
    "- The ROUGE metric in the HuggingFace Datasets library also calculates confidence intervals\n",
    "  ( by default, the 5th and 95th percentiles). The average value is stored in the attribute mid and\n",
    "   the interval can be retrieved with low and high."
   ]
  },
  {
   "cell_type": "code",
   "execution_count": null,
   "id": "238f8fce-7060-4213-831e-2ef71c5ebfe3",
   "metadata": {},
   "outputs": [],
   "source": [
    "from datasets import load_metric\n",
    "rougue_metric = load_metric('rouge')"
   ]
  },
  {
   "cell_type": "code",
   "execution_count": null,
   "id": "e857366e-6e4e-498d-b148-d3f2a3379393",
   "metadata": {},
   "outputs": [],
   "source": [
    "rougue_metric.add(prediction = 'Pedri scored a sensational goal for Barcelona against Sevilla . Xavi has changed the way they play. Aakash is excited for the new season.',\n",
    "                  reference =  '''Vikas asked Aakash about the match where Barcelona played against Sevilla and won.\n",
    "                         Pedri scored the only goal. Both are excited fot the upcoming season.''')"
   ]
  },
  {
   "cell_type": "code",
   "execution_count": null,
   "id": "4ca4f5d2-a04a-4bf6-a80c-b03d1b323d28",
   "metadata": {},
   "outputs": [],
   "source": [
    "score3 = rougue_metric.compute()"
   ]
  },
  {
   "cell_type": "markdown",
   "id": "6a27c26e-989d-422a-8209-bfe0d628aefd",
   "metadata": {},
   "source": [
    "- Converting the scores into dataframe"
   ]
  },
  {
   "cell_type": "code",
   "execution_count": null,
   "id": "8ef60b94-2c78-430c-8ef6-5bb353ad1f18",
   "metadata": {},
   "outputs": [],
   "source": [
    "df = pd.DataFrame.from_dict(score3, orient=\"index\").stack().to_frame()\n",
    "\n",
    "# to break out the lists into columns\n",
    "\n",
    "df_score3 = pd.DataFrame(df[0].values.tolist(), index=df.index)"
   ]
  },
  {
   "cell_type": "code",
   "execution_count": null,
   "id": "3ae21bbc-6632-4715-befb-c2ccb85ad029",
   "metadata": {},
   "outputs": [],
   "source": [
    "df_score3"
   ]
  },
  {
   "cell_type": "code",
   "execution_count": null,
   "id": "0c7a353b-501d-4f30-ac16-425b657392d9",
   "metadata": {},
   "outputs": [],
   "source": []
  },
  {
   "cell_type": "markdown",
   "id": "4f2d4bb9-ec5f-467c-91aa-0359a2d3b120",
   "metadata": {},
   "source": [
    "# -------------------------------------------------------------------------------------------------------------"
   ]
  }
 ],
 "metadata": {
  "kernelspec": {
   "display_name": "Python 3 (ipykernel)",
   "language": "python",
   "name": "python3"
  },
  "language_info": {
   "codemirror_mode": {
    "name": "ipython",
    "version": 3
   },
   "file_extension": ".py",
   "mimetype": "text/x-python",
   "name": "python",
   "nbconvert_exporter": "python",
   "pygments_lexer": "ipython3",
   "version": "3.9.7"
  }
 },
 "nbformat": 4,
 "nbformat_minor": 5
}
