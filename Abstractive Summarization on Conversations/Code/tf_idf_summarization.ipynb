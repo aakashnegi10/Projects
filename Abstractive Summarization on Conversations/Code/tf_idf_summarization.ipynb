{
  "cells": [
    {
      "cell_type": "code",
      "execution_count": null,
      "metadata": {
        "id": "chflZIVowffo"
      },
      "outputs": [],
      "source": [
        "#Importing required libraries\n",
        "from sklearn.feature_extraction.text import TfidfVectorizer\n",
        "from spacy.lang.en import English\n",
        "import numpy as np"
      ]
    },
    {
      "cell_type": "code",
      "execution_count": null,
      "metadata": {
        "id": "fz33CYh7wiXl"
      },
      "outputs": [],
      "source": [
        "#Load spacy model for sentence tokenization\n",
        "nlp = English()\n",
        "nlp.add_pipe(nlp.create_pipe('sentencizer'))"
      ]
    },
    {
      "cell_type": "code",
      "execution_count": null,
      "metadata": {
        "id": "X72n3yHrwiay"
      },
      "outputs": [],
      "source": [
        "text_corpus = \"\"\"\n",
        "The regulator, NHS Improvement, said it wanted more progress after the NHS had slipped behind schedule in its efforts to reduce the agency bill.\n",
        "Last year £3.6bn was spent on agency staff, but the regulator wants that brought down by £1bn by the end of this financial year.\n",
        "A cap was introduced in October and has so far saved £600m, the regulator said.\n",
        "It means hospitals, mental health trusts and ambulance services should not be paying more than 55% above normal shift rates for any staff, from doctors and nurses to administration staff. Only senior managers are exempted.\n",
        "The aim was to reduce the overall cost of agency staff as well as getting hospitals to reduce their reliance on them.\n",
        "Agency staff are more expensive because the NHS has to cover the agency fees and employers costs, such as National Insurance contributions, when it buys them in.\n",
        "NHS Improvement said the progress being made was \"promising\", but it still leaves the NHS short.\n",
        "The latest accounts suggested NHS trusts were 10% down on where they wanted to be.\n",
        "And while the agency bill is falling it is not yet clear whether spending on other parts of the pay bill has risen.\n",
        "The figures released by NHS Improvement do not cover NHS \"bank\" staff - effectively the health service's in-house agency - or money spent getting employed staff to do overtime.\n",
        "NHS Improvement said it would start publishing \"league tables\" of the best and worst-performing trusts on agency spending later this year.\n",
        "Information on the 20 highest-earning agency staff per trust would also be collected amid suspicion some people are still earning large sums from agency work.\n",
        "It found examples of hospitals being quoted double the rates for doctors. In one case a trust was quoted £130 an hour for a surgeon when the cap is meant to be £76, while another was quoted £70 an hour for a junior doctor when the fee is meant to be £35.\n",
        "NHS Improvement chief executive Jim Mackey said: \"The NHS simply doesn't have the money to keep forking out for hugely expensive agency staff. There's much more to be done.\".\"\"\""
      ]
    },
    {
      "cell_type": "code",
      "execution_count": null,
      "metadata": {
        "id": "aWgVqcBjwieH",
        "colab": {
          "base_uri": "https://localhost:8080/"
        },
        "outputId": "1add8db2-0be8-4494-a63e-ca76bd6ffcd5"
      },
      "outputs": [
        {
          "output_type": "stream",
          "name": "stdout",
          "text": [
            "\n",
            "The regulator, NHS Improvement, said it wanted more progress after the NHS had slipped behind schedule in its efforts to reduce the agency bill.\n",
            "Last year £3.6bn was spent on agency staff, but the regulator wants that brought down by £1bn by the end of this financial year.\n",
            "A cap was introduced in October and has so far saved £600m, the regulator said.\n",
            "It means hospitals, mental health trusts and ambulance services should not be paying more than 55% above normal shift rates for any staff, from doctors and nurses to administration staff. Only senior managers are exempted.\n",
            "The aim was to reduce the overall cost of agency staff as well as getting hospitals to reduce their reliance on them.\n",
            "Agency staff are more expensive because the NHS has to cover the agency fees and employers costs, such as National Insurance contributions, when it buys them in.\n",
            "NHS Improvement said the progress being made was \"promising\", but it still leaves the NHS short.\n",
            "The latest accounts suggested NHS trusts were 10% down on where they wanted to be.\n",
            "And while the agency bill is falling it is not yet clear whether spending on other parts of the pay bill has risen.\n",
            "The figures released by NHS Improvement do not cover NHS \"bank\" staff - effectively the health service's in-house agency - or money spent getting employed staff to do overtime.\n",
            "NHS Improvement said it would start publishing \"league tables\" of the best and worst-performing trusts on agency spending later this year.\n",
            "Information on the 20 highest-earning agency staff per trust would also be collected amid suspicion some people are still earning large sums from agency work.\n",
            "It found examples of hospitals being quoted double the rates for doctors. In one case a trust was quoted £130 an hour for a surgeon when the cap is meant to be £76, while another was quoted £70 an hour for a junior doctor when the fee is meant to be £35.\n",
            "NHS Improvement chief executive Jim Mackey said: \"The NHS simply doesn't have the money to keep forking out for hugely expensive agency staff. There's much more to be done.\".\n"
          ]
        }
      ],
      "source": [
        "print(text_corpus)"
      ]
    },
    {
      "cell_type": "code",
      "execution_count": null,
      "metadata": {
        "id": "4SL2MWtdwiiY"
      },
      "outputs": [],
      "source": [
        "#Create spacy document for further sentence level tokenization\n",
        "doc = nlp(text_corpus.replace(\"\\n\", \"\"))\n",
        "sentences = [sent.string.strip() for sent in doc.sents]"
      ]
    },
    {
      "cell_type": "code",
      "execution_count": null,
      "metadata": {
        "id": "NZRZHHKLwt_R",
        "colab": {
          "base_uri": "https://localhost:8080/"
        },
        "outputId": "8f32b268-c693-44d6-d9cd-ab0f6c48ccff"
      },
      "outputs": [
        {
          "output_type": "stream",
          "name": "stdout",
          "text": [
            "The regulator, NHS Improvement, said it wanted more progress after the NHS had slipped behind schedule in its efforts to reduce the agency bill.Last year £3.6bn was spent on agency staff, but the regulator wants that brought down by £1bn by the end of this financial year.A cap was introduced in October and has so far saved £600m, the regulator said.It means hospitals, mental health trusts and ambulance services should not be paying more than 55% above normal shift rates for any staff, from doctors and nurses to administration staff. Only senior managers are exempted.The aim was to reduce the overall cost of agency staff as well as getting hospitals to reduce their reliance on them.Agency staff are more expensive because the NHS has to cover the agency fees and employers costs, such as National Insurance contributions, when it buys them in.NHS Improvement said the progress being made was \"promising\", but it still leaves the NHS short.The latest accounts suggested NHS trusts were 10% down on where they wanted to be.And while the agency bill is falling it is not yet clear whether spending on other parts of the pay bill has risen.The figures released by NHS Improvement do not cover NHS \"bank\" staff - effectively the health service's in-house agency - or money spent getting employed staff to do overtime.NHS Improvement said it would start publishing \"league tables\" of the best and worst-performing trusts on agency spending later this year.Information on the 20 highest-earning agency staff per trust would also be collected amid suspicion some people are still earning large sums from agency work.It found examples of hospitals being quoted double the rates for doctors. In one case a trust was quoted £130 an hour for a surgeon when the cap is meant to be £76, while another was quoted £70 an hour for a junior doctor when the fee is meant to be £35.NHS Improvement chief executive Jim Mackey said: \"The NHS simply doesn't have the money to keep forking out for hugely expensive agency staff. There's much more to be done.\".\n"
          ]
        }
      ],
      "source": [
        "print(doc)"
      ]
    },
    {
      "cell_type": "code",
      "execution_count": null,
      "metadata": {
        "id": "fJOL9coGwuCT",
        "colab": {
          "base_uri": "https://localhost:8080/"
        },
        "outputId": "a463e254-0f02-44a3-d801-79d14fd36d08"
      },
      "outputs": [
        {
          "output_type": "stream",
          "name": "stdout",
          "text": [
            "['The regulator, NHS Improvement, said it wanted more progress after the NHS had slipped behind schedule in its efforts to reduce the agency bill.', 'Last year £3.6bn was spent on agency staff, but the regulator wants that brought down by £1bn by the end of this financial year.', 'A cap was introduced in October and has so far saved £600m, the regulator said.', 'It means hospitals, mental health trusts and ambulance services should not be paying more than 55% above normal shift rates for any staff, from doctors and nurses to administration staff.', 'Only senior managers are exempted.', 'The aim was to reduce the overall cost of agency staff as well as getting hospitals to reduce their reliance on them.', 'Agency staff are more expensive because the NHS has to cover the agency fees and employers costs, such as National Insurance contributions, when it buys them in.', 'NHS Improvement said the progress being made was \"promising\", but it still leaves the NHS short.', 'The latest accounts suggested NHS trusts were 10% down on where they wanted to be.', 'And while the agency bill is falling it is not yet clear whether spending on other parts of the pay bill has risen.', 'The figures released by NHS Improvement do not cover NHS \"bank\" staff - effectively the health service\\'s in-house agency - or money spent getting employed staff to do overtime.', 'NHS Improvement said it would start publishing \"league tables\" of the best and worst-performing trusts on agency spending later this year.', 'Information on the 20 highest-earning agency staff per trust would also be collected amid suspicion some people are still earning large sums from agency work.', 'It found examples of hospitals being quoted double the rates for doctors.', 'In one case a trust was quoted £130 an hour for a surgeon when the cap is meant to be £76, while another was quoted £70 an hour for a junior doctor when the fee is meant to be £35.NHS Improvement chief executive Jim Mackey said: \"The NHS simply doesn\\'t have the money to keep forking out for hugely expensive agency staff.', 'There\\'s much more to be done.\".']\n"
          ]
        }
      ],
      "source": [
        "print(sentences)"
      ]
    },
    {
      "cell_type": "code",
      "execution_count": null,
      "metadata": {
        "id": "ol56e2p7wuE5",
        "colab": {
          "base_uri": "https://localhost:8080/"
        },
        "outputId": "d3ad2a39-171d-43e4-9e82-3f3031eb2088"
      },
      "outputs": [
        {
          "output_type": "stream",
          "name": "stdout",
          "text": [
            "Senetence are: \n",
            " ['The regulator, NHS Improvement, said it wanted more progress after the NHS had slipped behind schedule in its efforts to reduce the agency bill.', 'Last year £3.6bn was spent on agency staff, but the regulator wants that brought down by £1bn by the end of this financial year.', 'A cap was introduced in October and has so far saved £600m, the regulator said.', 'It means hospitals, mental health trusts and ambulance services should not be paying more than 55% above normal shift rates for any staff, from doctors and nurses to administration staff.', 'Only senior managers are exempted.', 'The aim was to reduce the overall cost of agency staff as well as getting hospitals to reduce their reliance on them.', 'Agency staff are more expensive because the NHS has to cover the agency fees and employers costs, such as National Insurance contributions, when it buys them in.', 'NHS Improvement said the progress being made was \"promising\", but it still leaves the NHS short.', 'The latest accounts suggested NHS trusts were 10% down on where they wanted to be.', 'And while the agency bill is falling it is not yet clear whether spending on other parts of the pay bill has risen.', 'The figures released by NHS Improvement do not cover NHS \"bank\" staff - effectively the health service\\'s in-house agency - or money spent getting employed staff to do overtime.', 'NHS Improvement said it would start publishing \"league tables\" of the best and worst-performing trusts on agency spending later this year.', 'Information on the 20 highest-earning agency staff per trust would also be collected amid suspicion some people are still earning large sums from agency work.', 'It found examples of hospitals being quoted double the rates for doctors.', 'In one case a trust was quoted £130 an hour for a surgeon when the cap is meant to be £76, while another was quoted £70 an hour for a junior doctor when the fee is meant to be £35.NHS Improvement chief executive Jim Mackey said: \"The NHS simply doesn\\'t have the money to keep forking out for hugely expensive agency staff.', 'There\\'s much more to be done.\".']\n"
          ]
        }
      ],
      "source": [
        "#Peeking into our tokenized sentences\n",
        "print(\"Senetence are: \\n\", sentences)"
      ]
    },
    {
      "cell_type": "code",
      "execution_count": null,
      "metadata": {
        "id": "TAAiBnIlwuH8"
      },
      "outputs": [],
      "source": [
        "#Creating sentence organizer\n",
        "# Let's create an organizer which will store the sentence ordering to later reorganize the \n",
        "# scored sentences in their correct order\n",
        "sentence_organizer = {k:v for v,k in enumerate(sentences)}"
      ]
    },
    {
      "cell_type": "code",
      "execution_count": null,
      "metadata": {
        "id": "SGJgCHQfw3oq",
        "colab": {
          "base_uri": "https://localhost:8080/"
        },
        "outputId": "338cbcde-ec92-4af3-bf0a-4346864bb0c8"
      },
      "outputs": [
        {
          "output_type": "stream",
          "name": "stdout",
          "text": [
            "Our sentence organizer: \n",
            " {'The regulator, NHS Improvement, said it wanted more progress after the NHS had slipped behind schedule in its efforts to reduce the agency bill.': 0, 'Last year £3.6bn was spent on agency staff, but the regulator wants that brought down by £1bn by the end of this financial year.': 1, 'A cap was introduced in October and has so far saved £600m, the regulator said.': 2, 'It means hospitals, mental health trusts and ambulance services should not be paying more than 55% above normal shift rates for any staff, from doctors and nurses to administration staff.': 3, 'Only senior managers are exempted.': 4, 'The aim was to reduce the overall cost of agency staff as well as getting hospitals to reduce their reliance on them.': 5, 'Agency staff are more expensive because the NHS has to cover the agency fees and employers costs, such as National Insurance contributions, when it buys them in.': 6, 'NHS Improvement said the progress being made was \"promising\", but it still leaves the NHS short.': 7, 'The latest accounts suggested NHS trusts were 10% down on where they wanted to be.': 8, 'And while the agency bill is falling it is not yet clear whether spending on other parts of the pay bill has risen.': 9, 'The figures released by NHS Improvement do not cover NHS \"bank\" staff - effectively the health service\\'s in-house agency - or money spent getting employed staff to do overtime.': 10, 'NHS Improvement said it would start publishing \"league tables\" of the best and worst-performing trusts on agency spending later this year.': 11, 'Information on the 20 highest-earning agency staff per trust would also be collected amid suspicion some people are still earning large sums from agency work.': 12, 'It found examples of hospitals being quoted double the rates for doctors.': 13, 'In one case a trust was quoted £130 an hour for a surgeon when the cap is meant to be £76, while another was quoted £70 an hour for a junior doctor when the fee is meant to be £35.NHS Improvement chief executive Jim Mackey said: \"The NHS simply doesn\\'t have the money to keep forking out for hugely expensive agency staff.': 14, 'There\\'s much more to be done.\".': 15}\n"
          ]
        }
      ],
      "source": [
        "#Peeking into our sentence organizer\n",
        "print(\"Our sentence organizer: \\n\", sentence_organizer)"
      ]
    },
    {
      "cell_type": "markdown",
      "metadata": {
        "id": "sz67ArgRw71n"
      },
      "source": [
        "semantic representatiom--->> converting text document into numerical representation.\n",
        "\n",
        "--->> techniques used to create semantic representation for texts =\n",
        "\n",
        "1)tf-idf vectorizer\n",
        "\n",
        "2)countvectorizer\n",
        "\n",
        "3)word2vec -\n",
        "\n",
        "cbow = from context predict the current word\n",
        "\n",
        "skip-gram = from single word predict the context\n",
        "\n",
        "4)BERT == Bidirectional Encoder Representation From Transformer\n",
        "\n",
        "BERT taking care of context.It will look before and after the current word and then give the numerical reprentation for word."
      ]
    },
    {
      "cell_type": "markdown",
      "metadata": {
        "id": "ptm1yjwf1meW"
      },
      "source": [
        "min_df ---->>\n",
        "\n",
        "float or int, default=1\n",
        "When building the vocabulary ignore terms that have a document frequency strictly lower than the given threshold. This value is also called cut-off in the literature.\n",
        "\n",
        "\n",
        "max_features --->>int, default=None\n",
        "If not None, build a vocabulary that only consider the top max_features ordered by term frequency across the corpus.\n",
        "\n",
        "strip_accents{‘ascii’, ‘unicode’}, default=None\n",
        "=====>>>\n",
        "Remove accents and perform other character normalization during the preprocessing step. ‘ascii’ is a fast method that only works on characters that have an direct ASCII mapping. ‘unicode’ is a slightly slower method that works on any characters. None (default) does nothing.\n",
        "\n",
        "Both ‘ascii’ and ‘unicode’ use NFKD normalization from unicodedata.normalize."
      ]
    },
    {
      "cell_type": "code",
      "execution_count": null,
      "metadata": {
        "id": "O4baBQUFw3q7"
      },
      "outputs": [],
      "source": [
        "#Creating TF-IDF model\n",
        "# Let's now create a tf-idf (Term frequnecy Inverse Document Frequency) model\n",
        "tf_idf_vectorizer = TfidfVectorizer(min_df=2,  max_features=None, \n",
        "                                    strip_accents='unicode', \n",
        "                                    analyzer='word',\n",
        "                                    token_pattern=r'\\w{1,}',\n",
        "                                    ngram_range=(1, 3), \n",
        "                                    use_idf=1,smooth_idf=1,\n",
        "                                    sublinear_tf=1,\n",
        "                                    stop_words = 'english')"
      ]
    },
    {
      "cell_type": "code",
      "execution_count": null,
      "metadata": {
        "id": "RqG4XsIRxCuT",
        "colab": {
          "base_uri": "https://localhost:8080/"
        },
        "outputId": "9f3eb597-78a1-408c-a373-781e4d87590a"
      },
      "outputs": [
        {
          "output_type": "execute_result",
          "data": {
            "text/plain": [
              "TfidfVectorizer(min_df=2, ngram_range=(1, 3), smooth_idf=1,\n",
              "                stop_words='english', strip_accents='unicode', sublinear_tf=1,\n",
              "                token_pattern='\\\\w{1,}', use_idf=1)"
            ]
          },
          "metadata": {},
          "execution_count": 13
        }
      ],
      "source": [
        "# Passing our sentences treating each as one document to TF-IDF vectorizer\n",
        "tf_idf_vectorizer.fit(sentences)"
      ]
    },
    {
      "cell_type": "code",
      "execution_count": null,
      "metadata": {
        "id": "fnXUDz-MxCxi"
      },
      "outputs": [],
      "source": [
        "# Transforming our sentences to TF-IDF vectors\n",
        "sentence_vectors = tf_idf_vectorizer.transform(sentences)"
      ]
    },
    {
      "cell_type": "code",
      "execution_count": null,
      "metadata": {
        "id": "--rojSX7xLFh",
        "colab": {
          "base_uri": "https://localhost:8080/"
        },
        "outputId": "858d9404-9df0-4639-86dd-9ce0daef58b3"
      },
      "outputs": [
        {
          "output_type": "execute_result",
          "data": {
            "text/plain": [
              "<16x29 sparse matrix of type '<class 'numpy.float64'>'\n",
              "\twith 92 stored elements in Compressed Sparse Row format>"
            ]
          },
          "metadata": {},
          "execution_count": 15
        }
      ],
      "source": [
        "sentence_vectors"
      ]
    },
    {
      "cell_type": "code",
      "execution_count": null,
      "metadata": {
        "id": "BjhrgBa8xLIG",
        "colab": {
          "base_uri": "https://localhost:8080/"
        },
        "outputId": "b5e3eae2-96ca-489f-f89b-c92e95514d41"
      },
      "outputs": [
        {
          "output_type": "stream",
          "name": "stdout",
          "text": [
            "True\n"
          ]
        }
      ],
      "source": [
        "# Getting sentence scores for each sentences\n",
        "sentence_scores = np.array(sentence_vectors.sum(axis=1)).ravel()\n",
        "\n",
        "# Sanity checkup\n",
        "print(len(sentences) == len(sentence_scores))"
      ]
    },
    {
      "cell_type": "code",
      "execution_count": null,
      "metadata": {
        "id": "EXoYaRtaxLKs",
        "colab": {
          "base_uri": "https://localhost:8080/"
        },
        "outputId": "877b17de-6d46-4e04-be77-f12a36b36bea"
      },
      "outputs": [
        {
          "output_type": "execute_result",
          "data": {
            "text/plain": [
              "(16, 16)"
            ]
          },
          "metadata": {},
          "execution_count": 17
        }
      ],
      "source": [
        "len(sentences),len(sentence_scores)"
      ]
    },
    {
      "cell_type": "code",
      "execution_count": null,
      "metadata": {
        "id": "eyJOswsbxQ5r"
      },
      "outputs": [],
      "source": [
        "# Getting top-n sentences\n",
        "N = 3\n",
        "top_n_sentences = [sentences[ind] for ind in np.argsort(sentence_scores, axis=0)[::-1][:N]]"
      ]
    },
    {
      "cell_type": "code",
      "execution_count": null,
      "metadata": {
        "id": "73XTXqwKxQ8u",
        "colab": {
          "base_uri": "https://localhost:8080/"
        },
        "outputId": "9b9db1b9-e695-4393-a0a3-a7b614a224d1"
      },
      "outputs": [
        {
          "output_type": "stream",
          "name": "stdout",
          "text": [
            "Our top_n_sentence with their index: \n",
            "\n",
            "('In one case a trust was quoted £130 an hour for a surgeon when the cap is meant to be £76, while another was quoted £70 an hour for a junior doctor when the fee is meant to be £35.NHS Improvement chief executive Jim Mackey said: \"The NHS simply doesn\\'t have the money to keep forking out for hugely expensive agency staff.', 14)\n",
            "('The regulator, NHS Improvement, said it wanted more progress after the NHS had slipped behind schedule in its efforts to reduce the agency bill.', 0)\n",
            "('The figures released by NHS Improvement do not cover NHS \"bank\" staff - effectively the health service\\'s in-house agency - or money spent getting employed staff to do overtime.', 10)\n"
          ]
        }
      ],
      "source": [
        "# Let's now do the sentence ordering using our prebaked sentence_organizer\n",
        "# Let's map the scored sentences with their indexes\n",
        "mapped_top_n_sentences = [(sentence,sentence_organizer[sentence]) for sentence in top_n_sentences]\n",
        "print(\"Our top_n_sentence with their index: \\n\")\n",
        "for element in mapped_top_n_sentences:\n",
        "    print(element)\n",
        "\n",
        "# Ordering our top-n sentences in their original ordering\n",
        "mapped_top_n_sentences = sorted(mapped_top_n_sentences, key = lambda x: x[1])\n",
        "ordered_scored_sentences = [element[0] for element in mapped_top_n_sentences]\n",
        "\n",
        "# Our final summary\n",
        "summary = \" \".join(ordered_scored_sentences)"
      ]
    },
    {
      "cell_type": "code",
      "execution_count": null,
      "metadata": {
        "id": "QEPZfmQtxQ_v",
        "colab": {
          "base_uri": "https://localhost:8080/",
          "height": 104
        },
        "outputId": "8e5ad18d-4273-4b7d-a744-71c125df4adf"
      },
      "outputs": [
        {
          "output_type": "execute_result",
          "data": {
            "text/plain": [
              "'The regulator, NHS Improvement, said it wanted more progress after the NHS had slipped behind schedule in its efforts to reduce the agency bill. The figures released by NHS Improvement do not cover NHS \"bank\" staff - effectively the health service\\'s in-house agency - or money spent getting employed staff to do overtime. In one case a trust was quoted £130 an hour for a surgeon when the cap is meant to be £76, while another was quoted £70 an hour for a junior doctor when the fee is meant to be £35.NHS Improvement chief executive Jim Mackey said: \"The NHS simply doesn\\'t have the money to keep forking out for hugely expensive agency staff.'"
            ],
            "application/vnd.google.colaboratory.intrinsic+json": {
              "type": "string"
            }
          },
          "metadata": {},
          "execution_count": 20
        }
      ],
      "source": [
        "summary"
      ]
    },
    {
      "cell_type": "code",
      "source": [
        "tf_idf_vectorizer.get_params()"
      ],
      "metadata": {
        "colab": {
          "base_uri": "https://localhost:8080/"
        },
        "id": "3sd0HmSK6rhH",
        "outputId": "a72e6d0b-f579-44e4-d4ca-f09087f00f63"
      },
      "execution_count": null,
      "outputs": [
        {
          "output_type": "execute_result",
          "data": {
            "text/plain": [
              "{'analyzer': 'word',\n",
              " 'binary': False,\n",
              " 'decode_error': 'strict',\n",
              " 'dtype': numpy.float64,\n",
              " 'encoding': 'utf-8',\n",
              " 'input': 'content',\n",
              " 'lowercase': True,\n",
              " 'max_df': 1.0,\n",
              " 'max_features': None,\n",
              " 'min_df': 2,\n",
              " 'ngram_range': (1, 3),\n",
              " 'norm': 'l2',\n",
              " 'preprocessor': None,\n",
              " 'smooth_idf': 1,\n",
              " 'stop_words': 'english',\n",
              " 'strip_accents': 'unicode',\n",
              " 'sublinear_tf': 1,\n",
              " 'token_pattern': '\\\\w{1,}',\n",
              " 'tokenizer': None,\n",
              " 'use_idf': 1,\n",
              " 'vocabulary': None}"
            ]
          },
          "metadata": {},
          "execution_count": 22
        }
      ]
    },
    {
      "cell_type": "code",
      "source": [
        ""
      ],
      "metadata": {
        "id": "7oL7wHPZ72PR"
      },
      "execution_count": null,
      "outputs": []
    }
  ],
  "metadata": {
    "colab": {
      "name": "tf_idf_summarization.ipynb",
      "provenance": []
    },
    "kernelspec": {
      "display_name": "Python 3",
      "name": "python3"
    },
    "language_info": {
      "name": "python"
    },
    "accelerator": "GPU"
  },
  "nbformat": 4,
  "nbformat_minor": 0
}