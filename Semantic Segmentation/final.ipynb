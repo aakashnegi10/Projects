{
 "cells": [
  {
   "cell_type": "code",
   "execution_count": 1,
   "metadata": {},
   "outputs": [
    {
     "ename": "ModuleNotFoundError",
     "evalue": "No module named 'imutils'",
     "output_type": "error",
     "traceback": [
      "\u001b[1;31m---------------------------------------------------------------------------\u001b[0m",
      "\u001b[1;31mModuleNotFoundError\u001b[0m                       Traceback (most recent call last)",
      "\u001b[1;32m<ipython-input-1-1f5c16c94d37>\u001b[0m in \u001b[0;36m<module>\u001b[1;34m\u001b[0m\n\u001b[0;32m      1\u001b[0m \u001b[1;32mimport\u001b[0m \u001b[0mnumpy\u001b[0m \u001b[1;32mas\u001b[0m \u001b[0mnp\u001b[0m\u001b[1;33m\u001b[0m\u001b[0m\n\u001b[0;32m      2\u001b[0m \u001b[1;32mimport\u001b[0m \u001b[0margparse\u001b[0m\u001b[1;33m\u001b[0m\u001b[0m\n\u001b[1;32m----> 3\u001b[1;33m \u001b[1;32mimport\u001b[0m \u001b[0mimutils\u001b[0m\u001b[1;33m\u001b[0m\u001b[0m\n\u001b[0m\u001b[0;32m      4\u001b[0m \u001b[1;32mimport\u001b[0m \u001b[0mtime\u001b[0m\u001b[1;33m\u001b[0m\u001b[0m\n\u001b[0;32m      5\u001b[0m \u001b[1;32mimport\u001b[0m \u001b[0mcv2\u001b[0m\u001b[1;33m\u001b[0m\u001b[0m\n",
      "\u001b[1;31mModuleNotFoundError\u001b[0m: No module named 'imutils'"
     ]
    }
   ],
   "source": [
    "import numpy as np\n",
    "import argparse\n",
    "import imutils\n",
    "import time\n",
    "import cv2\n",
    "\n",
    "ap = argparse.ArgumentParser()\n",
    "ap.add_argument(\"-m\", \"--model\", required=True,help=\"path to deep learning segmentation model\")\n",
    "ap.add_argument(\"-c\", \"--classes\", required=True,help=\"path to .txt file containing class labels\")\n",
    "ap.add_argument(\"-i\", \"--image\", required=True,help=\"path to input image\")\n",
    "ap.add_argument(\"-l\", \"--colors\", type=str,help=\"path to .txt file containing colors for labels\")\n",
    "ap.add_argument(\"-w\", \"--width\", type=int, default=500,help=\"desired width (in pixels) of input image\")\n",
    "args = vars(ap.parse_args())\n",
    "\n",
    "# load the class label names\n",
    "CLASSES = open(args[\"classes\"]).read().strip().split(\"\\n\")\n",
    "\n",
    "# if a colors file was supplied, load it from disk\n",
    "if args[\"colors\"]:\n",
    "    COLORS = open(args[\"colors\"]).read().strip().split(\"\\n\")\n",
    "    COLORS = [np.array(c.split(\",\")).astype(\"int\") for c in COLORS]\n",
    "    COLORS = np.array(COLORS, dtype=\"uint8\")\n",
    "\n",
    "else:\n",
    "# initialize a list of colors to represent each class label in the mask\n",
    "    np.random.seed(42)\n",
    "    COLORS = np.random.randint(0, 255, size=(len(CLASSES) - 1, 3),dtype=\"uint8\")\n",
    "    COLORS = np.vstack([[0, 0, 0], COLORS]).astype(\"uint8\")\n",
    "\n",
    "# initialize the legend visualization\n",
    "legend = np.zeros(((len(CLASSES) * 25) + 25, 300, 3), dtype=\"uint8\")\n",
    "\n",
    "# loop over the class names + colors\n",
    "for (i, (className, color)) in enumerate(zip(CLASSES, COLORS)):\n",
    "    color = [int(c) for c in color]\n",
    "    cv2.putText(legend, className, (5, (i * 25) + 17),cv2.FONT_HERSHEY_SIMPLEX, 0.5, (0, 0, 255), 2)\n",
    "    cv2.rectangle(legend, (100, (i * 25)), (300, (i * 25) + 25),tuple(color), -1)\n",
    "\n",
    "# load our serialized model from disk\n",
    "print(\"[INFO] loading model...\")\n",
    "net = cv2.dnn.readNet(args[\"model\"])\n",
    "\n",
    "# load the input image, resize it, and construct a blob from it,\n",
    "\n",
    "image = cv2.imread(args[\"image\"])\n",
    "image = imutils.resize(image, width=args[\"width\"])\n",
    "blob = cv2.dnn.blobFromImage(image, 1 / 255.0, (1024, 512), 0,swapRB=True, crop=False)\n",
    "\n",
    "net.setInput(blob)\n",
    "start = time.time()\n",
    "output = net.forward()\n",
    "end = time.time()\n",
    "\n",
    "print(\"[INFO] inference took {:.4f} seconds\".format(end - start))\n",
    "(numClasses, height, width) = output.shape[1:4]\n",
    "classMap = np.argmax(output[0], axis=0)\n",
    "\n",
    "mask = COLORS[classMap]\n",
    "\n",
    "mask = cv2.resize(mask, (image.shape[1], image.shape[0]),interpolation=cv2.INTER_NEAREST)\n",
    "classMap = cv2.resize(classMap, (image.shape[1], image.shape[0]),interpolation=cv2.INTER_NEAREST)\n",
    "\n",
    "output = ((0.4 * image) + (0.6 * mask)).astype(\"uint8\")\n",
    "\n",
    "# show the input and output images\n",
    "cv2.imshow(\"Legend\", legend)\n",
    "cv2.imshow(\"Input\", image)\n",
    "cv2.imshow(\"Output\", output)\n",
    "cv2.waitKey(0)"
   ]
  },
  {
   "cell_type": "code",
   "execution_count": null,
   "metadata": {},
   "outputs": [],
   "source": []
  }
 ],
 "metadata": {
  "kernelspec": {
   "display_name": "Python 3",
   "language": "python",
   "name": "python3"
  },
  "language_info": {
   "codemirror_mode": {
    "name": "ipython",
    "version": 3
   },
   "file_extension": ".py",
   "mimetype": "text/x-python",
   "name": "python",
   "nbconvert_exporter": "python",
   "pygments_lexer": "ipython3",
   "version": "3.6.5"
  }
 },
 "nbformat": 4,
 "nbformat_minor": 2
}
